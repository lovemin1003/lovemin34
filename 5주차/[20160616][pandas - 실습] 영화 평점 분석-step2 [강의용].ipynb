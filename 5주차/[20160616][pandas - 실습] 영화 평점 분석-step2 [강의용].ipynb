{
 "cells": [
  {
   "cell_type": "markdown",
   "metadata": {},
   "source": [
    "# 영화 평점 분석 실습"
   ]
  },
  {
   "cell_type": "code",
   "execution_count": 1,
   "metadata": {},
   "outputs": [],
   "source": [
    "# 라이브러리 불러오기\n",
    "import pandas as pd"
   ]
  },
  {
   "cell_type": "markdown",
   "metadata": {},
   "source": [
    "## 1. 영화 평점 데이터 적재 및 결합"
   ]
  },
  {
   "cell_type": "code",
   "execution_count": 2,
   "metadata": {},
   "outputs": [
    {
     "data": {
      "text/html": [
       "<div>\n",
       "<style scoped>\n",
       "    .dataframe tbody tr th:only-of-type {\n",
       "        vertical-align: middle;\n",
       "    }\n",
       "\n",
       "    .dataframe tbody tr th {\n",
       "        vertical-align: top;\n",
       "    }\n",
       "\n",
       "    .dataframe thead th {\n",
       "        text-align: right;\n",
       "    }\n",
       "</style>\n",
       "<table border=\"1\" class=\"dataframe\">\n",
       "  <thead>\n",
       "    <tr style=\"text-align: right;\">\n",
       "      <th></th>\n",
       "      <th>사용자아이디</th>\n",
       "      <th>성별</th>\n",
       "      <th>연령</th>\n",
       "      <th>직업</th>\n",
       "      <th>지역</th>\n",
       "    </tr>\n",
       "  </thead>\n",
       "  <tbody>\n",
       "    <tr>\n",
       "      <th>0</th>\n",
       "      <td>1</td>\n",
       "      <td>F</td>\n",
       "      <td>1</td>\n",
       "      <td>10</td>\n",
       "      <td>48067</td>\n",
       "    </tr>\n",
       "    <tr>\n",
       "      <th>1</th>\n",
       "      <td>2</td>\n",
       "      <td>M</td>\n",
       "      <td>56</td>\n",
       "      <td>16</td>\n",
       "      <td>70072</td>\n",
       "    </tr>\n",
       "    <tr>\n",
       "      <th>2</th>\n",
       "      <td>3</td>\n",
       "      <td>M</td>\n",
       "      <td>25</td>\n",
       "      <td>15</td>\n",
       "      <td>55117</td>\n",
       "    </tr>\n",
       "    <tr>\n",
       "      <th>3</th>\n",
       "      <td>4</td>\n",
       "      <td>M</td>\n",
       "      <td>45</td>\n",
       "      <td>7</td>\n",
       "      <td>02460</td>\n",
       "    </tr>\n",
       "    <tr>\n",
       "      <th>4</th>\n",
       "      <td>5</td>\n",
       "      <td>M</td>\n",
       "      <td>25</td>\n",
       "      <td>20</td>\n",
       "      <td>55455</td>\n",
       "    </tr>\n",
       "  </tbody>\n",
       "</table>\n",
       "</div>"
      ],
      "text/plain": [
       "   사용자아이디 성별  연령  직업     지역\n",
       "0       1  F   1  10  48067\n",
       "1       2  M  56  16  70072\n",
       "2       3  M  25  15  55117\n",
       "3       4  M  45   7  02460\n",
       "4       5  M  25  20  55455"
      ]
     },
     "execution_count": 2,
     "metadata": {},
     "output_type": "execute_result"
    }
   ],
   "source": [
    "# 사용자 정보 적재\n",
    "users = pd.read_csv('movie_users.csv')\n",
    "users.drop('Unnamed: 0', axis=1, inplace=True)\n",
    "users.head()"
   ]
  },
  {
   "cell_type": "code",
   "execution_count": 3,
   "metadata": {},
   "outputs": [
    {
     "data": {
      "text/html": [
       "<div>\n",
       "<style scoped>\n",
       "    .dataframe tbody tr th:only-of-type {\n",
       "        vertical-align: middle;\n",
       "    }\n",
       "\n",
       "    .dataframe tbody tr th {\n",
       "        vertical-align: top;\n",
       "    }\n",
       "\n",
       "    .dataframe thead th {\n",
       "        text-align: right;\n",
       "    }\n",
       "</style>\n",
       "<table border=\"1\" class=\"dataframe\">\n",
       "  <thead>\n",
       "    <tr style=\"text-align: right;\">\n",
       "      <th></th>\n",
       "      <th>사용자아이디</th>\n",
       "      <th>영화아이디</th>\n",
       "      <th>평점</th>\n",
       "      <th>타임스탬프</th>\n",
       "    </tr>\n",
       "  </thead>\n",
       "  <tbody>\n",
       "    <tr>\n",
       "      <th>0</th>\n",
       "      <td>1</td>\n",
       "      <td>1193</td>\n",
       "      <td>5</td>\n",
       "      <td>978300760</td>\n",
       "    </tr>\n",
       "    <tr>\n",
       "      <th>1</th>\n",
       "      <td>1</td>\n",
       "      <td>661</td>\n",
       "      <td>3</td>\n",
       "      <td>978302109</td>\n",
       "    </tr>\n",
       "    <tr>\n",
       "      <th>2</th>\n",
       "      <td>1</td>\n",
       "      <td>914</td>\n",
       "      <td>3</td>\n",
       "      <td>978301968</td>\n",
       "    </tr>\n",
       "    <tr>\n",
       "      <th>3</th>\n",
       "      <td>1</td>\n",
       "      <td>3408</td>\n",
       "      <td>4</td>\n",
       "      <td>978300275</td>\n",
       "    </tr>\n",
       "    <tr>\n",
       "      <th>4</th>\n",
       "      <td>1</td>\n",
       "      <td>2355</td>\n",
       "      <td>5</td>\n",
       "      <td>978824291</td>\n",
       "    </tr>\n",
       "  </tbody>\n",
       "</table>\n",
       "</div>"
      ],
      "text/plain": [
       "   사용자아이디  영화아이디  평점      타임스탬프\n",
       "0       1   1193   5  978300760\n",
       "1       1    661   3  978302109\n",
       "2       1    914   3  978301968\n",
       "3       1   3408   4  978300275\n",
       "4       1   2355   5  978824291"
      ]
     },
     "execution_count": 3,
     "metadata": {},
     "output_type": "execute_result"
    }
   ],
   "source": [
    "# 영화 평점 정보 적재\n",
    "ratings = pd.read_csv('movie_ratings.csv')\n",
    "ratings.drop('Unnamed: 0', axis=1, inplace=True)\n",
    "ratings.head()"
   ]
  },
  {
   "cell_type": "code",
   "execution_count": 4,
   "metadata": {},
   "outputs": [
    {
     "data": {
      "text/html": [
       "<div>\n",
       "<style scoped>\n",
       "    .dataframe tbody tr th:only-of-type {\n",
       "        vertical-align: middle;\n",
       "    }\n",
       "\n",
       "    .dataframe tbody tr th {\n",
       "        vertical-align: top;\n",
       "    }\n",
       "\n",
       "    .dataframe thead th {\n",
       "        text-align: right;\n",
       "    }\n",
       "</style>\n",
       "<table border=\"1\" class=\"dataframe\">\n",
       "  <thead>\n",
       "    <tr style=\"text-align: right;\">\n",
       "      <th></th>\n",
       "      <th>영화아이디</th>\n",
       "      <th>제목</th>\n",
       "      <th>장르</th>\n",
       "    </tr>\n",
       "  </thead>\n",
       "  <tbody>\n",
       "    <tr>\n",
       "      <th>0</th>\n",
       "      <td>1</td>\n",
       "      <td>Toy Story (1995)</td>\n",
       "      <td>Animation|Children's|Comedy</td>\n",
       "    </tr>\n",
       "    <tr>\n",
       "      <th>1</th>\n",
       "      <td>2</td>\n",
       "      <td>Jumanji (1995)</td>\n",
       "      <td>Adventure|Children's|Fantasy</td>\n",
       "    </tr>\n",
       "    <tr>\n",
       "      <th>2</th>\n",
       "      <td>3</td>\n",
       "      <td>Grumpier Old Men (1995)</td>\n",
       "      <td>Comedy|Romance</td>\n",
       "    </tr>\n",
       "    <tr>\n",
       "      <th>3</th>\n",
       "      <td>4</td>\n",
       "      <td>Waiting to Exhale (1995)</td>\n",
       "      <td>Comedy|Drama</td>\n",
       "    </tr>\n",
       "    <tr>\n",
       "      <th>4</th>\n",
       "      <td>5</td>\n",
       "      <td>Father of the Bride Part II (1995)</td>\n",
       "      <td>Comedy</td>\n",
       "    </tr>\n",
       "  </tbody>\n",
       "</table>\n",
       "</div>"
      ],
      "text/plain": [
       "   영화아이디                                  제목                            장르\n",
       "0      1                    Toy Story (1995)   Animation|Children's|Comedy\n",
       "1      2                      Jumanji (1995)  Adventure|Children's|Fantasy\n",
       "2      3             Grumpier Old Men (1995)                Comedy|Romance\n",
       "3      4            Waiting to Exhale (1995)                  Comedy|Drama\n",
       "4      5  Father of the Bride Part II (1995)                        Comedy"
      ]
     },
     "execution_count": 4,
     "metadata": {},
     "output_type": "execute_result"
    }
   ],
   "source": [
    "# 영화 정보 적재\n",
    "movies = pd.read_csv('movie_details.csv')\n",
    "movies.drop('Unnamed: 0', axis=1, inplace=True)\n",
    "movies.head()"
   ]
  },
  {
   "cell_type": "code",
   "execution_count": 5,
   "metadata": {},
   "outputs": [
    {
     "name": "stdout",
     "output_type": "stream",
     "text": [
      "사용자수 : 6040\n",
      "영화수 : 3883\n",
      "평점수 : 1000209\n"
     ]
    }
   ],
   "source": [
    "# 사용자수, 영화수, 평점수 개수 확인\n",
    "print('''사용자수 : {}\n",
    "영화수 : {}\n",
    "평점수 : {}'''.format(len(users), len(movies), len(ratings)))"
   ]
  },
  {
   "cell_type": "markdown",
   "metadata": {},
   "source": [
    "### 1. 데이터 결합\n",
    "#### 1-1) 사용자 데이터와 영화 평점 데이터를 사용자아이디 컬럼 기준으로 공통으로 존재하는 데이터만 결합"
   ]
  },
  {
   "cell_type": "code",
   "execution_count": null,
   "metadata": {},
   "outputs": [],
   "source": [
    "users.columns"
   ]
  },
  {
   "cell_type": "code",
   "execution_count": null,
   "metadata": {},
   "outputs": [],
   "source": [
    "ratings.columns"
   ]
  },
  {
   "cell_type": "code",
   "execution_count": null,
   "metadata": {},
   "outputs": [],
   "source": [
    "users.shape"
   ]
  },
  {
   "cell_type": "code",
   "execution_count": null,
   "metadata": {},
   "outputs": [],
   "source": [
    "ratings.shape"
   ]
  },
  {
   "cell_type": "code",
   "execution_count": 6,
   "metadata": {},
   "outputs": [
    {
     "data": {
      "text/plain": [
       "(1000209, 8)"
      ]
     },
     "execution_count": 6,
     "metadata": {},
     "output_type": "execute_result"
    }
   ],
   "source": [
    "# 평점을 남긴 사용자의 아이디는 users에 모두 존재하는 아이디\n",
    "data1 = pd.merge(users, ratings)\n",
    "data1.shape"
   ]
  },
  {
   "cell_type": "markdown",
   "metadata": {},
   "source": [
    "#### 1-2) 1번 결과에 영화 아이디 컬럼 기준으로 영화 정보 추가하기"
   ]
  },
  {
   "cell_type": "code",
   "execution_count": null,
   "metadata": {},
   "outputs": [],
   "source": [
    "data1.head()"
   ]
  },
  {
   "cell_type": "code",
   "execution_count": null,
   "metadata": {},
   "outputs": [],
   "source": [
    "movies.head()"
   ]
  },
  {
   "cell_type": "code",
   "execution_count": 7,
   "metadata": {},
   "outputs": [
    {
     "data": {
      "text/html": [
       "<div>\n",
       "<style scoped>\n",
       "    .dataframe tbody tr th:only-of-type {\n",
       "        vertical-align: middle;\n",
       "    }\n",
       "\n",
       "    .dataframe tbody tr th {\n",
       "        vertical-align: top;\n",
       "    }\n",
       "\n",
       "    .dataframe thead th {\n",
       "        text-align: right;\n",
       "    }\n",
       "</style>\n",
       "<table border=\"1\" class=\"dataframe\">\n",
       "  <thead>\n",
       "    <tr style=\"text-align: right;\">\n",
       "      <th></th>\n",
       "      <th>사용자아이디</th>\n",
       "      <th>성별</th>\n",
       "      <th>연령</th>\n",
       "      <th>직업</th>\n",
       "      <th>지역</th>\n",
       "      <th>영화아이디</th>\n",
       "      <th>평점</th>\n",
       "      <th>타임스탬프</th>\n",
       "      <th>제목</th>\n",
       "      <th>장르</th>\n",
       "    </tr>\n",
       "  </thead>\n",
       "  <tbody>\n",
       "    <tr>\n",
       "      <th>0</th>\n",
       "      <td>1</td>\n",
       "      <td>F</td>\n",
       "      <td>1</td>\n",
       "      <td>10</td>\n",
       "      <td>48067</td>\n",
       "      <td>1193</td>\n",
       "      <td>5</td>\n",
       "      <td>978300760</td>\n",
       "      <td>One Flew Over the Cuckoo's Nest (1975)</td>\n",
       "      <td>Drama</td>\n",
       "    </tr>\n",
       "    <tr>\n",
       "      <th>1</th>\n",
       "      <td>2</td>\n",
       "      <td>M</td>\n",
       "      <td>56</td>\n",
       "      <td>16</td>\n",
       "      <td>70072</td>\n",
       "      <td>1193</td>\n",
       "      <td>5</td>\n",
       "      <td>978298413</td>\n",
       "      <td>One Flew Over the Cuckoo's Nest (1975)</td>\n",
       "      <td>Drama</td>\n",
       "    </tr>\n",
       "    <tr>\n",
       "      <th>2</th>\n",
       "      <td>12</td>\n",
       "      <td>M</td>\n",
       "      <td>25</td>\n",
       "      <td>12</td>\n",
       "      <td>32793</td>\n",
       "      <td>1193</td>\n",
       "      <td>4</td>\n",
       "      <td>978220179</td>\n",
       "      <td>One Flew Over the Cuckoo's Nest (1975)</td>\n",
       "      <td>Drama</td>\n",
       "    </tr>\n",
       "    <tr>\n",
       "      <th>3</th>\n",
       "      <td>15</td>\n",
       "      <td>M</td>\n",
       "      <td>25</td>\n",
       "      <td>7</td>\n",
       "      <td>22903</td>\n",
       "      <td>1193</td>\n",
       "      <td>4</td>\n",
       "      <td>978199279</td>\n",
       "      <td>One Flew Over the Cuckoo's Nest (1975)</td>\n",
       "      <td>Drama</td>\n",
       "    </tr>\n",
       "    <tr>\n",
       "      <th>4</th>\n",
       "      <td>17</td>\n",
       "      <td>M</td>\n",
       "      <td>50</td>\n",
       "      <td>1</td>\n",
       "      <td>95350</td>\n",
       "      <td>1193</td>\n",
       "      <td>5</td>\n",
       "      <td>978158471</td>\n",
       "      <td>One Flew Over the Cuckoo's Nest (1975)</td>\n",
       "      <td>Drama</td>\n",
       "    </tr>\n",
       "  </tbody>\n",
       "</table>\n",
       "</div>"
      ],
      "text/plain": [
       "   사용자아이디 성별  연령  직업     지역  영화아이디  평점      타임스탬프  \\\n",
       "0       1  F   1  10  48067   1193   5  978300760   \n",
       "1       2  M  56  16  70072   1193   5  978298413   \n",
       "2      12  M  25  12  32793   1193   4  978220179   \n",
       "3      15  M  25   7  22903   1193   4  978199279   \n",
       "4      17  M  50   1  95350   1193   5  978158471   \n",
       "\n",
       "                                       제목     장르  \n",
       "0  One Flew Over the Cuckoo's Nest (1975)  Drama  \n",
       "1  One Flew Over the Cuckoo's Nest (1975)  Drama  \n",
       "2  One Flew Over the Cuckoo's Nest (1975)  Drama  \n",
       "3  One Flew Over the Cuckoo's Nest (1975)  Drama  \n",
       "4  One Flew Over the Cuckoo's Nest (1975)  Drama  "
      ]
     },
     "execution_count": 7,
     "metadata": {},
     "output_type": "execute_result"
    }
   ],
   "source": [
    "data2 = pd.merge(data1, movies)\n",
    "data2.head()"
   ]
  },
  {
   "cell_type": "code",
   "execution_count": 8,
   "metadata": {},
   "outputs": [
    {
     "data": {
      "text/plain": [
       "(1000209, 10)"
      ]
     },
     "execution_count": 8,
     "metadata": {},
     "output_type": "execute_result"
    }
   ],
   "source": [
    "# data1에 있던 영화 아이디는 모두 movies의 영화 아이디에 포함\n",
    "data2.shape"
   ]
  },
  {
   "cell_type": "markdown",
   "metadata": {},
   "source": [
    "### 2. 인기 있는 영화 10개 찾기\n",
    "\n",
    "- 기준 : 평점이 4.5 이상이고 평점 개수가 2000개 이상인 영화"
   ]
  },
  {
   "cell_type": "code",
   "execution_count": null,
   "metadata": {},
   "outputs": [],
   "source": [
    "# 평점이 높은 순서로 정렬\n",
    "data2.sort_values(by='평점', ascending=False).head(10)"
   ]
  },
  {
   "cell_type": "code",
   "execution_count": null,
   "metadata": {},
   "outputs": [],
   "source": [
    "# 하나의 영화에 여러개의 평점이 존재하는 1 : N 관계 => 평균\n",
    "# 영화아이디별 평균 평점\n",
    "# 로우 : 아이디/ 제목\n",
    "# 값 : 평점\n",
    "# 집계함수 : 평균\n",
    "data2.pivot_table(index='제목', values='평점', aggfunc='mean').head()"
   ]
  },
  {
   "cell_type": "code",
   "execution_count": null,
   "metadata": {},
   "outputs": [],
   "source": [
    "# 평균 평점을 기준으로 내림차순 정렬\n",
    "data2.pivot_table(index='제목', values='평점', aggfunc='mean').sort_values(by='평점', ascending=False).head()"
   ]
  },
  {
   "cell_type": "code",
   "execution_count": null,
   "metadata": {},
   "outputs": [],
   "source": [
    "# 평점 - 평균, 개수\n",
    "# 로우 : 제목\n",
    "# 값 : 평점\n",
    "# 집계함수 : mean, count\n",
    "r1 = data2.pivot_table(index='제목', values='평점', aggfunc=['mean', 'count'])"
   ]
  },
  {
   "cell_type": "code",
   "execution_count": null,
   "metadata": {},
   "outputs": [],
   "source": [
    "# 평균 평점, 평점 개수\n",
    "# 평점기준으로 내림차순 정렬\n",
    "r1.head()\n",
    "r1.columns"
   ]
  },
  {
   "cell_type": "code",
   "execution_count": null,
   "metadata": {},
   "outputs": [],
   "source": [
    "# 하위 계층인 평점에 대해서 정렬하기\n",
    "# 계층 색인을 모두 전달 => 튜플, 순서 맞춰서 전달\n",
    "r1.sort_values(by=('mean','평점'), ascending=False).head()"
   ]
  },
  {
   "cell_type": "code",
   "execution_count": null,
   "metadata": {},
   "outputs": [],
   "source": [
    "# r1에 대해 컬럼의 계층색인 재배열\n",
    "# 평점 -> 상위, mean & count -> 하위\n",
    "r2 = r1.swaplevel(1, 0, axis=1)"
   ]
  },
  {
   "cell_type": "code",
   "execution_count": null,
   "metadata": {},
   "outputs": [],
   "source": [
    "# 평균평점이 동일할 경우, 평점개수가 많은 순서로 정렬\n",
    "r2.sort_values(by=[('평점', 'mean'),('평점', 'count')], ascending=[False, False]).head()"
   ]
  },
  {
   "cell_type": "code",
   "execution_count": null,
   "metadata": {},
   "outputs": [],
   "source": [
    "# 평점평균이 4.5 이상이고 평점 개수가 2000개 이상인 영화\n",
    "# r2[('평점', 'mean')]\n",
    "result = r2[(r2['평점']['mean'] >= 4.5) & (r2['평점']['count'] >= 2000)]"
   ]
  },
  {
   "cell_type": "code",
   "execution_count": null,
   "metadata": {
    "scrolled": true
   },
   "outputs": [],
   "source": [
    "result.index"
   ]
  },
  {
   "cell_type": "markdown",
   "metadata": {},
   "source": [
    "### ▼ 이어서 진행\n",
    "### 3. 여자들이 좋아하는 영화의 장르 찾기 \n",
    "\n",
    "- 기준 : 여성 평균 평점이 4.0 이상이고 여성 평점의 개수가 500개 이상인 영화\n",
    "- 최종 결과 : 평점 기준 상위 10위 장르 정보"
   ]
  },
  {
   "cell_type": "code",
   "execution_count": 9,
   "metadata": {},
   "outputs": [
    {
     "data": {
      "text/plain": [
       "Index(['사용자아이디', '성별', '연령', '직업', '지역', '영화아이디', '평점', '타임스탬프', '제목', '장르'], dtype='object')"
      ]
     },
     "execution_count": 9,
     "metadata": {},
     "output_type": "execute_result"
    }
   ],
   "source": [
    "data2.columns"
   ]
  },
  {
   "cell_type": "code",
   "execution_count": 13,
   "metadata": {},
   "outputs": [],
   "source": [
    "female_data = data2[data2['성별'] == 'F'].copy()"
   ]
  },
  {
   "cell_type": "code",
   "execution_count": 15,
   "metadata": {},
   "outputs": [
    {
     "data": {
      "text/plain": [
       "(1000209, 10)"
      ]
     },
     "execution_count": 15,
     "metadata": {},
     "output_type": "execute_result"
    }
   ],
   "source": [
    "data2.shape"
   ]
  },
  {
   "cell_type": "code",
   "execution_count": 17,
   "metadata": {},
   "outputs": [
    {
     "data": {
      "text/plain": [
       "0.24638850480249627"
      ]
     },
     "execution_count": 17,
     "metadata": {},
     "output_type": "execute_result"
    }
   ],
   "source": [
    "female_data.shape[0] / data2.shape[0]"
   ]
  },
  {
   "cell_type": "code",
   "execution_count": 20,
   "metadata": {},
   "outputs": [],
   "source": [
    "# 평점의 평균이 4.0 이상, 개수가 500개 이상\n",
    "# 기준값 : 영화당 평점의 평균, 개수\n",
    "tmp1 = female_data.pivot_table(index='제목', values='평점',\n",
    "                        aggfunc=['mean', 'count'])"
   ]
  },
  {
   "cell_type": "code",
   "execution_count": 26,
   "metadata": {},
   "outputs": [
    {
     "data": {
      "text/plain": [
       "(16, 10)"
      ]
     },
     "execution_count": 26,
     "metadata": {},
     "output_type": "execute_result"
    }
   ],
   "source": [
    "female_data[female_data['제목'] == '$1,000,000 Duck (1971)'].shape"
   ]
  },
  {
   "cell_type": "code",
   "execution_count": 27,
   "metadata": {},
   "outputs": [
    {
     "data": {
      "text/plain": [
       "3.375"
      ]
     },
     "execution_count": 27,
     "metadata": {},
     "output_type": "execute_result"
    }
   ],
   "source": [
    "female_data[female_data['제목'] == '$1,000,000 Duck (1971)']['평점'].mean()"
   ]
  },
  {
   "cell_type": "code",
   "execution_count": 23,
   "metadata": {},
   "outputs": [],
   "source": [
    "# 컬럼 계층 변경 : 보기 편한 구조로 바꾸기 위함\n",
    "tmp1 = tmp1.swaplevel(1,0,axis=1)"
   ]
  },
  {
   "cell_type": "code",
   "execution_count": 31,
   "metadata": {},
   "outputs": [],
   "source": [
    "# 제목으로 index를 지정한 경우\n",
    "# 제목 값을 기준으로 장르 값을 찾아야한다.\n",
    "female_movies = tmp1[(tmp1[('평점', 'mean')] >= 4.0) & (tmp1[('평점','count')] >=500)].index\n",
    "female_movie_df = tmp1[(tmp1[('평점', 'mean')] >= 4.0) & (tmp1[('평점','count')] >=500)].copy()"
   ]
  },
  {
   "cell_type": "code",
   "execution_count": 32,
   "metadata": {
    "collapsed": true
   },
   "outputs": [
    {
     "data": {
      "text/html": [
       "<div>\n",
       "<style scoped>\n",
       "    .dataframe tbody tr th:only-of-type {\n",
       "        vertical-align: middle;\n",
       "    }\n",
       "\n",
       "    .dataframe tbody tr th {\n",
       "        vertical-align: top;\n",
       "    }\n",
       "\n",
       "    .dataframe thead th {\n",
       "        text-align: right;\n",
       "    }\n",
       "</style>\n",
       "<table border=\"1\" class=\"dataframe\">\n",
       "  <thead>\n",
       "    <tr style=\"text-align: right;\">\n",
       "      <th></th>\n",
       "      <th>영화아이디</th>\n",
       "      <th>제목</th>\n",
       "      <th>장르</th>\n",
       "    </tr>\n",
       "  </thead>\n",
       "  <tbody>\n",
       "    <tr>\n",
       "      <th>0</th>\n",
       "      <td>1</td>\n",
       "      <td>Toy Story (1995)</td>\n",
       "      <td>Animation|Children's|Comedy</td>\n",
       "    </tr>\n",
       "    <tr>\n",
       "      <th>1</th>\n",
       "      <td>2</td>\n",
       "      <td>Jumanji (1995)</td>\n",
       "      <td>Adventure|Children's|Fantasy</td>\n",
       "    </tr>\n",
       "    <tr>\n",
       "      <th>2</th>\n",
       "      <td>3</td>\n",
       "      <td>Grumpier Old Men (1995)</td>\n",
       "      <td>Comedy|Romance</td>\n",
       "    </tr>\n",
       "    <tr>\n",
       "      <th>3</th>\n",
       "      <td>4</td>\n",
       "      <td>Waiting to Exhale (1995)</td>\n",
       "      <td>Comedy|Drama</td>\n",
       "    </tr>\n",
       "    <tr>\n",
       "      <th>4</th>\n",
       "      <td>5</td>\n",
       "      <td>Father of the Bride Part II (1995)</td>\n",
       "      <td>Comedy</td>\n",
       "    </tr>\n",
       "  </tbody>\n",
       "</table>\n",
       "</div>"
      ],
      "text/plain": [
       "   영화아이디                                  제목                            장르\n",
       "0      1                    Toy Story (1995)   Animation|Children's|Comedy\n",
       "1      2                      Jumanji (1995)  Adventure|Children's|Fantasy\n",
       "2      3             Grumpier Old Men (1995)                Comedy|Romance\n",
       "3      4            Waiting to Exhale (1995)                  Comedy|Drama\n",
       "4      5  Father of the Bride Part II (1995)                        Comedy"
      ]
     },
     "execution_count": 32,
     "metadata": {},
     "output_type": "execute_result"
    }
   ],
   "source": [
    "movies.head()"
   ]
  },
  {
   "cell_type": "code",
   "execution_count": 35,
   "metadata": {},
   "outputs": [],
   "source": [
    "# 공통 컬럼으로 결합 => merge\n",
    "tmp = female_movie_df.reset_index()"
   ]
  },
  {
   "cell_type": "code",
   "execution_count": 40,
   "metadata": {
    "collapsed": true
   },
   "outputs": [
    {
     "data": {
      "text/html": [
       "<div>\n",
       "<style scoped>\n",
       "    .dataframe tbody tr th:only-of-type {\n",
       "        vertical-align: middle;\n",
       "    }\n",
       "\n",
       "    .dataframe tbody tr th {\n",
       "        vertical-align: top;\n",
       "    }\n",
       "\n",
       "    .dataframe thead th {\n",
       "        text-align: right;\n",
       "    }\n",
       "</style>\n",
       "<table border=\"1\" class=\"dataframe\">\n",
       "  <thead>\n",
       "    <tr style=\"text-align: right;\">\n",
       "      <th></th>\n",
       "      <th>제목</th>\n",
       "      <th>장르</th>\n",
       "    </tr>\n",
       "  </thead>\n",
       "  <tbody>\n",
       "    <tr>\n",
       "      <th>0</th>\n",
       "      <td>American Beauty (1999)</td>\n",
       "      <td>Comedy|Drama</td>\n",
       "    </tr>\n",
       "    <tr>\n",
       "      <th>1</th>\n",
       "      <td>Being John Malkovich (1999)</td>\n",
       "      <td>Comedy</td>\n",
       "    </tr>\n",
       "    <tr>\n",
       "      <th>2</th>\n",
       "      <td>Braveheart (1995)</td>\n",
       "      <td>Action|Drama|War</td>\n",
       "    </tr>\n",
       "    <tr>\n",
       "      <th>3</th>\n",
       "      <td>Casablanca (1942)</td>\n",
       "      <td>Drama|Romance|War</td>\n",
       "    </tr>\n",
       "    <tr>\n",
       "      <th>4</th>\n",
       "      <td>E.T. the Extra-Terrestrial (1982)</td>\n",
       "      <td>Children's|Drama|Fantasy|Sci-Fi</td>\n",
       "    </tr>\n",
       "  </tbody>\n",
       "</table>\n",
       "</div>"
      ],
      "text/plain": [
       "                                  제목                               장르\n",
       "0             American Beauty (1999)                     Comedy|Drama\n",
       "1        Being John Malkovich (1999)                           Comedy\n",
       "2                  Braveheart (1995)                 Action|Drama|War\n",
       "3                  Casablanca (1942)                Drama|Romance|War\n",
       "4  E.T. the Extra-Terrestrial (1982)  Children's|Drama|Fantasy|Sci-Fi"
      ]
     },
     "execution_count": 40,
     "metadata": {},
     "output_type": "execute_result"
    }
   ],
   "source": [
    "tmp.merge(movies, on='제목')[['제목', '장르']].head()"
   ]
  },
  {
   "cell_type": "code",
   "execution_count": 42,
   "metadata": {},
   "outputs": [],
   "source": [
    "# 처음부터 장르값 가져오기\n",
    "tmp2 = female_data.pivot_table(index='장르', values='평점',\n",
    "                       aggfunc=['mean','count'])"
   ]
  },
  {
   "cell_type": "code",
   "execution_count": 56,
   "metadata": {},
   "outputs": [
    {
     "data": {
      "text/plain": [
       "(9, 2)"
      ]
     },
     "execution_count": 56,
     "metadata": {},
     "output_type": "execute_result"
    }
   ],
   "source": [
    "tmp2[(tmp2[('mean','평점')]>=4.0) & (tmp2[('count','평점')]>=500)].shape"
   ]
  },
  {
   "cell_type": "code",
   "execution_count": 48,
   "metadata": {},
   "outputs": [],
   "source": [
    "# 기준을 만족하는 영화의 제목과 장르를 한번에 추출\n",
    "tmp3 = female_data.pivot_table(index=['제목','장르'], values='평점',\n",
    "                       aggfunc=['mean','count'])"
   ]
  },
  {
   "cell_type": "code",
   "execution_count": 51,
   "metadata": {
    "collapsed": true
   },
   "outputs": [
    {
     "data": {
      "text/plain": [
       "array([('American Beauty (1999)', 'Comedy|Drama'),\n",
       "       ('Being John Malkovich (1999)', 'Comedy'),\n",
       "       ('Braveheart (1995)', 'Action|Drama|War'),\n",
       "       ('Casablanca (1942)', 'Drama|Romance|War'),\n",
       "       ('E.T. the Extra-Terrestrial (1982)', \"Children's|Drama|Fantasy|Sci-Fi\"),\n",
       "       ('Fargo (1996)', 'Crime|Drama|Thriller'),\n",
       "       ('Forrest Gump (1994)', 'Comedy|Romance|War'),\n",
       "       ('L.A. Confidential (1997)', 'Crime|Film-Noir|Mystery|Thriller'),\n",
       "       ('Matrix, The (1999)', 'Action|Sci-Fi|Thriller'),\n",
       "       ('Princess Bride, The (1987)', 'Action|Adventure|Comedy|Romance'),\n",
       "       ('Pulp Fiction (1994)', 'Crime|Drama'),\n",
       "       ('Raiders of the Lost Ark (1981)', 'Action|Adventure'),\n",
       "       ('Saving Private Ryan (1998)', 'Action|Drama|War'),\n",
       "       (\"Schindler's List (1993)\", 'Drama|War'),\n",
       "       ('Shakespeare in Love (1998)', 'Comedy|Romance'),\n",
       "       ('Shawshank Redemption, The (1994)', 'Drama'),\n",
       "       ('Silence of the Lambs, The (1991)', 'Drama|Thriller'),\n",
       "       ('Sixth Sense, The (1999)', 'Thriller'),\n",
       "       ('Star Wars: Episode IV - A New Hope (1977)', 'Action|Adventure|Fantasy|Sci-Fi'),\n",
       "       ('Star Wars: Episode V - The Empire Strikes Back (1980)', 'Action|Adventure|Drama|Sci-Fi|War'),\n",
       "       ('Toy Story (1995)', \"Animation|Children's|Comedy\"),\n",
       "       ('Wizard of Oz, The (1939)', \"Adventure|Children's|Drama|Musical\")],\n",
       "      dtype=object)"
      ]
     },
     "execution_count": 51,
     "metadata": {},
     "output_type": "execute_result"
    }
   ],
   "source": [
    "# 기준을 만족하는 영화의 제목과 장르를 한번에 추출\n",
    "tmp3[(tmp3[('mean','평점')]>=4.0) & (tmp3[('count','평점')]>=500)].index.values"
   ]
  },
  {
   "cell_type": "code",
   "execution_count": 55,
   "metadata": {},
   "outputs": [
    {
     "data": {
      "text/plain": [
       "3481"
      ]
     },
     "execution_count": 55,
     "metadata": {},
     "output_type": "execute_result"
    }
   ],
   "source": [
    "tmp3.shape[0]"
   ]
  },
  {
   "cell_type": "code",
   "execution_count": 57,
   "metadata": {},
   "outputs": [
    {
     "data": {
      "text/html": [
       "<div>\n",
       "<style scoped>\n",
       "    .dataframe tbody tr th:only-of-type {\n",
       "        vertical-align: middle;\n",
       "    }\n",
       "\n",
       "    .dataframe tbody tr th {\n",
       "        vertical-align: top;\n",
       "    }\n",
       "\n",
       "    .dataframe thead tr th {\n",
       "        text-align: left;\n",
       "    }\n",
       "\n",
       "    .dataframe thead tr:last-of-type th {\n",
       "        text-align: right;\n",
       "    }\n",
       "</style>\n",
       "<table border=\"1\" class=\"dataframe\">\n",
       "  <thead>\n",
       "    <tr>\n",
       "      <th></th>\n",
       "      <th></th>\n",
       "      <th>mean</th>\n",
       "      <th>count</th>\n",
       "    </tr>\n",
       "    <tr>\n",
       "      <th></th>\n",
       "      <th></th>\n",
       "      <th>평점</th>\n",
       "      <th>평점</th>\n",
       "    </tr>\n",
       "    <tr>\n",
       "      <th>제목</th>\n",
       "      <th>장르</th>\n",
       "      <th></th>\n",
       "      <th></th>\n",
       "    </tr>\n",
       "  </thead>\n",
       "  <tbody>\n",
       "    <tr>\n",
       "      <th>$1,000,000 Duck (1971)</th>\n",
       "      <th>Children's|Comedy</th>\n",
       "      <td>3.375000</td>\n",
       "      <td>16</td>\n",
       "    </tr>\n",
       "    <tr>\n",
       "      <th>'Night Mother (1986)</th>\n",
       "      <th>Drama</th>\n",
       "      <td>3.388889</td>\n",
       "      <td>36</td>\n",
       "    </tr>\n",
       "  </tbody>\n",
       "</table>\n",
       "</div>"
      ],
      "text/plain": [
       "                                              mean count\n",
       "                                                평점    평점\n",
       "제목                     장르                               \n",
       "$1,000,000 Duck (1971) Children's|Comedy  3.375000    16\n",
       "'Night Mother (1986)   Drama              3.388889    36"
      ]
     },
     "execution_count": 57,
     "metadata": {},
     "output_type": "execute_result"
    }
   ],
   "source": [
    "tmp3.head(2)"
   ]
  },
  {
   "cell_type": "code",
   "execution_count": 54,
   "metadata": {},
   "outputs": [
    {
     "data": {
      "text/plain": [
       "\"Children's\""
      ]
     },
     "execution_count": 54,
     "metadata": {},
     "output_type": "execute_result"
    }
   ],
   "source": [
    "'Children\\'s'"
   ]
  },
  {
   "cell_type": "markdown",
   "metadata": {},
   "source": [
    "### 장르 데이터 전처리\n",
    "\n",
    "- 세부장르 분석을 위해 문자열에 대한 전처리 수행"
   ]
  },
  {
   "cell_type": "code",
   "execution_count": 66,
   "metadata": {},
   "outputs": [],
   "source": [
    "# 중복을 제거한 장르 고유값\n",
    "# set() 타입을 활용한 고유값 처리\n",
    "dump = []\n",
    "for i in tmp2.index.values:\n",
    "    tmp = i.split('|')\n",
    "    for j in tmp:\n",
    "        dump.append(j)"
   ]
  },
  {
   "cell_type": "code",
   "execution_count": 84,
   "metadata": {},
   "outputs": [
    {
     "data": {
      "text/plain": [
       "18"
      ]
     },
     "execution_count": 84,
     "metadata": {},
     "output_type": "execute_result"
    }
   ],
   "source": [
    "len(set(dump))"
   ]
  },
  {
   "cell_type": "code",
   "execution_count": 72,
   "metadata": {},
   "outputs": [],
   "source": [
    "result = tmp2.reset_index().copy()"
   ]
  },
  {
   "cell_type": "code",
   "execution_count": 76,
   "metadata": {},
   "outputs": [],
   "source": [
    "female_fav_genre = result['장르'].str.split('|', expand=True)"
   ]
  },
  {
   "cell_type": "code",
   "execution_count": 77,
   "metadata": {
    "collapsed": true
   },
   "outputs": [
    {
     "data": {
      "text/plain": [
       "array([['Action', None, None, None, None, None],\n",
       "       ['Action', 'Adventure', None, None, None, None],\n",
       "       ['Action', 'Adventure', 'Animation', None, None, None],\n",
       "       ...,\n",
       "       ['Thriller', None, None, None, None, None],\n",
       "       ['War', None, None, None, None, None],\n",
       "       ['Western', None, None, None, None, None]], dtype=object)"
      ]
     },
     "execution_count": 77,
     "metadata": {},
     "output_type": "execute_result"
    }
   ],
   "source": [
    "female_fav_genre.values"
   ]
  },
  {
   "cell_type": "code",
   "execution_count": 81,
   "metadata": {},
   "outputs": [
    {
     "data": {
      "text/plain": [
       "array(['Action', 'Adventure', 'Animation', \"Children's\", 'Comedy',\n",
       "       'Crime', 'Documentary', 'Drama', 'Fantasy', 'Film-Noir', 'Horror',\n",
       "       'Musical', 'Mystery', 'Romance', 'Sci-Fi', 'Thriller', 'War',\n",
       "       'Western'], dtype=object)"
      ]
     },
     "execution_count": 81,
     "metadata": {},
     "output_type": "execute_result"
    }
   ],
   "source": [
    "import numpy as np\n",
    "\n",
    "np.unique(female_fav_genre.fillna('-'))[1:]"
   ]
  },
  {
   "cell_type": "code",
   "execution_count": 83,
   "metadata": {},
   "outputs": [
    {
     "data": {
      "text/html": [
       "<div>\n",
       "<style scoped>\n",
       "    .dataframe tbody tr th:only-of-type {\n",
       "        vertical-align: middle;\n",
       "    }\n",
       "\n",
       "    .dataframe tbody tr th {\n",
       "        vertical-align: top;\n",
       "    }\n",
       "\n",
       "    .dataframe thead th {\n",
       "        text-align: right;\n",
       "    }\n",
       "</style>\n",
       "<table border=\"1\" class=\"dataframe\">\n",
       "  <thead>\n",
       "    <tr style=\"text-align: right;\">\n",
       "      <th></th>\n",
       "      <th>0</th>\n",
       "      <th>1</th>\n",
       "      <th>2</th>\n",
       "      <th>3</th>\n",
       "      <th>4</th>\n",
       "      <th>5</th>\n",
       "    </tr>\n",
       "  </thead>\n",
       "  <tbody>\n",
       "    <tr>\n",
       "      <th>0</th>\n",
       "      <td>Action</td>\n",
       "      <td>None</td>\n",
       "      <td>None</td>\n",
       "      <td>None</td>\n",
       "      <td>None</td>\n",
       "      <td>None</td>\n",
       "    </tr>\n",
       "    <tr>\n",
       "      <th>1</th>\n",
       "      <td>Action</td>\n",
       "      <td>Adventure</td>\n",
       "      <td>None</td>\n",
       "      <td>None</td>\n",
       "      <td>None</td>\n",
       "      <td>None</td>\n",
       "    </tr>\n",
       "  </tbody>\n",
       "</table>\n",
       "</div>"
      ],
      "text/plain": [
       "        0          1     2     3     4     5\n",
       "0  Action       None  None  None  None  None\n",
       "1  Action  Adventure  None  None  None  None"
      ]
     },
     "execution_count": 83,
     "metadata": {},
     "output_type": "execute_result"
    }
   ],
   "source": [
    "female_fav_genre.head(2)"
   ]
  },
  {
   "cell_type": "code",
   "execution_count": null,
   "metadata": {},
   "outputs": [],
   "source": [
    "# 가장 인기 있는 세부장르 top3\n",
    "# 장르 빈도"
   ]
  },
  {
   "cell_type": "code",
   "execution_count": 86,
   "metadata": {},
   "outputs": [
    {
     "data": {
      "text/html": [
       "<div>\n",
       "<style scoped>\n",
       "    .dataframe tbody tr th:only-of-type {\n",
       "        vertical-align: middle;\n",
       "    }\n",
       "\n",
       "    .dataframe tbody tr th {\n",
       "        vertical-align: top;\n",
       "    }\n",
       "\n",
       "    .dataframe thead th {\n",
       "        text-align: right;\n",
       "    }\n",
       "</style>\n",
       "<table border=\"1\" class=\"dataframe\">\n",
       "  <thead>\n",
       "    <tr style=\"text-align: right;\">\n",
       "      <th></th>\n",
       "      <th>0</th>\n",
       "      <th>1</th>\n",
       "      <th>2</th>\n",
       "      <th>3</th>\n",
       "      <th>4</th>\n",
       "      <th>5</th>\n",
       "    </tr>\n",
       "  </thead>\n",
       "  <tbody>\n",
       "    <tr>\n",
       "      <th>0</th>\n",
       "      <td>Action</td>\n",
       "      <td>None</td>\n",
       "      <td>None</td>\n",
       "      <td>None</td>\n",
       "      <td>None</td>\n",
       "      <td>None</td>\n",
       "    </tr>\n",
       "    <tr>\n",
       "      <th>1</th>\n",
       "      <td>Action</td>\n",
       "      <td>Adventure</td>\n",
       "      <td>None</td>\n",
       "      <td>None</td>\n",
       "      <td>None</td>\n",
       "      <td>None</td>\n",
       "    </tr>\n",
       "    <tr>\n",
       "      <th>2</th>\n",
       "      <td>Action</td>\n",
       "      <td>Adventure</td>\n",
       "      <td>Animation</td>\n",
       "      <td>None</td>\n",
       "      <td>None</td>\n",
       "      <td>None</td>\n",
       "    </tr>\n",
       "  </tbody>\n",
       "</table>\n",
       "</div>"
      ],
      "text/plain": [
       "        0          1          2     3     4     5\n",
       "0  Action       None       None  None  None  None\n",
       "1  Action  Adventure       None  None  None  None\n",
       "2  Action  Adventure  Animation  None  None  None"
      ]
     },
     "execution_count": 86,
     "metadata": {},
     "output_type": "execute_result"
    }
   ],
   "source": [
    "female_fav_genre.head(3)"
   ]
  },
  {
   "cell_type": "code",
   "execution_count": 88,
   "metadata": {},
   "outputs": [
    {
     "data": {
      "text/plain": [
       "0    300\n",
       "1    283\n",
       "2    203\n",
       "3     80\n",
       "4     14\n",
       "5      1\n",
       "dtype: int64"
      ]
     },
     "execution_count": 88,
     "metadata": {},
     "output_type": "execute_result"
    }
   ],
   "source": [
    "# 시리즈 간의 연산\n",
    "# sr.value_counts()\n",
    "female_fav_genre.count()"
   ]
  },
  {
   "cell_type": "code",
   "execution_count": 90,
   "metadata": {
    "scrolled": true
   },
   "outputs": [
    {
     "data": {
      "text/plain": [
       "0                           Drama\n",
       "1                           Drama\n",
       "2                           Drama\n",
       "3                           Drama\n",
       "4                           Drama\n",
       "5                           Drama\n",
       "6                           Drama\n",
       "7                           Drama\n",
       "8                           Drama\n",
       "9                           Drama\n",
       "10                          Drama\n",
       "11                          Drama\n",
       "12                          Drama\n",
       "13                          Drama\n",
       "14                          Drama\n",
       "15                          Drama\n",
       "16                          Drama\n",
       "17                          Drama\n",
       "18                          Drama\n",
       "19                          Drama\n",
       "20                          Drama\n",
       "21                          Drama\n",
       "22                          Drama\n",
       "23                          Drama\n",
       "24                          Drama\n",
       "25                          Drama\n",
       "26                          Drama\n",
       "27                          Drama\n",
       "28                          Drama\n",
       "29                          Drama\n",
       "                    ...          \n",
       "1000179               Documentary\n",
       "1000180                     Drama\n",
       "1000181              Action|Crime\n",
       "1000182     Action|Drama|Thriller\n",
       "1000183                    Action\n",
       "1000184                    Action\n",
       "1000185                 Drama|War\n",
       "1000186                 Drama|War\n",
       "1000187               Documentary\n",
       "1000188               Documentary\n",
       "1000189               Documentary\n",
       "1000190               Documentary\n",
       "1000191                    Comedy\n",
       "1000192                    Comedy\n",
       "1000193     Action|Drama|Thriller\n",
       "1000194     Action|Drama|Thriller\n",
       "1000195                     Crime\n",
       "1000196            Drama|Thriller\n",
       "1000197              Comedy|Crime\n",
       "1000198                     Drama\n",
       "1000199                     Drama\n",
       "1000200         Children's|Comedy\n",
       "1000201    Action|Sci-Fi|Thriller\n",
       "1000202                    Comedy\n",
       "1000203               Documentary\n",
       "1000204               Documentary\n",
       "1000205                     Drama\n",
       "1000206                     Drama\n",
       "1000207      Comedy|Drama|Western\n",
       "1000208               Documentary\n",
       "Name: 장르, Length: 1000209, dtype: object"
      ]
     },
     "execution_count": 90,
     "metadata": {},
     "output_type": "execute_result"
    }
   ],
   "source": [
    "data2['장르']"
   ]
  },
  {
   "cell_type": "code",
   "execution_count": 93,
   "metadata": {
    "scrolled": false
   },
   "outputs": [],
   "source": [
    "cat1 = female_fav_genre[0].value_counts()\n",
    "cat2 = female_fav_genre[1].value_counts()\n",
    "cat3 = female_fav_genre[2].value_counts()\n",
    "cat4 = female_fav_genre[3].value_counts()\n",
    "cat5 = female_fav_genre[4].value_counts()\n",
    "cat6 = female_fav_genre[5].value_counts()"
   ]
  },
  {
   "cell_type": "code",
   "execution_count": 95,
   "metadata": {
    "collapsed": true
   },
   "outputs": [
    {
     "data": {
      "text/plain": [
       "Thriller    3\n",
       "War         3\n",
       "Sci-Fi      3\n",
       "Fantasy     2\n",
       "Romance     2\n",
       "Musical     1\n",
       "Name: 4, dtype: int64"
      ]
     },
     "execution_count": 95,
     "metadata": {},
     "output_type": "execute_result"
    }
   ],
   "source": [
    "cat5"
   ]
  },
  {
   "cell_type": "code",
   "execution_count": 96,
   "metadata": {
    "collapsed": true
   },
   "outputs": [
    {
     "data": {
      "text/plain": [
       "Action          NaN\n",
       "Adventure       NaN\n",
       "Animation       NaN\n",
       "Children's      NaN\n",
       "Comedy          NaN\n",
       "Crime           NaN\n",
       "Documentary     NaN\n",
       "Drama           NaN\n",
       "Fantasy         NaN\n",
       "Film-Noir       NaN\n",
       "Horror          NaN\n",
       "Musical         NaN\n",
       "Mystery         NaN\n",
       "Romance         NaN\n",
       "Sci-Fi          NaN\n",
       "Thriller        NaN\n",
       "War            34.0\n",
       "Western         NaN\n",
       "dtype: float64"
      ]
     },
     "execution_count": 96,
     "metadata": {},
     "output_type": "execute_result"
    }
   ],
   "source": [
    "cat1 + cat2 + cat3 + cat4 + cat5 + cat6"
   ]
  },
  {
   "cell_type": "code",
   "execution_count": 100,
   "metadata": {},
   "outputs": [],
   "source": [
    "result = cat1.add(cat2, fill_value=0)\n",
    "result = result.add(cat3,fill_value=0)\n",
    "result = result.add(cat4,fill_value=0)\n",
    "result = result.add(cat5,fill_value=0)\n",
    "result = result.add(cat6,fill_value=0)"
   ]
  },
  {
   "cell_type": "code",
   "execution_count": 103,
   "metadata": {},
   "outputs": [
    {
     "data": {
      "text/plain": [
       "Action       96.0\n",
       "Adventure    86.0\n",
       "Comedy       86.0\n",
       "dtype: float64"
      ]
     },
     "execution_count": 103,
     "metadata": {},
     "output_type": "execute_result"
    }
   ],
   "source": [
    "result.sort_values(ascending=False).head(3)"
   ]
  },
  {
   "cell_type": "code",
   "execution_count": 106,
   "metadata": {},
   "outputs": [],
   "source": [
    "# 함수\n",
    "data = np.unique(female_fav_genre.fillna('-'), return_counts=True)"
   ]
  },
  {
   "cell_type": "code",
   "execution_count": 108,
   "metadata": {
    "collapsed": true
   },
   "outputs": [
    {
     "data": {
      "text/plain": [
       "array(['-', 'Action', 'Adventure', 'Animation', \"Children's\", 'Comedy',\n",
       "       'Crime', 'Documentary', 'Drama', 'Fantasy', 'Film-Noir', 'Horror',\n",
       "       'Musical', 'Mystery', 'Romance', 'Sci-Fi', 'Thriller', 'War',\n",
       "       'Western'], dtype=object)"
      ]
     },
     "execution_count": 108,
     "metadata": {},
     "output_type": "execute_result"
    }
   ],
   "source": [
    "data[0]"
   ]
  },
  {
   "cell_type": "code",
   "execution_count": 107,
   "metadata": {
    "collapsed": true
   },
   "outputs": [
    {
     "data": {
      "text/plain": [
       "array([919,  96,  86,  29,  55,  86,  42,   5,  78,  33,  18,  30,  31,\n",
       "        36,  59,  69,  77,  34,  17], dtype=int64)"
      ]
     },
     "execution_count": 107,
     "metadata": {},
     "output_type": "execute_result"
    }
   ],
   "source": [
    "data[1]"
   ]
  },
  {
   "cell_type": "code",
   "execution_count": 111,
   "metadata": {},
   "outputs": [
    {
     "data": {
      "text/plain": [
       "Action         96\n",
       "Adventure      86\n",
       "Animation      29\n",
       "Children's     55\n",
       "Comedy         86\n",
       "Crime          42\n",
       "Documentary     5\n",
       "Drama          78\n",
       "Fantasy        33\n",
       "Film-Noir      18\n",
       "Horror         30\n",
       "Musical        31\n",
       "Mystery        36\n",
       "Romance        59\n",
       "Sci-Fi         69\n",
       "Thriller       77\n",
       "War            34\n",
       "Western        17\n",
       "dtype: int64"
      ]
     },
     "execution_count": 111,
     "metadata": {},
     "output_type": "execute_result"
    }
   ],
   "source": [
    "result = pd.Series(data[1][1:], index=data[0][1:])\n",
    "result"
   ]
  },
  {
   "cell_type": "markdown",
   "metadata": {
    "collapsed": true
   },
   "source": [
    "### 4. 연령대 별 영화 평점 분석하기\n",
    "\n",
    "- 사용자정의함수를 사용하여 처리\n",
    "\n",
    "- 50대가 가장 좋아하는 영화 top 10\n",
    "    - 평균평점이 높은 순서로 상위 10개의 제목"
   ]
  },
  {
   "cell_type": "code",
   "execution_count": 112,
   "metadata": {
    "collapsed": true
   },
   "outputs": [
    {
     "data": {
      "text/plain": [
       "0           1\n",
       "1          56\n",
       "2          25\n",
       "3          25\n",
       "4          50\n",
       "5          18\n",
       "6           1\n",
       "7          25\n",
       "8          25\n",
       "9          45\n",
       "10         18\n",
       "11         25\n",
       "12         45\n",
       "13         18\n",
       "14         25\n",
       "15         18\n",
       "16         25\n",
       "17         50\n",
       "18         25\n",
       "19         50\n",
       "20         35\n",
       "21         56\n",
       "22         25\n",
       "23         45\n",
       "24         56\n",
       "25         45\n",
       "26         25\n",
       "27          1\n",
       "28         35\n",
       "29         25\n",
       "           ..\n",
       "1000179    25\n",
       "1000180    56\n",
       "1000181    18\n",
       "1000182    25\n",
       "1000183    45\n",
       "1000184    45\n",
       "1000185    25\n",
       "1000186    18\n",
       "1000187    50\n",
       "1000188    35\n",
       "1000189    25\n",
       "1000190    25\n",
       "1000191    25\n",
       "1000192    18\n",
       "1000193    18\n",
       "1000194    25\n",
       "1000195    56\n",
       "1000196    25\n",
       "1000197    56\n",
       "1000198    56\n",
       "1000199    56\n",
       "1000200     1\n",
       "1000201    35\n",
       "1000202    35\n",
       "1000203    45\n",
       "1000204    18\n",
       "1000205    35\n",
       "1000206    18\n",
       "1000207    18\n",
       "1000208    25\n",
       "Name: 연령, Length: 1000209, dtype: int64"
      ]
     },
     "execution_count": 112,
     "metadata": {},
     "output_type": "execute_result"
    }
   ],
   "source": [
    "data2['연령']"
   ]
  },
  {
   "cell_type": "code",
   "execution_count": null,
   "metadata": {},
   "outputs": [],
   "source": [
    "# 10s, 20s, 30s, 40s, 50s, 60s"
   ]
  },
  {
   "cell_type": "code",
   "execution_count": null,
   "metadata": {},
   "outputs": [],
   "source": [
    "# 연령대\n",
    "# 연속형 변수를 범주형 변수\n",
    "# 1. 사용자정의함수\n",
    "# 2. pd.cut()\n",
    "# 3. np.digitize()"
   ]
  },
  {
   "cell_type": "code",
   "execution_count": 115,
   "metadata": {
    "collapsed": true
   },
   "outputs": [
    {
     "data": {
      "text/plain": [
       "count    1000209\n",
       "mean          29\n",
       "std           11\n",
       "min            1\n",
       "25%           25\n",
       "50%           25\n",
       "75%           35\n",
       "max           56\n",
       "Name: 연령, dtype: int32"
      ]
     },
     "execution_count": 115,
     "metadata": {},
     "output_type": "execute_result"
    }
   ],
   "source": [
    "data2['연령'].describe().astype(int)"
   ]
  },
  {
   "cell_type": "code",
   "execution_count": 116,
   "metadata": {},
   "outputs": [],
   "source": [
    "# 1. 사용자정의함수\n",
    "# 0~19 : 10대\n",
    "# 20~29 : 20대\n",
    "# 30~39 : 30대\n",
    "# 40~49 : 40대\n",
    "# 50~59 : 50대\n",
    "def age_range(x):\n",
    "    if x < 20:\n",
    "        label = '10대'\n",
    "    elif x < 30:  # 20 <= x < 30\n",
    "        label = '20대'\n",
    "    elif x < 40:  # 30 <= x < 40\n",
    "        label = '30대'\n",
    "    elif x < 50:  \n",
    "        label = '40대'\n",
    "    else:    # x >= 50\n",
    "        label = '50대'\n",
    "        \n",
    "    return label"
   ]
  },
  {
   "cell_type": "code",
   "execution_count": 118,
   "metadata": {},
   "outputs": [],
   "source": [
    "data2['연령1'] = data2['연령'].apply(age_range)"
   ]
  },
  {
   "cell_type": "code",
   "execution_count": 123,
   "metadata": {},
   "outputs": [
    {
     "data": {
      "text/plain": [
       "array(['20대'], dtype=object)"
      ]
     },
     "execution_count": 123,
     "metadata": {},
     "output_type": "execute_result"
    }
   ],
   "source": [
    "data2[data2['연령'] < 20]['연령1'].unique()\n",
    "data2[(20 < data2['연령']) & (data2['연령'] < 30)]['연령1'].unique()"
   ]
  },
  {
   "cell_type": "code",
   "execution_count": 125,
   "metadata": {},
   "outputs": [
    {
     "data": {
      "text/plain": [
       "[(0, 2], (0, 2], (2, 4], (2, 4], (4, 6], (4, 6]]\n",
       "Categories (3, interval[int64]): [(0, 2] < (2, 4] < (4, 6]]"
      ]
     },
     "execution_count": 125,
     "metadata": {},
     "output_type": "execute_result"
    }
   ],
   "source": [
    "# pd.cut()\n",
    "pd.cut([1,2,3,4,5,6], [0,2,4,6])"
   ]
  },
  {
   "cell_type": "code",
   "execution_count": 128,
   "metadata": {},
   "outputs": [],
   "source": [
    "data2['연령2'] = pd.cut(data2['연령'], [0,20,30,40,50,60],\n",
    "       labels=['10대', '20대', '30대', '40대', '50대'])"
   ]
  },
  {
   "cell_type": "code",
   "execution_count": 131,
   "metadata": {},
   "outputs": [],
   "source": [
    "# np.digitize()\n",
    "# 0 : 10대\n",
    "# 4 : 50대\n",
    "data2['연령3'] = np.digitize(data2['연령'], [20,30,40,50])"
   ]
  },
  {
   "cell_type": "code",
   "execution_count": 132,
   "metadata": {
    "collapsed": true
   },
   "outputs": [
    {
     "data": {
      "text/plain": [
       "0    0\n",
       "1    4\n",
       "2    1\n",
       "3    1\n",
       "4    4\n",
       "Name: 연령3, dtype: int64"
      ]
     },
     "execution_count": 132,
     "metadata": {},
     "output_type": "execute_result"
    }
   ],
   "source": [
    "data2['연령3'].head()"
   ]
  },
  {
   "cell_type": "code",
   "execution_count": 134,
   "metadata": {},
   "outputs": [],
   "source": [
    "# 매핑처리 필요\n",
    "# 딕셔너리\n",
    "# 0~4\n",
    "my_dict = {}\n",
    "for i,j in enumerate(['10대', '20대', '30대', '40대', '50대']):\n",
    "    my_dict[i] = j"
   ]
  },
  {
   "cell_type": "code",
   "execution_count": 135,
   "metadata": {
    "collapsed": true
   },
   "outputs": [
    {
     "data": {
      "text/plain": [
       "{0: '10대', 1: '20대', 2: '30대', 3: '40대', 4: '50대'}"
      ]
     },
     "execution_count": 135,
     "metadata": {},
     "output_type": "execute_result"
    }
   ],
   "source": [
    "my_dict"
   ]
  },
  {
   "cell_type": "code",
   "execution_count": 139,
   "metadata": {},
   "outputs": [],
   "source": [
    "data2['연령3'] = data2['연령3'].map(my_dict)"
   ]
  },
  {
   "cell_type": "code",
   "execution_count": 140,
   "metadata": {
    "collapsed": true
   },
   "outputs": [
    {
     "data": {
      "text/html": [
       "<div>\n",
       "<style scoped>\n",
       "    .dataframe tbody tr th:only-of-type {\n",
       "        vertical-align: middle;\n",
       "    }\n",
       "\n",
       "    .dataframe tbody tr th {\n",
       "        vertical-align: top;\n",
       "    }\n",
       "\n",
       "    .dataframe thead th {\n",
       "        text-align: right;\n",
       "    }\n",
       "</style>\n",
       "<table border=\"1\" class=\"dataframe\">\n",
       "  <thead>\n",
       "    <tr style=\"text-align: right;\">\n",
       "      <th></th>\n",
       "      <th>연령</th>\n",
       "      <th>연령3</th>\n",
       "    </tr>\n",
       "  </thead>\n",
       "  <tbody>\n",
       "    <tr>\n",
       "      <th>0</th>\n",
       "      <td>1</td>\n",
       "      <td>10대</td>\n",
       "    </tr>\n",
       "    <tr>\n",
       "      <th>1</th>\n",
       "      <td>56</td>\n",
       "      <td>50대</td>\n",
       "    </tr>\n",
       "    <tr>\n",
       "      <th>2</th>\n",
       "      <td>25</td>\n",
       "      <td>20대</td>\n",
       "    </tr>\n",
       "    <tr>\n",
       "      <th>3</th>\n",
       "      <td>25</td>\n",
       "      <td>20대</td>\n",
       "    </tr>\n",
       "    <tr>\n",
       "      <th>4</th>\n",
       "      <td>50</td>\n",
       "      <td>50대</td>\n",
       "    </tr>\n",
       "  </tbody>\n",
       "</table>\n",
       "</div>"
      ],
      "text/plain": [
       "   연령  연령3\n",
       "0   1  10대\n",
       "1  56  50대\n",
       "2  25  20대\n",
       "3  25  20대\n",
       "4  50  50대"
      ]
     },
     "execution_count": 140,
     "metadata": {},
     "output_type": "execute_result"
    }
   ],
   "source": [
    "data2[['연령','연령3']].head()"
   ]
  },
  {
   "cell_type": "code",
   "execution_count": null,
   "metadata": {},
   "outputs": [],
   "source": [
    "# 50대 인기 영화 제목\n",
    "# 인기 : 평균 평점이 높은 순서로 상위 top 10 영화 제목"
   ]
  },
  {
   "cell_type": "code",
   "execution_count": 143,
   "metadata": {},
   "outputs": [],
   "source": [
    "# 50대 추출\n",
    "age50_data = data2[data2['연령1']=='50대'][['연령1', '평점', '제목']].copy()"
   ]
  },
  {
   "cell_type": "code",
   "execution_count": 144,
   "metadata": {
    "collapsed": true
   },
   "outputs": [
    {
     "data": {
      "text/html": [
       "<div>\n",
       "<style scoped>\n",
       "    .dataframe tbody tr th:only-of-type {\n",
       "        vertical-align: middle;\n",
       "    }\n",
       "\n",
       "    .dataframe tbody tr th {\n",
       "        vertical-align: top;\n",
       "    }\n",
       "\n",
       "    .dataframe thead th {\n",
       "        text-align: right;\n",
       "    }\n",
       "</style>\n",
       "<table border=\"1\" class=\"dataframe\">\n",
       "  <thead>\n",
       "    <tr style=\"text-align: right;\">\n",
       "      <th></th>\n",
       "      <th>연령1</th>\n",
       "      <th>평점</th>\n",
       "      <th>제목</th>\n",
       "    </tr>\n",
       "  </thead>\n",
       "  <tbody>\n",
       "    <tr>\n",
       "      <th>1</th>\n",
       "      <td>50대</td>\n",
       "      <td>5</td>\n",
       "      <td>One Flew Over the Cuckoo's Nest (1975)</td>\n",
       "    </tr>\n",
       "    <tr>\n",
       "      <th>4</th>\n",
       "      <td>50대</td>\n",
       "      <td>5</td>\n",
       "      <td>One Flew Over the Cuckoo's Nest (1975)</td>\n",
       "    </tr>\n",
       "    <tr>\n",
       "      <th>17</th>\n",
       "      <td>50대</td>\n",
       "      <td>5</td>\n",
       "      <td>One Flew Over the Cuckoo's Nest (1975)</td>\n",
       "    </tr>\n",
       "    <tr>\n",
       "      <th>19</th>\n",
       "      <td>50대</td>\n",
       "      <td>4</td>\n",
       "      <td>One Flew Over the Cuckoo's Nest (1975)</td>\n",
       "    </tr>\n",
       "    <tr>\n",
       "      <th>21</th>\n",
       "      <td>50대</td>\n",
       "      <td>4</td>\n",
       "      <td>One Flew Over the Cuckoo's Nest (1975)</td>\n",
       "    </tr>\n",
       "  </tbody>\n",
       "</table>\n",
       "</div>"
      ],
      "text/plain": [
       "    연령1  평점                                      제목\n",
       "1   50대   5  One Flew Over the Cuckoo's Nest (1975)\n",
       "4   50대   5  One Flew Over the Cuckoo's Nest (1975)\n",
       "17  50대   5  One Flew Over the Cuckoo's Nest (1975)\n",
       "19  50대   4  One Flew Over the Cuckoo's Nest (1975)\n",
       "21  50대   4  One Flew Over the Cuckoo's Nest (1975)"
      ]
     },
     "execution_count": 144,
     "metadata": {},
     "output_type": "execute_result"
    }
   ],
   "source": [
    "age50_data.head()"
   ]
  },
  {
   "cell_type": "code",
   "execution_count": 147,
   "metadata": {},
   "outputs": [],
   "source": [
    "# 평균평점순으로 상위 10개\n",
    "tmp = age50_data.pivot_table(index='제목', values='평점', aggfunc='mean')"
   ]
  },
  {
   "cell_type": "code",
   "execution_count": 151,
   "metadata": {},
   "outputs": [
    {
     "data": {
      "text/plain": [
       "Index(['It Takes Two (1995)', 'Paris, France (1993)',\n",
       "       'Tetsuo II: Body Hammer (1992)',\n",
       "       'Schlafes Bruder (Brother of Sleep) (1995)',\n",
       "       'My Life and Times With Antonin Artaud (En compagnie d'Antonin Artaud) (1993)',\n",
       "       'Lured (1947)', 'Ed's Next Move (1996)', 'Smashing Time (1967)',\n",
       "       'Apple, The (Sib) (1998)', 'Love Serenade (1996)'],\n",
       "      dtype='object', name='제목')"
      ]
     },
     "execution_count": 151,
     "metadata": {},
     "output_type": "execute_result"
    }
   ],
   "source": [
    "tmp.sort_values(by='평점', ascending=False).head(10).index"
   ]
  },
  {
   "cell_type": "code",
   "execution_count": 157,
   "metadata": {},
   "outputs": [],
   "source": [
    "tmp2 = data2.pivot_table(index='제목', values='평점', columns='연령1',\n",
    "                 aggfunc='mean', fill_value=-9999)"
   ]
  },
  {
   "cell_type": "code",
   "execution_count": 158,
   "metadata": {
    "collapsed": true
   },
   "outputs": [
    {
     "data": {
      "text/plain": [
       "연령1\n",
       "10대    0\n",
       "20대    0\n",
       "30대    0\n",
       "40대    0\n",
       "50대    0\n",
       "dtype: int64"
      ]
     },
     "execution_count": 158,
     "metadata": {},
     "output_type": "execute_result"
    }
   ],
   "source": [
    "tmp2.isnull().sum()"
   ]
  },
  {
   "cell_type": "code",
   "execution_count": 165,
   "metadata": {},
   "outputs": [
    {
     "data": {
      "text/plain": [
       "Index(['Better Living Through Circuitry (1999)',\n",
       "       'Ballad of Narayama, The (Narayama Bushiko) (1958)',\n",
       "       'Gambler, The (A J�t�kos) (1997)',\n",
       "       'Mating Habits of the Earthbound Human, The (1998)',\n",
       "       'Tetsuo II: Body Hammer (1992)', 'Lured (1947)',\n",
       "       'Identification of a Woman (Identificazione di una donna) (1982)',\n",
       "       'Across the Sea of Time (1995)', 'Love Serenade (1996)',\n",
       "       'Terrorist, The (Malli) (1998)'],\n",
       "      dtype='object', name='제목')"
      ]
     },
     "execution_count": 165,
     "metadata": {},
     "output_type": "execute_result"
    }
   ],
   "source": [
    "tmp2['50대'].sort_values(ascending=False).index[:10]"
   ]
  },
  {
   "cell_type": "markdown",
   "metadata": {},
   "source": [
    "### 5. 남자와 여자의 호불호가 크게 갈리는 영화 10개를 출력 \n",
    "#### 전체 평점의 개수가 500개 이상인 영화만 대상으로 함.\n",
    "\n",
    "- 호불호 : 성별 평점의 차이의 크기가 크다 => 새로운 컬럼으로 저장\n",
    "- 성별 평점 차이의 크기 기준으로 내림차순 정렬 하여 상위 10개 영화의 제목 찾기"
   ]
  },
  {
   "cell_type": "code",
   "execution_count": 168,
   "metadata": {},
   "outputs": [],
   "source": [
    "# 전체 평점의 개수가 500개 이상인 영화\n",
    "tmp = data2.pivot_table(index='제목', values='평점',\n",
    "                        aggfunc='count')"
   ]
  },
  {
   "cell_type": "code",
   "execution_count": 171,
   "metadata": {},
   "outputs": [],
   "source": [
    "movies = tmp[tmp['평점'] >= 500].index"
   ]
  },
  {
   "cell_type": "code",
   "execution_count": 172,
   "metadata": {
    "scrolled": true
   },
   "outputs": [
    {
     "data": {
      "text/plain": [
       "(1000209, 13)"
      ]
     },
     "execution_count": 172,
     "metadata": {},
     "output_type": "execute_result"
    }
   ],
   "source": [
    "data2.shape"
   ]
  },
  {
   "cell_type": "code",
   "execution_count": 175,
   "metadata": {},
   "outputs": [],
   "source": [
    "# 제목 컬럼\n",
    "# 1. sr.isin([])\n",
    "movies = movies.tolist()"
   ]
  },
  {
   "cell_type": "code",
   "execution_count": 178,
   "metadata": {},
   "outputs": [],
   "source": [
    "final1 = data2[data2['제목'].isin(movies)]"
   ]
  },
  {
   "cell_type": "code",
   "execution_count": 182,
   "metadata": {},
   "outputs": [
    {
     "data": {
      "text/plain": [
       "(594712, 13)"
      ]
     },
     "execution_count": 182,
     "metadata": {},
     "output_type": "execute_result"
    }
   ],
   "source": [
    "final1.shape"
   ]
  },
  {
   "cell_type": "code",
   "execution_count": 181,
   "metadata": {},
   "outputs": [
    {
     "data": {
      "text/plain": [
       "(594712, 13)"
      ]
     },
     "execution_count": 181,
     "metadata": {},
     "output_type": "execute_result"
    }
   ],
   "source": [
    "# 2. sr.apply(lambda x: x in [])\n",
    "data2[data2['제목'].apply(lambda x: x in movies)].shape"
   ]
  },
  {
   "cell_type": "code",
   "execution_count": 184,
   "metadata": {},
   "outputs": [
    {
     "data": {
      "text/plain": [
       "(594712, 13)"
      ]
     },
     "execution_count": 184,
     "metadata": {},
     "output_type": "execute_result"
    }
   ],
   "source": [
    "final1.shape"
   ]
  },
  {
   "cell_type": "code",
   "execution_count": 183,
   "metadata": {
    "scrolled": true
   },
   "outputs": [
    {
     "data": {
      "text/html": [
       "<div>\n",
       "<style scoped>\n",
       "    .dataframe tbody tr th:only-of-type {\n",
       "        vertical-align: middle;\n",
       "    }\n",
       "\n",
       "    .dataframe tbody tr th {\n",
       "        vertical-align: top;\n",
       "    }\n",
       "\n",
       "    .dataframe thead th {\n",
       "        text-align: right;\n",
       "    }\n",
       "</style>\n",
       "<table border=\"1\" class=\"dataframe\">\n",
       "  <thead>\n",
       "    <tr style=\"text-align: right;\">\n",
       "      <th></th>\n",
       "      <th>사용자아이디</th>\n",
       "      <th>성별</th>\n",
       "      <th>연령</th>\n",
       "      <th>직업</th>\n",
       "      <th>지역</th>\n",
       "      <th>영화아이디</th>\n",
       "      <th>평점</th>\n",
       "      <th>타임스탬프</th>\n",
       "      <th>제목</th>\n",
       "      <th>장르</th>\n",
       "      <th>연령1</th>\n",
       "      <th>연령2</th>\n",
       "      <th>연령3</th>\n",
       "    </tr>\n",
       "  </thead>\n",
       "  <tbody>\n",
       "    <tr>\n",
       "      <th>0</th>\n",
       "      <td>1</td>\n",
       "      <td>F</td>\n",
       "      <td>1</td>\n",
       "      <td>10</td>\n",
       "      <td>48067</td>\n",
       "      <td>1193</td>\n",
       "      <td>5</td>\n",
       "      <td>978300760</td>\n",
       "      <td>One Flew Over the Cuckoo's Nest (1975)</td>\n",
       "      <td>Drama</td>\n",
       "      <td>10대</td>\n",
       "      <td>10대</td>\n",
       "      <td>10대</td>\n",
       "    </tr>\n",
       "    <tr>\n",
       "      <th>1</th>\n",
       "      <td>2</td>\n",
       "      <td>M</td>\n",
       "      <td>56</td>\n",
       "      <td>16</td>\n",
       "      <td>70072</td>\n",
       "      <td>1193</td>\n",
       "      <td>5</td>\n",
       "      <td>978298413</td>\n",
       "      <td>One Flew Over the Cuckoo's Nest (1975)</td>\n",
       "      <td>Drama</td>\n",
       "      <td>50대</td>\n",
       "      <td>50대</td>\n",
       "      <td>50대</td>\n",
       "    </tr>\n",
       "    <tr>\n",
       "      <th>2</th>\n",
       "      <td>12</td>\n",
       "      <td>M</td>\n",
       "      <td>25</td>\n",
       "      <td>12</td>\n",
       "      <td>32793</td>\n",
       "      <td>1193</td>\n",
       "      <td>4</td>\n",
       "      <td>978220179</td>\n",
       "      <td>One Flew Over the Cuckoo's Nest (1975)</td>\n",
       "      <td>Drama</td>\n",
       "      <td>20대</td>\n",
       "      <td>20대</td>\n",
       "      <td>20대</td>\n",
       "    </tr>\n",
       "    <tr>\n",
       "      <th>3</th>\n",
       "      <td>15</td>\n",
       "      <td>M</td>\n",
       "      <td>25</td>\n",
       "      <td>7</td>\n",
       "      <td>22903</td>\n",
       "      <td>1193</td>\n",
       "      <td>4</td>\n",
       "      <td>978199279</td>\n",
       "      <td>One Flew Over the Cuckoo's Nest (1975)</td>\n",
       "      <td>Drama</td>\n",
       "      <td>20대</td>\n",
       "      <td>20대</td>\n",
       "      <td>20대</td>\n",
       "    </tr>\n",
       "    <tr>\n",
       "      <th>4</th>\n",
       "      <td>17</td>\n",
       "      <td>M</td>\n",
       "      <td>50</td>\n",
       "      <td>1</td>\n",
       "      <td>95350</td>\n",
       "      <td>1193</td>\n",
       "      <td>5</td>\n",
       "      <td>978158471</td>\n",
       "      <td>One Flew Over the Cuckoo's Nest (1975)</td>\n",
       "      <td>Drama</td>\n",
       "      <td>50대</td>\n",
       "      <td>40대</td>\n",
       "      <td>50대</td>\n",
       "    </tr>\n",
       "  </tbody>\n",
       "</table>\n",
       "</div>"
      ],
      "text/plain": [
       "   사용자아이디 성별  연령  직업     지역  영화아이디  평점      타임스탬프  \\\n",
       "0       1  F   1  10  48067   1193   5  978300760   \n",
       "1       2  M  56  16  70072   1193   5  978298413   \n",
       "2      12  M  25  12  32793   1193   4  978220179   \n",
       "3      15  M  25   7  22903   1193   4  978199279   \n",
       "4      17  M  50   1  95350   1193   5  978158471   \n",
       "\n",
       "                                       제목     장르  연령1  연령2  연령3  \n",
       "0  One Flew Over the Cuckoo's Nest (1975)  Drama  10대  10대  10대  \n",
       "1  One Flew Over the Cuckoo's Nest (1975)  Drama  50대  50대  50대  \n",
       "2  One Flew Over the Cuckoo's Nest (1975)  Drama  20대  20대  20대  \n",
       "3  One Flew Over the Cuckoo's Nest (1975)  Drama  20대  20대  20대  \n",
       "4  One Flew Over the Cuckoo's Nest (1975)  Drama  50대  40대  50대  "
      ]
     },
     "execution_count": 183,
     "metadata": {},
     "output_type": "execute_result"
    }
   ],
   "source": [
    "final1.head()"
   ]
  },
  {
   "cell_type": "code",
   "execution_count": 193,
   "metadata": {},
   "outputs": [],
   "source": [
    "df = data2.pivot_table(index=['제목','성별'], values='평점',\n",
    "                  aggfunc=['mean', 'count']).unstack()"
   ]
  },
  {
   "cell_type": "code",
   "execution_count": 196,
   "metadata": {},
   "outputs": [],
   "source": [
    "tmp = df[('count','평점')]"
   ]
  },
  {
   "cell_type": "code",
   "execution_count": 198,
   "metadata": {},
   "outputs": [
    {
     "name": "stderr",
     "output_type": "stream",
     "text": [
      "C:\\Users\\user\\Anaconda3\\lib\\site-packages\\ipykernel_launcher.py:1: SettingWithCopyWarning: \n",
      "A value is trying to be set on a copy of a slice from a DataFrame.\n",
      "Try using .loc[row_indexer,col_indexer] = value instead\n",
      "\n",
      "See the caveats in the documentation: http://pandas.pydata.org/pandas-docs/stable/indexing.html#indexing-view-versus-copy\n",
      "  \"\"\"Entry point for launching an IPython kernel.\n"
     ]
    }
   ],
   "source": [
    "tmp['total'] = tmp['F'] + tmp['M']"
   ]
  },
  {
   "cell_type": "code",
   "execution_count": 201,
   "metadata": {
    "scrolled": true
   },
   "outputs": [
    {
     "data": {
      "text/plain": [
       "Index(['10 Things I Hate About You (1999)', '101 Dalmatians (1961)',\n",
       "       '12 Angry Men (1957)', '13th Warrior, The (1999)',\n",
       "       '20,000 Leagues Under the Sea (1954)', '2001: A Space Odyssey (1968)',\n",
       "       '28 Days (2000)', 'Abyss, The (1989)',\n",
       "       'Ace Ventura: Pet Detective (1994)', 'Addams Family, The (1991)',\n",
       "       ...\n",
       "       'Witness (1985)', 'Wizard of Oz, The (1939)', 'Working Girl (1988)',\n",
       "       'World Is Not Enough, The (1999)', 'Wrong Trousers, The (1993)',\n",
       "       'X-Files: Fight the Future, The (1998)', 'X-Men (2000)',\n",
       "       'You've Got Mail (1998)', 'Young Frankenstein (1974)',\n",
       "       'Young Guns (1988)'],\n",
       "      dtype='object', name='제목', length=618)"
      ]
     },
     "execution_count": 201,
     "metadata": {},
     "output_type": "execute_result"
    }
   ],
   "source": [
    "tmp[tmp['total'] >= 500].index"
   ]
  },
  {
   "cell_type": "code",
   "execution_count": 203,
   "metadata": {},
   "outputs": [
    {
     "data": {
      "text/plain": [
       "(594712, 13)"
      ]
     },
     "execution_count": 203,
     "metadata": {},
     "output_type": "execute_result"
    }
   ],
   "source": [
    "final1.shape"
   ]
  },
  {
   "cell_type": "code",
   "execution_count": 205,
   "metadata": {
    "collapsed": true
   },
   "outputs": [
    {
     "data": {
      "text/html": [
       "<div>\n",
       "<style scoped>\n",
       "    .dataframe tbody tr th:only-of-type {\n",
       "        vertical-align: middle;\n",
       "    }\n",
       "\n",
       "    .dataframe tbody tr th {\n",
       "        vertical-align: top;\n",
       "    }\n",
       "\n",
       "    .dataframe thead tr th {\n",
       "        text-align: left;\n",
       "    }\n",
       "\n",
       "    .dataframe thead tr:last-of-type th {\n",
       "        text-align: right;\n",
       "    }\n",
       "</style>\n",
       "<table border=\"1\" class=\"dataframe\">\n",
       "  <thead>\n",
       "    <tr>\n",
       "      <th></th>\n",
       "      <th colspan=\"2\" halign=\"left\">평점</th>\n",
       "    </tr>\n",
       "    <tr>\n",
       "      <th>성별</th>\n",
       "      <th>F</th>\n",
       "      <th>M</th>\n",
       "    </tr>\n",
       "    <tr>\n",
       "      <th>제목</th>\n",
       "      <th></th>\n",
       "      <th></th>\n",
       "    </tr>\n",
       "  </thead>\n",
       "  <tbody>\n",
       "    <tr>\n",
       "      <th>10 Things I Hate About You (1999)</th>\n",
       "      <td>3.646552</td>\n",
       "      <td>3.311966</td>\n",
       "    </tr>\n",
       "    <tr>\n",
       "      <th>101 Dalmatians (1961)</th>\n",
       "      <td>3.791444</td>\n",
       "      <td>3.500000</td>\n",
       "    </tr>\n",
       "    <tr>\n",
       "      <th>12 Angry Men (1957)</th>\n",
       "      <td>4.184397</td>\n",
       "      <td>4.328421</td>\n",
       "    </tr>\n",
       "    <tr>\n",
       "      <th>13th Warrior, The (1999)</th>\n",
       "      <td>3.112000</td>\n",
       "      <td>3.168000</td>\n",
       "    </tr>\n",
       "    <tr>\n",
       "      <th>20,000 Leagues Under the Sea (1954)</th>\n",
       "      <td>3.670103</td>\n",
       "      <td>3.709205</td>\n",
       "    </tr>\n",
       "    <tr>\n",
       "      <th>2001: A Space Odyssey (1968)</th>\n",
       "      <td>3.825581</td>\n",
       "      <td>4.129738</td>\n",
       "    </tr>\n",
       "    <tr>\n",
       "      <th>28 Days (2000)</th>\n",
       "      <td>3.209424</td>\n",
       "      <td>2.977707</td>\n",
       "    </tr>\n",
       "    <tr>\n",
       "      <th>Abyss, The (1989)</th>\n",
       "      <td>3.659236</td>\n",
       "      <td>3.689507</td>\n",
       "    </tr>\n",
       "    <tr>\n",
       "      <th>Ace Ventura: Pet Detective (1994)</th>\n",
       "      <td>3.000000</td>\n",
       "      <td>3.197917</td>\n",
       "    </tr>\n",
       "    <tr>\n",
       "      <th>Addams Family, The (1991)</th>\n",
       "      <td>3.186170</td>\n",
       "      <td>3.163498</td>\n",
       "    </tr>\n",
       "    <tr>\n",
       "      <th>Adventures in Babysitting (1987)</th>\n",
       "      <td>3.455782</td>\n",
       "      <td>3.208122</td>\n",
       "    </tr>\n",
       "    <tr>\n",
       "      <th>Adventures of Buckaroo Bonzai Across the 8th Dimension, The (1984)</th>\n",
       "      <td>3.308511</td>\n",
       "      <td>3.402321</td>\n",
       "    </tr>\n",
       "    <tr>\n",
       "      <th>African Queen, The (1951)</th>\n",
       "      <td>4.324232</td>\n",
       "      <td>4.223822</td>\n",
       "    </tr>\n",
       "    <tr>\n",
       "      <th>Air Force One (1997)</th>\n",
       "      <td>3.699588</td>\n",
       "      <td>3.555822</td>\n",
       "    </tr>\n",
       "    <tr>\n",
       "      <th>Airplane II: The Sequel (1982)</th>\n",
       "      <td>2.906250</td>\n",
       "      <td>2.995671</td>\n",
       "    </tr>\n",
       "    <tr>\n",
       "      <th>Airplane! (1980)</th>\n",
       "      <td>3.656566</td>\n",
       "      <td>4.064419</td>\n",
       "    </tr>\n",
       "    <tr>\n",
       "      <th>Aladdin (1992)</th>\n",
       "      <td>3.857143</td>\n",
       "      <td>3.756494</td>\n",
       "    </tr>\n",
       "    <tr>\n",
       "      <th>Alice in Wonderland (1951)</th>\n",
       "      <td>3.705882</td>\n",
       "      <td>3.692308</td>\n",
       "    </tr>\n",
       "    <tr>\n",
       "      <th>Alien (1979)</th>\n",
       "      <td>3.888252</td>\n",
       "      <td>4.216119</td>\n",
       "    </tr>\n",
       "    <tr>\n",
       "      <th>Alien Nation (1988)</th>\n",
       "      <td>3.433333</td>\n",
       "      <td>3.195946</td>\n",
       "    </tr>\n",
       "    <tr>\n",
       "      <th>Alien: Resurrection (1997)</th>\n",
       "      <td>2.708738</td>\n",
       "      <td>2.997041</td>\n",
       "    </tr>\n",
       "    <tr>\n",
       "      <th>Aliens (1986)</th>\n",
       "      <td>3.802083</td>\n",
       "      <td>4.186684</td>\n",
       "    </tr>\n",
       "    <tr>\n",
       "      <th>Alien� (1992)</th>\n",
       "      <td>3.008264</td>\n",
       "      <td>3.042289</td>\n",
       "    </tr>\n",
       "    <tr>\n",
       "      <th>Almost Famous (2000)</th>\n",
       "      <td>4.220217</td>\n",
       "      <td>4.228731</td>\n",
       "    </tr>\n",
       "    <tr>\n",
       "      <th>Amadeus (1984)</th>\n",
       "      <td>4.346734</td>\n",
       "      <td>4.213415</td>\n",
       "    </tr>\n",
       "    <tr>\n",
       "      <th>American Beauty (1999)</th>\n",
       "      <td>4.238901</td>\n",
       "      <td>4.347301</td>\n",
       "    </tr>\n",
       "    <tr>\n",
       "      <th>American Graffiti (1973)</th>\n",
       "      <td>3.940476</td>\n",
       "      <td>4.055556</td>\n",
       "    </tr>\n",
       "    <tr>\n",
       "      <th>American History X (1998)</th>\n",
       "      <td>4.181818</td>\n",
       "      <td>4.240741</td>\n",
       "    </tr>\n",
       "    <tr>\n",
       "      <th>American Pie (1999)</th>\n",
       "      <td>3.539792</td>\n",
       "      <td>3.754545</td>\n",
       "    </tr>\n",
       "    <tr>\n",
       "      <th>American President, The (1995)</th>\n",
       "      <td>3.923483</td>\n",
       "      <td>3.718654</td>\n",
       "    </tr>\n",
       "    <tr>\n",
       "      <th>...</th>\n",
       "      <td>...</td>\n",
       "      <td>...</td>\n",
       "    </tr>\n",
       "    <tr>\n",
       "      <th>Wag the Dog (1997)</th>\n",
       "      <td>3.573222</td>\n",
       "      <td>3.459581</td>\n",
       "    </tr>\n",
       "    <tr>\n",
       "      <th>Waking Ned Devine (1998)</th>\n",
       "      <td>3.963964</td>\n",
       "      <td>3.839917</td>\n",
       "    </tr>\n",
       "    <tr>\n",
       "      <th>War of the Worlds, The (1953)</th>\n",
       "      <td>3.885246</td>\n",
       "      <td>3.855159</td>\n",
       "    </tr>\n",
       "    <tr>\n",
       "      <th>Waterworld (1995)</th>\n",
       "      <td>2.593496</td>\n",
       "      <td>2.640152</td>\n",
       "    </tr>\n",
       "    <tr>\n",
       "      <th>Wayne's World (1992)</th>\n",
       "      <td>3.464286</td>\n",
       "      <td>3.646429</td>\n",
       "    </tr>\n",
       "    <tr>\n",
       "      <th>Wedding Singer, The (1998)</th>\n",
       "      <td>3.581081</td>\n",
       "      <td>3.445351</td>\n",
       "    </tr>\n",
       "    <tr>\n",
       "      <th>Weird Science (1985)</th>\n",
       "      <td>3.375000</td>\n",
       "      <td>3.435961</td>\n",
       "    </tr>\n",
       "    <tr>\n",
       "      <th>West Side Story (1961)</th>\n",
       "      <td>4.228374</td>\n",
       "      <td>3.953390</td>\n",
       "    </tr>\n",
       "    <tr>\n",
       "      <th>Westworld (1973)</th>\n",
       "      <td>3.371795</td>\n",
       "      <td>3.428315</td>\n",
       "    </tr>\n",
       "    <tr>\n",
       "      <th>What About Bob? (1991)</th>\n",
       "      <td>3.429293</td>\n",
       "      <td>3.387722</td>\n",
       "    </tr>\n",
       "    <tr>\n",
       "      <th>What's Eating Gilbert Grape (1993)</th>\n",
       "      <td>3.879668</td>\n",
       "      <td>3.820796</td>\n",
       "    </tr>\n",
       "    <tr>\n",
       "      <th>When Harry Met Sally... (1989)</th>\n",
       "      <td>4.257028</td>\n",
       "      <td>3.987850</td>\n",
       "    </tr>\n",
       "    <tr>\n",
       "      <th>While You Were Sleeping (1995)</th>\n",
       "      <td>3.636066</td>\n",
       "      <td>3.385870</td>\n",
       "    </tr>\n",
       "    <tr>\n",
       "      <th>White Men Can't Jump (1992)</th>\n",
       "      <td>3.028777</td>\n",
       "      <td>3.231061</td>\n",
       "    </tr>\n",
       "    <tr>\n",
       "      <th>Who Framed Roger Rabbit? (1988)</th>\n",
       "      <td>3.569378</td>\n",
       "      <td>3.713251</td>\n",
       "    </tr>\n",
       "    <tr>\n",
       "      <th>Whole Nine Yards, The (2000)</th>\n",
       "      <td>3.296552</td>\n",
       "      <td>3.404814</td>\n",
       "    </tr>\n",
       "    <tr>\n",
       "      <th>Wild Things (1998)</th>\n",
       "      <td>3.392000</td>\n",
       "      <td>3.459082</td>\n",
       "    </tr>\n",
       "    <tr>\n",
       "      <th>Wild Wild West (1999)</th>\n",
       "      <td>2.275449</td>\n",
       "      <td>2.131973</td>\n",
       "    </tr>\n",
       "    <tr>\n",
       "      <th>Willow (1988)</th>\n",
       "      <td>3.658683</td>\n",
       "      <td>3.453543</td>\n",
       "    </tr>\n",
       "    <tr>\n",
       "      <th>Willy Wonka and the Chocolate Factory (1971)</th>\n",
       "      <td>4.063953</td>\n",
       "      <td>3.789474</td>\n",
       "    </tr>\n",
       "    <tr>\n",
       "      <th>Witness (1985)</th>\n",
       "      <td>4.115854</td>\n",
       "      <td>3.941504</td>\n",
       "    </tr>\n",
       "    <tr>\n",
       "      <th>Wizard of Oz, The (1939)</th>\n",
       "      <td>4.355030</td>\n",
       "      <td>4.203138</td>\n",
       "    </tr>\n",
       "    <tr>\n",
       "      <th>Working Girl (1988)</th>\n",
       "      <td>3.606742</td>\n",
       "      <td>3.312500</td>\n",
       "    </tr>\n",
       "    <tr>\n",
       "      <th>World Is Not Enough, The (1999)</th>\n",
       "      <td>3.337500</td>\n",
       "      <td>3.388889</td>\n",
       "    </tr>\n",
       "    <tr>\n",
       "      <th>Wrong Trousers, The (1993)</th>\n",
       "      <td>4.588235</td>\n",
       "      <td>4.478261</td>\n",
       "    </tr>\n",
       "    <tr>\n",
       "      <th>X-Files: Fight the Future, The (1998)</th>\n",
       "      <td>3.489474</td>\n",
       "      <td>3.493797</td>\n",
       "    </tr>\n",
       "    <tr>\n",
       "      <th>X-Men (2000)</th>\n",
       "      <td>3.682310</td>\n",
       "      <td>3.851702</td>\n",
       "    </tr>\n",
       "    <tr>\n",
       "      <th>You've Got Mail (1998)</th>\n",
       "      <td>3.542424</td>\n",
       "      <td>3.275591</td>\n",
       "    </tr>\n",
       "    <tr>\n",
       "      <th>Young Frankenstein (1974)</th>\n",
       "      <td>4.289963</td>\n",
       "      <td>4.239177</td>\n",
       "    </tr>\n",
       "    <tr>\n",
       "      <th>Young Guns (1988)</th>\n",
       "      <td>3.371795</td>\n",
       "      <td>3.425620</td>\n",
       "    </tr>\n",
       "  </tbody>\n",
       "</table>\n",
       "<p>618 rows × 2 columns</p>\n",
       "</div>"
      ],
      "text/plain": [
       "                                                          평점          \n",
       "성별                                                         F         M\n",
       "제목                                                                    \n",
       "10 Things I Hate About You (1999)                   3.646552  3.311966\n",
       "101 Dalmatians (1961)                               3.791444  3.500000\n",
       "12 Angry Men (1957)                                 4.184397  4.328421\n",
       "13th Warrior, The (1999)                            3.112000  3.168000\n",
       "20,000 Leagues Under the Sea (1954)                 3.670103  3.709205\n",
       "2001: A Space Odyssey (1968)                        3.825581  4.129738\n",
       "28 Days (2000)                                      3.209424  2.977707\n",
       "Abyss, The (1989)                                   3.659236  3.689507\n",
       "Ace Ventura: Pet Detective (1994)                   3.000000  3.197917\n",
       "Addams Family, The (1991)                           3.186170  3.163498\n",
       "Adventures in Babysitting (1987)                    3.455782  3.208122\n",
       "Adventures of Buckaroo Bonzai Across the 8th Di...  3.308511  3.402321\n",
       "African Queen, The (1951)                           4.324232  4.223822\n",
       "Air Force One (1997)                                3.699588  3.555822\n",
       "Airplane II: The Sequel (1982)                      2.906250  2.995671\n",
       "Airplane! (1980)                                    3.656566  4.064419\n",
       "Aladdin (1992)                                      3.857143  3.756494\n",
       "Alice in Wonderland (1951)                          3.705882  3.692308\n",
       "Alien (1979)                                        3.888252  4.216119\n",
       "Alien Nation (1988)                                 3.433333  3.195946\n",
       "Alien: Resurrection (1997)                          2.708738  2.997041\n",
       "Aliens (1986)                                       3.802083  4.186684\n",
       "Alien� (1992)                                       3.008264  3.042289\n",
       "Almost Famous (2000)                                4.220217  4.228731\n",
       "Amadeus (1984)                                      4.346734  4.213415\n",
       "American Beauty (1999)                              4.238901  4.347301\n",
       "American Graffiti (1973)                            3.940476  4.055556\n",
       "American History X (1998)                           4.181818  4.240741\n",
       "American Pie (1999)                                 3.539792  3.754545\n",
       "American President, The (1995)                      3.923483  3.718654\n",
       "...                                                      ...       ...\n",
       "Wag the Dog (1997)                                  3.573222  3.459581\n",
       "Waking Ned Devine (1998)                            3.963964  3.839917\n",
       "War of the Worlds, The (1953)                       3.885246  3.855159\n",
       "Waterworld (1995)                                   2.593496  2.640152\n",
       "Wayne's World (1992)                                3.464286  3.646429\n",
       "Wedding Singer, The (1998)                          3.581081  3.445351\n",
       "Weird Science (1985)                                3.375000  3.435961\n",
       "West Side Story (1961)                              4.228374  3.953390\n",
       "Westworld (1973)                                    3.371795  3.428315\n",
       "What About Bob? (1991)                              3.429293  3.387722\n",
       "What's Eating Gilbert Grape (1993)                  3.879668  3.820796\n",
       "When Harry Met Sally... (1989)                      4.257028  3.987850\n",
       "While You Were Sleeping (1995)                      3.636066  3.385870\n",
       "White Men Can't Jump (1992)                         3.028777  3.231061\n",
       "Who Framed Roger Rabbit? (1988)                     3.569378  3.713251\n",
       "Whole Nine Yards, The (2000)                        3.296552  3.404814\n",
       "Wild Things (1998)                                  3.392000  3.459082\n",
       "Wild Wild West (1999)                               2.275449  2.131973\n",
       "Willow (1988)                                       3.658683  3.453543\n",
       "Willy Wonka and the Chocolate Factory (1971)        4.063953  3.789474\n",
       "Witness (1985)                                      4.115854  3.941504\n",
       "Wizard of Oz, The (1939)                            4.355030  4.203138\n",
       "Working Girl (1988)                                 3.606742  3.312500\n",
       "World Is Not Enough, The (1999)                     3.337500  3.388889\n",
       "Wrong Trousers, The (1993)                          4.588235  4.478261\n",
       "X-Files: Fight the Future, The (1998)               3.489474  3.493797\n",
       "X-Men (2000)                                        3.682310  3.851702\n",
       "You've Got Mail (1998)                              3.542424  3.275591\n",
       "Young Frankenstein (1974)                           4.289963  4.239177\n",
       "Young Guns (1988)                                   3.371795  3.425620\n",
       "\n",
       "[618 rows x 2 columns]"
      ]
     },
     "execution_count": 205,
     "metadata": {},
     "output_type": "execute_result"
    }
   ],
   "source": [
    "final1.pivot_table(index=['제목', '성별'], values='평점',\n",
    "                  aggfunc='mean').unstack()"
   ]
  },
  {
   "cell_type": "code",
   "execution_count": 207,
   "metadata": {},
   "outputs": [],
   "source": [
    "# columns\n",
    "pivot1 = final1.pivot_table(index='제목', values='평점', columns='성별',\n",
    "                  aggfunc='mean')"
   ]
  },
  {
   "cell_type": "code",
   "execution_count": 213,
   "metadata": {},
   "outputs": [],
   "source": [
    "# 절대값 : abs(), np.abs()\n",
    "pivot1['남녀차이'] = np.abs(pivot1['F'] - pivot1['M'])"
   ]
  },
  {
   "cell_type": "code",
   "execution_count": null,
   "metadata": {},
   "outputs": [],
   "source": [
    "pivot1['F'].sub(picot1['M'])"
   ]
  },
  {
   "cell_type": "code",
   "execution_count": 220,
   "metadata": {},
   "outputs": [
    {
     "data": {
      "text/plain": [
       "['Dirty Dancing (1987)',\n",
       " 'Good, The Bad and The Ugly, The (1966)',\n",
       " 'Dumb & Dumber (1994)',\n",
       " 'Evil Dead II (Dead By Dawn) (1987)',\n",
       " 'Grease (1978)',\n",
       " 'Caddyshack (1980)',\n",
       " 'Animal House (1978)',\n",
       " 'Exorcist, The (1973)',\n",
       " 'Rocky Horror Picture Show, The (1975)',\n",
       " 'Big Trouble in Little China (1986)']"
      ]
     },
     "execution_count": 220,
     "metadata": {},
     "output_type": "execute_result"
    }
   ],
   "source": [
    "pivot1['남녀차이'].sort_values(ascending=False).head(10).index.tolist()"
   ]
  }
 ],
 "metadata": {
  "kernelspec": {
   "display_name": "Python 3",
   "language": "python",
   "name": "python3"
  },
  "language_info": {
   "codemirror_mode": {
    "name": "ipython",
    "version": 3
   },
   "file_extension": ".py",
   "mimetype": "text/x-python",
   "name": "python",
   "nbconvert_exporter": "python",
   "pygments_lexer": "ipython3",
   "version": "3.7.3"
  }
 },
 "nbformat": 4,
 "nbformat_minor": 2
}
