{
 "cells": [
  {
   "cell_type": "markdown",
   "metadata": {},
   "source": [
    "### 정규표현식(Regular Expressions)\n",
    "\n",
    "- 정규식\n",
    "- 복잡한 문자열을 처리할 때 사용하는 프로그래밍 기법\n",
    "\n",
    "\n",
    "### 정규표현식의 메타 문자\n",
    "\n",
    "- 문자클래스 [] : [와 ] 사이의 문자들과 매치 \n",
    "- Dot(.) : 모든 문자\n",
    "- 반복(+) 정규식 \n",
    "- 반복(*) 정규식\n",
    "- ? 정규식\n",
    "- 반복({m,n}) 정규식"
   ]
  },
  {
   "cell_type": "code",
   "execution_count": 1,
   "metadata": {},
   "outputs": [],
   "source": [
    "# 정규표현식 라이브러리 가져오기\n",
    "import re"
   ]
  },
  {
   "cell_type": "code",
   "execution_count": null,
   "metadata": {},
   "outputs": [],
   "source": [
    "# 문자클래스 [] : [와 ] 사이에 있는 문자들로 패턴을 정함\n",
    "# 예제1.\n",
    "# [abc] : 문자 a,b,c 중 하나 매칭\n",
    "# 'a' => 매치 => a\n",
    "# 'before' => 매치 => b\n",
    "# 'love' => X"
   ]
  },
  {
   "cell_type": "code",
   "execution_count": null,
   "metadata": {},
   "outputs": [],
   "source": [
    "# 예제2.\n",
    "# [a-z] : from - to => a부터 z까지 (소문자 알파벳)\n",
    "# [a-zA-Z] : 모든 영어(대소문자 포함)\n",
    "# [0-9] : 모든 숫자"
   ]
  },
  {
   "cell_type": "code",
   "execution_count": null,
   "metadata": {},
   "outputs": [],
   "source": [
    "# Dot(.) 정규식 : 모든 문자\n",
    "# a.b vs [a.b] vs a[.]b\n",
    "# a.b : a와 b 사이에 모든 문자가 올 수 있다.\n",
    "# [a.b] : a 또는 . 또는 b 중 하나와 매치\n",
    "# a[.]b : a와 b 사이에 . 문자열 하나와 매치\n",
    "# \"aab\" : a.b 매치, [a.b] 매치, a[.]b X\n",
    "# \"a0b\" : O, O, X\n",
    "# \"abc\" : X, O, X"
   ]
  },
  {
   "cell_type": "code",
   "execution_count": null,
   "metadata": {},
   "outputs": [],
   "source": [
    "# 반복(*) 정규식 : * 바로 앞에 있는 문자가 0~무한개(2억) 반복가능\n",
    "# pattern : ca*t => a가 없어도 되고 무한히 반복해도 된다.\n",
    "# 'ct' : O\n",
    "# 'cat' : O\n",
    "# 'caat' : O"
   ]
  },
  {
   "cell_type": "code",
   "execution_count": null,
   "metadata": {},
   "outputs": [],
   "source": [
    "# 반복(+) 정규식 : + 바로 앞에 있는 문자가 최소 1번 이상 있어야한다.\n",
    "# 예제\n",
    "# pattern : ca+t\n",
    "# 'ct' : X\n",
    "# 'cat' : O\n",
    "# 'caat' : O"
   ]
  },
  {
   "cell_type": "code",
   "execution_count": null,
   "metadata": {},
   "outputs": [],
   "source": [
    "# 반복({m,n}) 정규식 : 바로 앞 문자의 반복횟수 지정\n",
    "# m 이상 n 이하\n",
    "# 예제\n",
    "# pattern : ca{2}t => a가 2번 이상 반복해야함\n",
    "# 'ct' : X\n",
    "# 'cat' : X\n",
    "# 'caat' : O"
   ]
  },
  {
   "cell_type": "code",
   "execution_count": null,
   "metadata": {},
   "outputs": [],
   "source": [
    "# ? 정규식 : {0,1} => 0번 이상 1번 이하\n",
    "# 예제\n",
    "# pattern : ab?c = ab{0,1}c\n",
    "# 'abc' : O\n",
    "# 'ac' : O\n",
    "# 'abbc' : X"
   ]
  },
  {
   "cell_type": "markdown",
   "metadata": {},
   "source": [
    "###  정규식을 이용한 문자열 검색\n",
    "- pattern = re.compile('정규식')\n",
    "- pattern.match() : 문자열의 처음부터 정규식과 매치되는지 조사한다.\n",
    "    - 매치된 문자열 확인 : obj.group()\n",
    "- pattern.search() : 문자열 전체를 검색하여 정규식과 매치되는지 조사한다.\n",
    "    - 매치된 문자열 확인 : obj.group()\n",
    "- pattern.findall() : 정규식과 매치되는 모든 문자열(substring)을 리스트로 리턴한다\n",
    "    - 매치된 문자열 확인 : obj가 리스트로 반환"
   ]
  },
  {
   "cell_type": "code",
   "execution_count": 4,
   "metadata": {},
   "outputs": [],
   "source": [
    "# 정규식 필터링을 위한 컴파일 객체 생성\n",
    "# re.complie('정규식')\n",
    "# 패턴 : 소문자 알파벳 a부터 g까지의 문자열 중 하나와 매치 확인\n",
    "# [a-g]\n",
    "p = re.compile('[a-g]')"
   ]
  },
  {
   "cell_type": "markdown",
   "metadata": {},
   "source": [
    "#### match()"
   ]
  },
  {
   "cell_type": "code",
   "execution_count": null,
   "metadata": {},
   "outputs": [],
   "source": [
    "# 'axy'\n",
    "# 패턴객체(p).match(대상문자열)\n",
    "# 소문자 알파벳 a부터 g까지의 문자열 중 하나와 매치여부를 확인하는 패턴\n",
    "# 매치된 결과\n",
    "result1 = p.match('axy')"
   ]
  },
  {
   "cell_type": "code",
   "execution_count": null,
   "metadata": {},
   "outputs": [],
   "source": [
    "# 적용한 문자열에서 패턴과 매치된 결과를 반환\n",
    "result1.group()"
   ]
  },
  {
   "cell_type": "code",
   "execution_count": null,
   "metadata": {},
   "outputs": [],
   "source": [
    "# 'xay'\n",
    "result2 = p.match('xay')"
   ]
  },
  {
   "cell_type": "code",
   "execution_count": null,
   "metadata": {},
   "outputs": [],
   "source": [
    "# 매치되지 않은 결과\n",
    "result2"
   ]
  },
  {
   "cell_type": "code",
   "execution_count": null,
   "metadata": {},
   "outputs": [],
   "source": [
    "# 매치된 결과가 없음\n",
    "result2.group()"
   ]
  },
  {
   "cell_type": "code",
   "execution_count": 2,
   "metadata": {},
   "outputs": [],
   "source": [
    "# 정규식 반환 결과의 사용예\n",
    "# 패턴 생성, 문자열 검색 작업 완료\n",
    "# 패턴 생성\n",
    "def match_check(x):\n",
    "    result = p.match(x)\n",
    "    if result:\n",
    "        msg = 'Match Found : {}'.format(result.group())\n",
    "    else:\n",
    "        msg = 'No Match Found '\n",
    "    \n",
    "    return msg"
   ]
  },
  {
   "cell_type": "code",
   "execution_count": 5,
   "metadata": {},
   "outputs": [
    {
     "data": {
      "text/plain": [
       "'Match Found : a'"
      ]
     },
     "execution_count": 5,
     "metadata": {},
     "output_type": "execute_result"
    }
   ],
   "source": [
    "match_check('ax')"
   ]
  },
  {
   "cell_type": "markdown",
   "metadata": {},
   "source": [
    "#### search()"
   ]
  },
  {
   "cell_type": "code",
   "execution_count": 6,
   "metadata": {},
   "outputs": [
    {
     "data": {
      "text/plain": [
       "<re.Match object; span=(0, 1), match='a'>"
      ]
     },
     "execution_count": 6,
     "metadata": {},
     "output_type": "execute_result"
    }
   ],
   "source": [
    "# 예제1\n",
    "# axy(a), xay(None)\n",
    "p.search('axy')"
   ]
  },
  {
   "cell_type": "code",
   "execution_count": 7,
   "metadata": {},
   "outputs": [
    {
     "data": {
      "text/plain": [
       "<re.Match object; span=(1, 2), match='a'>"
      ]
     },
     "execution_count": 7,
     "metadata": {},
     "output_type": "execute_result"
    }
   ],
   "source": [
    "p.search('xay')"
   ]
  },
  {
   "cell_type": "code",
   "execution_count": 10,
   "metadata": {},
   "outputs": [],
   "source": [
    "# 예제2\n",
    "result = p.search('xyayb')"
   ]
  },
  {
   "cell_type": "code",
   "execution_count": 11,
   "metadata": {},
   "outputs": [
    {
     "data": {
      "text/plain": [
       "'a'"
      ]
     },
     "execution_count": 11,
     "metadata": {},
     "output_type": "execute_result"
    }
   ],
   "source": [
    "result.group()"
   ]
  },
  {
   "cell_type": "markdown",
   "metadata": {},
   "source": [
    "#### findall()"
   ]
  },
  {
   "cell_type": "code",
   "execution_count": 12,
   "metadata": {},
   "outputs": [
    {
     "data": {
      "text/plain": [
       "['a', 'b']"
      ]
     },
     "execution_count": 12,
     "metadata": {},
     "output_type": "execute_result"
    }
   ],
   "source": [
    "# 예제\n",
    "# 결과를 리스트로 반환\n",
    "p.findall('xyayb')"
   ]
  },
  {
   "cell_type": "markdown",
   "metadata": {},
   "source": [
    "##### 정규식 예제 코드 작성"
   ]
  },
  {
   "cell_type": "code",
   "execution_count": 13,
   "metadata": {},
   "outputs": [],
   "source": [
    "# [abc] : abc 중 하나와 매치\n",
    "p1 = re.compile('[abc]')"
   ]
  },
  {
   "cell_type": "code",
   "execution_count": 15,
   "metadata": {},
   "outputs": [
    {
     "data": {
      "text/plain": [
       "<re.Match object; span=(0, 1), match='a'>"
      ]
     },
     "execution_count": 15,
     "metadata": {},
     "output_type": "execute_result"
    }
   ],
   "source": [
    "# a\n",
    "p1.match('a')"
   ]
  },
  {
   "cell_type": "code",
   "execution_count": 17,
   "metadata": {},
   "outputs": [
    {
     "data": {
      "text/plain": [
       "<re.Match object; span=(0, 1), match='b'>"
      ]
     },
     "execution_count": 17,
     "metadata": {},
     "output_type": "execute_result"
    }
   ],
   "source": [
    "# \"before\"는 정규식과 일치하는 문자인 \"b\"가 있으므로 매치\n",
    "p1.match('before')\n",
    "p1.search('before')"
   ]
  },
  {
   "cell_type": "code",
   "execution_count": 19,
   "metadata": {},
   "outputs": [
    {
     "name": "stdout",
     "output_type": "stream",
     "text": [
      "None\n"
     ]
    }
   ],
   "source": [
    "# love : X\n",
    "print(p1.search('love'))"
   ]
  },
  {
   "cell_type": "code",
   "execution_count": 25,
   "metadata": {},
   "outputs": [
    {
     "data": {
      "text/plain": [
       "['c', 'c']"
      ]
     },
     "execution_count": 25,
     "metadata": {},
     "output_type": "execute_result"
    }
   ],
   "source": [
    "p1.findall('ococ')"
   ]
  },
  {
   "cell_type": "code",
   "execution_count": null,
   "metadata": {},
   "outputs": [],
   "source": [
    "# ca*t : a가 없어도 되고 여러번 반복 가능\n",
    "# ct, cat, caat"
   ]
  },
  {
   "cell_type": "code",
   "execution_count": 27,
   "metadata": {},
   "outputs": [],
   "source": [
    "p2 = re.compile('ca*t')"
   ]
  },
  {
   "cell_type": "code",
   "execution_count": 28,
   "metadata": {},
   "outputs": [
    {
     "data": {
      "text/plain": [
       "<re.Match object; span=(0, 2), match='ct'>"
      ]
     },
     "execution_count": 28,
     "metadata": {},
     "output_type": "execute_result"
    }
   ],
   "source": [
    "p2.match('ct')"
   ]
  },
  {
   "cell_type": "code",
   "execution_count": 29,
   "metadata": {},
   "outputs": [
    {
     "data": {
      "text/plain": [
       "<re.Match object; span=(0, 2), match='ct'>"
      ]
     },
     "execution_count": 29,
     "metadata": {},
     "output_type": "execute_result"
    }
   ],
   "source": [
    "p2.search('ct')"
   ]
  },
  {
   "cell_type": "code",
   "execution_count": 30,
   "metadata": {},
   "outputs": [
    {
     "data": {
      "text/plain": [
       "['ct']"
      ]
     },
     "execution_count": 30,
     "metadata": {},
     "output_type": "execute_result"
    }
   ],
   "source": [
    "p2.findall('ct')"
   ]
  },
  {
   "cell_type": "code",
   "execution_count": 31,
   "metadata": {},
   "outputs": [
    {
     "data": {
      "text/plain": [
       "<re.Match object; span=(0, 3), match='cat'>"
      ]
     },
     "execution_count": 31,
     "metadata": {},
     "output_type": "execute_result"
    }
   ],
   "source": [
    "p2.match('cat')"
   ]
  },
  {
   "cell_type": "code",
   "execution_count": 32,
   "metadata": {},
   "outputs": [
    {
     "data": {
      "text/plain": [
       "<re.Match object; span=(0, 3), match='cat'>"
      ]
     },
     "execution_count": 32,
     "metadata": {},
     "output_type": "execute_result"
    }
   ],
   "source": [
    "p2.search('cat')"
   ]
  },
  {
   "cell_type": "code",
   "execution_count": 33,
   "metadata": {},
   "outputs": [
    {
     "data": {
      "text/plain": [
       "['cat']"
      ]
     },
     "execution_count": 33,
     "metadata": {},
     "output_type": "execute_result"
    }
   ],
   "source": [
    "p2.findall('cat')"
   ]
  },
  {
   "cell_type": "code",
   "execution_count": 34,
   "metadata": {},
   "outputs": [
    {
     "data": {
      "text/plain": [
       "<re.Match object; span=(0, 7), match='caaaaat'>"
      ]
     },
     "execution_count": 34,
     "metadata": {},
     "output_type": "execute_result"
    }
   ],
   "source": [
    "p2.match('caaaaat')"
   ]
  },
  {
   "cell_type": "code",
   "execution_count": 35,
   "metadata": {},
   "outputs": [],
   "source": [
    "# 문자 c,a,*,t 중에 하나와 매치\n",
    "p3 = re.compile('[ca*t]')"
   ]
  },
  {
   "cell_type": "code",
   "execution_count": 38,
   "metadata": {},
   "outputs": [],
   "source": [
    "# 결과 없음\n",
    "p2.match('tc')"
   ]
  },
  {
   "cell_type": "code",
   "execution_count": 37,
   "metadata": {},
   "outputs": [
    {
     "data": {
      "text/plain": [
       "<re.Match object; span=(0, 1), match='t'>"
      ]
     },
     "execution_count": 37,
     "metadata": {},
     "output_type": "execute_result"
    }
   ],
   "source": [
    "p3.match('tc')"
   ]
  },
  {
   "cell_type": "code",
   "execution_count": 40,
   "metadata": {},
   "outputs": [
    {
     "data": {
      "text/plain": [
       "['c', 'a', 'a', 'a', '*', 't']"
      ]
     },
     "execution_count": 40,
     "metadata": {},
     "output_type": "execute_result"
    }
   ],
   "source": [
    "p3.findall('caaa*t')"
   ]
  },
  {
   "cell_type": "code",
   "execution_count": 41,
   "metadata": {},
   "outputs": [
    {
     "data": {
      "text/plain": [
       "[]"
      ]
     },
     "execution_count": 41,
     "metadata": {},
     "output_type": "execute_result"
    }
   ],
   "source": [
    "p2.findall('caaa*t')"
   ]
  },
  {
   "cell_type": "code",
   "execution_count": 42,
   "metadata": {},
   "outputs": [],
   "source": [
    "# ca+t : a가 한 번 이상 반복\n",
    "p4 = re.compile('ca+t')"
   ]
  },
  {
   "cell_type": "code",
   "execution_count": 43,
   "metadata": {},
   "outputs": [],
   "source": [
    "p4.match('ct')"
   ]
  },
  {
   "cell_type": "code",
   "execution_count": 44,
   "metadata": {
    "scrolled": true
   },
   "outputs": [
    {
     "data": {
      "text/plain": [
       "<re.Match object; span=(0, 3), match='cat'>"
      ]
     },
     "execution_count": 44,
     "metadata": {},
     "output_type": "execute_result"
    }
   ],
   "source": [
    "p4.match('cat')"
   ]
  },
  {
   "cell_type": "code",
   "execution_count": 45,
   "metadata": {},
   "outputs": [
    {
     "data": {
      "text/plain": [
       "<re.Match object; span=(0, 7), match='caaaaat'>"
      ]
     },
     "execution_count": 45,
     "metadata": {},
     "output_type": "execute_result"
    }
   ],
   "source": [
    "p4.match('caaaaat')"
   ]
  },
  {
   "cell_type": "code",
   "execution_count": 46,
   "metadata": {},
   "outputs": [],
   "source": [
    "# ca{2}t : a가 최소 두 번이상 반복 가능\n",
    "p5 = re.compile('ca{2}t')"
   ]
  },
  {
   "cell_type": "code",
   "execution_count": 47,
   "metadata": {},
   "outputs": [],
   "source": [
    "p5.match('cat')"
   ]
  },
  {
   "cell_type": "code",
   "execution_count": 48,
   "metadata": {},
   "outputs": [
    {
     "data": {
      "text/plain": [
       "<re.Match object; span=(0, 4), match='caat'>"
      ]
     },
     "execution_count": 48,
     "metadata": {},
     "output_type": "execute_result"
    }
   ],
   "source": [
    "p5.match('caat')"
   ]
  },
  {
   "cell_type": "code",
   "execution_count": 49,
   "metadata": {},
   "outputs": [],
   "source": [
    "# 반복{m,n}\n",
    "p6 = re.compile('ca{2,4}t')\n",
    "p6.match('cat')"
   ]
  },
  {
   "cell_type": "code",
   "execution_count": 50,
   "metadata": {},
   "outputs": [],
   "source": [
    "p6.match('caaaaaat')"
   ]
  },
  {
   "cell_type": "code",
   "execution_count": 51,
   "metadata": {},
   "outputs": [
    {
     "data": {
      "text/plain": [
       "<re.Match object; span=(0, 5), match='caaat'>"
      ]
     },
     "execution_count": 51,
     "metadata": {},
     "output_type": "execute_result"
    }
   ],
   "source": [
    "p6.match('caaat')"
   ]
  },
  {
   "cell_type": "code",
   "execution_count": 52,
   "metadata": {},
   "outputs": [],
   "source": [
    "# ab?c : {0,1}\n",
    "p7 = re.compile('ab?c')"
   ]
  },
  {
   "cell_type": "code",
   "execution_count": 53,
   "metadata": {},
   "outputs": [
    {
     "data": {
      "text/plain": [
       "<re.Match object; span=(0, 2), match='ac'>"
      ]
     },
     "execution_count": 53,
     "metadata": {},
     "output_type": "execute_result"
    }
   ],
   "source": [
    "p7.match('ac')"
   ]
  },
  {
   "cell_type": "code",
   "execution_count": 54,
   "metadata": {},
   "outputs": [
    {
     "data": {
      "text/plain": [
       "<re.Match object; span=(0, 3), match='abc'>"
      ]
     },
     "execution_count": 54,
     "metadata": {},
     "output_type": "execute_result"
    }
   ],
   "source": [
    "p7.match('abc')"
   ]
  },
  {
   "cell_type": "code",
   "execution_count": 55,
   "metadata": {},
   "outputs": [],
   "source": [
    "p7.match('abbc')"
   ]
  },
  {
   "cell_type": "markdown",
   "metadata": {},
   "source": [
    "### compile 옵션\n",
    "\n",
    "- re.DOTALL, re.S <br>\n",
    "    메타 문자는 줄바꿈 문자(\\n)를 제외한 모든 문자와 매치되는 규칙이 있다. <br>만약 \\n 문자도 포함하여 매치하고 싶다면 re.DOTALL 또는 re.S 옵션을 사용해 정규식을 컴파일\n",
    "    \n",
    "- re.IGNORECASE, re.I <br>\n",
    "    소문자 구분없이 매치를 수행하고자 할 경우에 사용하는 옵션\n",
    "    \n",
    "- re.MUTILINE, re.M <br>\n",
    "    메타 문자를 문자열 전체의 처음이 아니라 각 라인의 처음으로 인식시키고 싶은 경우\n"
   ]
  },
  {
   "cell_type": "code",
   "execution_count": 56,
   "metadata": {},
   "outputs": [],
   "source": [
    "# 일반적인 compile\n",
    "# 패턴 : a.b => a와 b 사이에 모든 문자가 올 수 있다.\n",
    "# 기본값 : 줄바꿈 문자를 제외한 모든문자\n",
    "p = re.compile('a.b')\n",
    "p.match('a\\nb')"
   ]
  },
  {
   "cell_type": "code",
   "execution_count": 57,
   "metadata": {},
   "outputs": [
    {
     "data": {
      "text/plain": [
       "<re.Match object; span=(0, 3), match='a\\nb'>"
      ]
     },
     "execution_count": 57,
     "metadata": {},
     "output_type": "execute_result"
    }
   ],
   "source": [
    "# DOTALL, S\n",
    "p = re.compile('a.b', re.S)  # re.DOTALL\n",
    "p.match('a\\nb')"
   ]
  },
  {
   "cell_type": "code",
   "execution_count": 58,
   "metadata": {},
   "outputs": [
    {
     "data": {
      "text/plain": [
       "<re.Match object; span=(0, 1), match='p'>"
      ]
     },
     "execution_count": 58,
     "metadata": {},
     "output_type": "execute_result"
    }
   ],
   "source": [
    "# IGNORECASE, I\n",
    "# 패턴 : [a-z] => 소문자 a부터 z까지 중에 하나 매치\n",
    "p = re.compile('[a-z]')\n",
    "p.match('python')"
   ]
  },
  {
   "cell_type": "code",
   "execution_count": 59,
   "metadata": {},
   "outputs": [],
   "source": [
    "p.match('Python')"
   ]
  },
  {
   "cell_type": "code",
   "execution_count": 60,
   "metadata": {},
   "outputs": [
    {
     "data": {
      "text/plain": [
       "<re.Match object; span=(0, 1), match='P'>"
      ]
     },
     "execution_count": 60,
     "metadata": {},
     "output_type": "execute_result"
    }
   ],
   "source": [
    "# re.IGNORECASE\n",
    "p = re.compile('[a-z]', re.I)\n",
    "p.match('Python')"
   ]
  },
  {
   "cell_type": "code",
   "execution_count": 61,
   "metadata": {},
   "outputs": [],
   "source": [
    "# 사용할 패턴에서 문장의 처음이라는 조건이 있고\n",
    "# 적용하는 문자열이 multi-line 일 때\n",
    "# 패턴 : ^python으로 시작하는 조건\n",
    "p = re.compile('^python')"
   ]
  },
  {
   "cell_type": "code",
   "execution_count": 62,
   "metadata": {},
   "outputs": [],
   "source": [
    "text = '''python is easy\n",
    "hello world\n",
    "python world\n",
    "you need python\n",
    "'''"
   ]
  },
  {
   "cell_type": "code",
   "execution_count": 63,
   "metadata": {},
   "outputs": [
    {
     "data": {
      "text/plain": [
       "['python']"
      ]
     },
     "execution_count": 63,
     "metadata": {},
     "output_type": "execute_result"
    }
   ],
   "source": [
    "p.findall(text)"
   ]
  },
  {
   "cell_type": "code",
   "execution_count": 64,
   "metadata": {},
   "outputs": [
    {
     "data": {
      "text/plain": [
       "['python', 'python']"
      ]
     },
     "execution_count": 64,
     "metadata": {},
     "output_type": "execute_result"
    }
   ],
   "source": [
    "p = re.compile('^python', re.M)\n",
    "p.findall(text)"
   ]
  },
  {
   "cell_type": "code",
   "execution_count": 65,
   "metadata": {},
   "outputs": [
    {
     "data": {
      "text/plain": [
       "['python', 'python', 'python']"
      ]
     },
     "execution_count": 65,
     "metadata": {},
     "output_type": "execute_result"
    }
   ],
   "source": [
    "# python 이라는 단어와 매치\n",
    "# 전체 매치를 반환 : 문장 중간 또는 마지막도 해당\n",
    "p = re.compile('python', re.M)\n",
    "p.findall(text)"
   ]
  },
  {
   "cell_type": "markdown",
   "metadata": {},
   "source": [
    "### ※ 기타 문자 클래스 및 메타문자\n",
    "- | : 또는\n",
    "- ^ : 문자열의 처음\n",
    "- $ : 문자열의 마지막\n",
    "- \\d : 숫자와 매치, [0-9]와 동일\n",
    "- \\D : 숫자가 아닌 것과 매치, [^0-9]와 동일\n",
    "- \\s : 공백문자(공백, 탭, 개행문자)와 매치, [ \\t\\n\\r\\f\\v] 과 동일\n",
    "- \\S : whitespace가 아닌 것 매치, [^ \\t\\n\\r\\v\\f] 과 동일\n",
    "- \\w : 모든 문자+숫자+밑줄과 매치, [a-zA-Z0-9_] 과 동일\n",
    "- \\W : 문자와 숫자, 밑줄이 아닌 것 매치,\t[^a-zA-Z0-9_] 과 동일"
   ]
  },
  {
   "cell_type": "code",
   "execution_count": 76,
   "metadata": {},
   "outputs": [],
   "source": [
    "# hello|python \n",
    "p = re.compile('hello|python')"
   ]
  },
  {
   "cell_type": "code",
   "execution_count": 77,
   "metadata": {},
   "outputs": [],
   "source": [
    "text = 'hello!!java!python'"
   ]
  },
  {
   "cell_type": "code",
   "execution_count": 78,
   "metadata": {},
   "outputs": [
    {
     "data": {
      "text/plain": [
       "<re.Match object; span=(0, 5), match='hello'>"
      ]
     },
     "execution_count": 78,
     "metadata": {},
     "output_type": "execute_result"
    }
   ],
   "source": [
    "p.match(text)"
   ]
  },
  {
   "cell_type": "code",
   "execution_count": 79,
   "metadata": {},
   "outputs": [
    {
     "data": {
      "text/plain": [
       "<re.Match object; span=(0, 5), match='hello'>"
      ]
     },
     "execution_count": 79,
     "metadata": {},
     "output_type": "execute_result"
    }
   ],
   "source": [
    "p.search(text)"
   ]
  },
  {
   "cell_type": "code",
   "execution_count": 72,
   "metadata": {},
   "outputs": [
    {
     "data": {
      "text/plain": [
       "['hello', 'python', 'python']"
      ]
     },
     "execution_count": 72,
     "metadata": {},
     "output_type": "execute_result"
    }
   ],
   "source": [
    "p.findall(text)"
   ]
  },
  {
   "cell_type": "code",
   "execution_count": 80,
   "metadata": {},
   "outputs": [],
   "source": [
    "# ^hello : 문자열의 처음이 hello로 시작하는 조건\n",
    "p = re.compile('^hello')\n",
    "p.search('ptyhonhello')"
   ]
  },
  {
   "cell_type": "code",
   "execution_count": 81,
   "metadata": {},
   "outputs": [],
   "source": [
    "p.match('ptyhonhello')"
   ]
  },
  {
   "cell_type": "code",
   "execution_count": 84,
   "metadata": {},
   "outputs": [
    {
     "data": {
      "text/plain": [
       "<re.Match object; span=(0, 5), match='hello'>"
      ]
     },
     "execution_count": 84,
     "metadata": {},
     "output_type": "execute_result"
    }
   ],
   "source": [
    "p.search('hellooworldpython')"
   ]
  },
  {
   "cell_type": "code",
   "execution_count": 85,
   "metadata": {},
   "outputs": [],
   "source": [
    "# hello$ : hello가 문자열의 마지막인 조건\n",
    "p = re.compile('hello$')"
   ]
  },
  {
   "cell_type": "code",
   "execution_count": 86,
   "metadata": {},
   "outputs": [
    {
     "data": {
      "text/plain": [
       "<re.Match object; span=(2, 7), match='hello'>"
      ]
     },
     "execution_count": 86,
     "metadata": {},
     "output_type": "execute_result"
    }
   ],
   "source": [
    "p.search('hihello')"
   ]
  },
  {
   "cell_type": "code",
   "execution_count": 87,
   "metadata": {},
   "outputs": [],
   "source": [
    "p.search('hellohi')"
   ]
  },
  {
   "cell_type": "code",
   "execution_count": 88,
   "metadata": {},
   "outputs": [],
   "source": [
    "# python으로 문장이 시작하고 \n",
    "# 이후 공백 + 여러개(1 이상) 단어(\\w)가 와야하는 정규식 패턴\n",
    "# 적용할 문자열은 여러 줄\n",
    "p = re.compile('^python\\s\\w+', re.M)"
   ]
  },
  {
   "cell_type": "code",
   "execution_count": 89,
   "metadata": {},
   "outputs": [],
   "source": [
    "txt = '''python \n",
    "life is too short\n",
    "python two\n",
    "you need python\n",
    "python _\n",
    "'''"
   ]
  },
  {
   "cell_type": "code",
   "execution_count": 90,
   "metadata": {},
   "outputs": [
    {
     "data": {
      "text/plain": [
       "['python two', 'python _']"
      ]
     },
     "execution_count": 90,
     "metadata": {},
     "output_type": "execute_result"
    }
   ],
   "source": [
    "# findall() 결과확인\n",
    "p.findall(txt)"
   ]
  },
  {
   "cell_type": "code",
   "execution_count": null,
   "metadata": {},
   "outputs": [],
   "source": [
    "# 정규표현식 예제\n",
    "# 휴대폰 번호 : 010-000-0000 / 010-1111-1111\n",
    "# ^\\d{3}\\-\\d{3,4}\\-\\d{4}$"
   ]
  },
  {
   "cell_type": "code",
   "execution_count": null,
   "metadata": {},
   "outputs": [],
   "source": [
    "# 주민등록번호 : 000000 - 0000000\n",
    "# ^\\d{6}\\-\\d{7}$"
   ]
  },
  {
   "cell_type": "code",
   "execution_count": null,
   "metadata": {},
   "outputs": [],
   "source": [
    "# 이메일주소 : 아이디\n",
    "# 모든문자+숫자+_+-\n",
    "# ^[0-9a-zA-Z_\\-]+"
   ]
  },
  {
   "cell_type": "code",
   "execution_count": null,
   "metadata": {},
   "outputs": [],
   "source": [
    "# 이메일주소 : 도메인주소\n",
    "# 모든문자+숫자+.+-+_\n",
    "# @[0-9a-zA-Z_\\-.]+$"
   ]
  },
  {
   "cell_type": "code",
   "execution_count": null,
   "metadata": {},
   "outputs": [],
   "source": [
    "# ^[0-9a-zA-Z_\\-]+@[0-9a-zA-Z_\\-.]+$"
   ]
  },
  {
   "cell_type": "markdown",
   "metadata": {},
   "source": [
    "### 그룹핑\n",
    "- 반복되는 패턴 적용 및 반환\n",
    "- 그룹으로 적용하려는 패턴을 소괄호()로 묶어서 표현\n",
    "- re_obj.group(n) : 추출하고 싶은 n번째 그룹 값을 지정하여 반환"
   ]
  },
  {
   "cell_type": "code",
   "execution_count": 91,
   "metadata": {},
   "outputs": [],
   "source": [
    "# test 라는 문자열의 반복을 확인하는 정규식 작성\n",
    "p = re.compile('(test)+')"
   ]
  },
  {
   "cell_type": "code",
   "execution_count": 100,
   "metadata": {},
   "outputs": [
    {
     "data": {
      "text/plain": [
       "['test', 'test', 'test']"
      ]
     },
     "execution_count": 100,
     "metadata": {},
     "output_type": "execute_result"
    }
   ],
   "source": [
    "p2 = re.compile('test')\n",
    "p2.findall('banana testtest wow test')"
   ]
  },
  {
   "cell_type": "code",
   "execution_count": 92,
   "metadata": {},
   "outputs": [],
   "source": [
    "# 문자열 전체를 검색하여 정규식과 매치되는것 확인\n",
    "result = p.search('banana testtest wow test')"
   ]
  },
  {
   "cell_type": "code",
   "execution_count": 97,
   "metadata": {},
   "outputs": [
    {
     "data": {
      "text/plain": [
       "<re.Match object; span=(7, 15), match='testtest'>"
      ]
     },
     "execution_count": 97,
     "metadata": {},
     "output_type": "execute_result"
    }
   ],
   "source": [
    "result"
   ]
  },
  {
   "cell_type": "code",
   "execution_count": 93,
   "metadata": {},
   "outputs": [
    {
     "data": {
      "text/plain": [
       "'testtest'"
      ]
     },
     "execution_count": 93,
     "metadata": {},
     "output_type": "execute_result"
    }
   ],
   "source": [
    "# 첫번째 그룹 문자열 반환(기본값)\n",
    "result.group()"
   ]
  },
  {
   "cell_type": "code",
   "execution_count": 94,
   "metadata": {},
   "outputs": [
    {
     "data": {
      "text/plain": [
       "'testtest'"
      ]
     },
     "execution_count": 94,
     "metadata": {},
     "output_type": "execute_result"
    }
   ],
   "source": [
    "# 첫번째 그룹에 해당되는 문자열\n",
    "result.group(0)"
   ]
  },
  {
   "cell_type": "code",
   "execution_count": 95,
   "metadata": {},
   "outputs": [
    {
     "data": {
      "text/plain": [
       "'test'"
      ]
     },
     "execution_count": 95,
     "metadata": {},
     "output_type": "execute_result"
    }
   ],
   "source": [
    "# 두번째 그룹에 해당되는 문자열\n",
    "result.group(1)"
   ]
  },
  {
   "cell_type": "code",
   "execution_count": 96,
   "metadata": {},
   "outputs": [
    {
     "ename": "IndexError",
     "evalue": "no such group",
     "output_type": "error",
     "traceback": [
      "\u001b[1;31m---------------------------------------------------------------------------\u001b[0m",
      "\u001b[1;31mIndexError\u001b[0m                                Traceback (most recent call last)",
      "\u001b[1;32m<ipython-input-96-ced712dbcbc6>\u001b[0m in \u001b[0;36m<module>\u001b[1;34m\u001b[0m\n\u001b[1;32m----> 1\u001b[1;33m \u001b[0mresult\u001b[0m\u001b[1;33m.\u001b[0m\u001b[0mgroup\u001b[0m\u001b[1;33m(\u001b[0m\u001b[1;36m2\u001b[0m\u001b[1;33m)\u001b[0m\u001b[1;33m\u001b[0m\u001b[1;33m\u001b[0m\u001b[0m\n\u001b[0m",
      "\u001b[1;31mIndexError\u001b[0m: no such group"
     ]
    }
   ],
   "source": [
    "result.group(2)"
   ]
  },
  {
   "cell_type": "code",
   "execution_count": 1,
   "metadata": {},
   "outputs": [],
   "source": [
    "import re"
   ]
  },
  {
   "cell_type": "code",
   "execution_count": null,
   "metadata": {},
   "outputs": [],
   "source": [
    "# re 라이브러리의 compile 모듈로 정규식 패턴 객체 생성\n",
    "# 패턴 객체를 통해 문자열을 검색\n",
    "# match, search, findall\n",
    "# 검색 결과 객체의 group() 메서드로 매치 결과를 반환"
   ]
  },
  {
   "cell_type": "code",
   "execution_count": 2,
   "metadata": {},
   "outputs": [],
   "source": [
    "# 특정 양식 기반의 반복 패턴(여러 개의 그룹)\n",
    "# 회원명(여러문자) 회원번호(00-000)\n",
    "p = re.compile(r'(\\w+)\\s+(\\d{2}[-]\\d{3})')"
   ]
  },
  {
   "cell_type": "code",
   "execution_count": 3,
   "metadata": {},
   "outputs": [],
   "source": [
    "# 김철수 01-123\n",
    "result = p.search('김철수 01-123')"
   ]
  },
  {
   "cell_type": "code",
   "execution_count": 4,
   "metadata": {},
   "outputs": [
    {
     "data": {
      "text/plain": [
       "'김철수 01-123'"
      ]
     },
     "execution_count": 4,
     "metadata": {},
     "output_type": "execute_result"
    }
   ],
   "source": [
    "# 전체 그룹\n",
    "result.group()"
   ]
  },
  {
   "cell_type": "code",
   "execution_count": 5,
   "metadata": {},
   "outputs": [
    {
     "data": {
      "text/plain": [
       "'김철수'"
      ]
     },
     "execution_count": 5,
     "metadata": {},
     "output_type": "execute_result"
    }
   ],
   "source": [
    "# 첫번째 그룹\n",
    "result.group(1)"
   ]
  },
  {
   "cell_type": "code",
   "execution_count": 6,
   "metadata": {},
   "outputs": [
    {
     "data": {
      "text/plain": [
       "'01-123'"
      ]
     },
     "execution_count": 6,
     "metadata": {},
     "output_type": "execute_result"
    }
   ],
   "source": [
    "# 두번째 그룹\n",
    "result.group(2)"
   ]
  },
  {
   "cell_type": "markdown",
   "metadata": {},
   "source": [
    "### 그룹핑 참조\n",
    "- pattern.sub('참조할 그룹핑 정규식 & 바꿀 표현', 원본데이터)"
   ]
  },
  {
   "cell_type": "code",
   "execution_count": 7,
   "metadata": {
    "scrolled": true
   },
   "outputs": [
    {
     "data": {
      "text/plain": [
       "'*** 01-123'"
      ]
     },
     "execution_count": 7,
     "metadata": {},
     "output_type": "execute_result"
    }
   ],
   "source": [
    "# 이름을 ***로 바꿔서 표현\n",
    "# ()-()\n",
    "p.sub('*** \\g<2>', '김철수 01-123')"
   ]
  },
  {
   "cell_type": "markdown",
   "metadata": {},
   "source": [
    "### 모듈단위 실행"
   ]
  },
  {
   "cell_type": "code",
   "execution_count": 8,
   "metadata": {},
   "outputs": [
    {
     "data": {
      "text/plain": [
       "<re.Match object; span=(0, 2), match='ab'>"
      ]
     },
     "execution_count": 8,
     "metadata": {},
     "output_type": "execute_result"
    }
   ],
   "source": [
    "# 패턴 객체를 여러 번 반복해서 사용할 경우에는 \n",
    "# 컴파일 객체가 더 유용\n",
    "p = re.compile('ab+')\n",
    "p.search('abc')"
   ]
  },
  {
   "cell_type": "code",
   "execution_count": 9,
   "metadata": {},
   "outputs": [
    {
     "data": {
      "text/plain": [
       "<re.Match object; span=(0, 2), match='ab'>"
      ]
     },
     "execution_count": 9,
     "metadata": {},
     "output_type": "execute_result"
    }
   ],
   "source": [
    "# 패턴 객체를 반복해서 쓰지 않을 경우\n",
    "# compile 객체로 정규식을 독립적인 객체로 만드는 단계를 생략 가능\n",
    "re.search('ab+', 'abc')"
   ]
  },
  {
   "cell_type": "markdown",
   "metadata": {},
   "source": [
    "### < 연습문제 >\n",
    "\n",
    "휴대폰 번호를 포함하고 있는 아래와 같은 텍스트에 대해 포함된 모든 휴대폰 번호 가운데4자리를 * 문자로 변경하세요.\n",
    "\n",
    "\"\"\"lee 010-1234-5678\n",
    "song 010-1357-2468\n",
    "\"\"\"\n",
    "\n",
    "1) 정규식을 쓰지 않는 방법\n",
    "- for 반복문 : 데이터 처리 프로세스\n",
    "- object.isdigit() : 대상 객체가 숫자인지에 대해 bool type 반환\n",
    "- str 메서드 : 데이터 처리 방법\n",
    "\n",
    "2) 정규식 쓰는 방법"
   ]
  },
  {
   "cell_type": "code",
   "execution_count": null,
   "metadata": {},
   "outputs": [],
   "source": []
  },
  {
   "cell_type": "code",
   "execution_count": null,
   "metadata": {},
   "outputs": [],
   "source": []
  },
  {
   "cell_type": "markdown",
   "metadata": {},
   "source": [
    "2. 정규식을 사용한 방법\n",
    "\n",
    "    - 성씨 데이터 + 핸드폰번호 패턴 => 그룹핑\n",
    "    - p.sub('g', 'text) => 그룹핑 참조"
   ]
  },
  {
   "cell_type": "code",
   "execution_count": 11,
   "metadata": {},
   "outputs": [],
   "source": [
    "# 모든 휴대폰 번호 가운데4자리를 * 문자로 변경하세요.\n",
    "text = \"\"\"lee 010-1234-5678\n",
    "song 010-1357-2468\n",
    "\"\"\""
   ]
  },
  {
   "cell_type": "code",
   "execution_count": 14,
   "metadata": {},
   "outputs": [],
   "source": [
    "# 성씨 데이터 + 휴대폰 번호 데이터\n",
    "# 모든문자/하나이상 + 숫자세자리 - 숫자네자리 - 숫자네자리\n",
    "# 첫번째 방법\n",
    "# 문자열의 시작값, 종료값을 지정\n",
    "# compile 옵션도 지정\n",
    "p1 = re.compile(r'^(\\w+)\\s+(\\d{3})[-](\\d{4})[-](\\d{4})$', re.M)"
   ]
  },
  {
   "cell_type": "code",
   "execution_count": 15,
   "metadata": {},
   "outputs": [
    {
     "data": {
      "text/plain": [
       "[('lee', '010', '1234', '5678'), ('song', '010', '1357', '2468')]"
      ]
     },
     "execution_count": 15,
     "metadata": {},
     "output_type": "execute_result"
    }
   ],
   "source": [
    "p1.findall(text)"
   ]
  },
  {
   "cell_type": "code",
   "execution_count": 17,
   "metadata": {},
   "outputs": [
    {
     "name": "stdout",
     "output_type": "stream",
     "text": [
      "lee 010-****-5678\n",
      "song 010-****-2468\n",
      "\n"
     ]
    }
   ],
   "source": [
    "# lee 010-****-1234\n",
    "print(p1.sub('\\g<1> \\g<2>-****-\\g<4>', text))"
   ]
  },
  {
   "cell_type": "code",
   "execution_count": 18,
   "metadata": {},
   "outputs": [],
   "source": [
    "# 두번째 방법\n",
    "# 문자열의 시작값, 종료값을 지정하지 않음\n",
    "p2 = re.compile(r'(\\w+)\\s+(\\d{3})[-](\\d{4})[-](\\d{4})')"
   ]
  },
  {
   "cell_type": "code",
   "execution_count": 19,
   "metadata": {},
   "outputs": [
    {
     "data": {
      "text/plain": [
       "[('lee', '010', '1234', '5678'), ('song', '010', '1357', '2468')]"
      ]
     },
     "execution_count": 19,
     "metadata": {},
     "output_type": "execute_result"
    }
   ],
   "source": [
    "p2.findall(text)"
   ]
  },
  {
   "cell_type": "code",
   "execution_count": 20,
   "metadata": {},
   "outputs": [
    {
     "name": "stdout",
     "output_type": "stream",
     "text": [
      "lee 010-****-5678\n",
      "song 010-****-2468\n",
      "\n"
     ]
    }
   ],
   "source": [
    "print(p2.sub('\\g<1> \\g<2>-****-\\g<4>', text))"
   ]
  }
 ],
 "metadata": {
  "kernelspec": {
   "display_name": "Python 3",
   "language": "python",
   "name": "python3"
  },
  "language_info": {
   "codemirror_mode": {
    "name": "ipython",
    "version": 3
   },
   "file_extension": ".py",
   "mimetype": "text/x-python",
   "name": "python",
   "nbconvert_exporter": "python",
   "pygments_lexer": "ipython3",
   "version": "3.7.3"
  }
 },
 "nbformat": 4,
 "nbformat_minor": 2
}
