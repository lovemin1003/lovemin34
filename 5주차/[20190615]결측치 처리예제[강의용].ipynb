{
 "cells": [
  {
   "cell_type": "markdown",
   "metadata": {},
   "source": [
    "# 결측치 처리 실습"
   ]
  },
  {
   "cell_type": "markdown",
   "metadata": {},
   "source": [
    "다음은 부산광역시 사상구 약수터 수질현황표(검사일: 2015년 11월 5일)이다. \n",
    "\n",
    "표 상에 나타난 결측 속성값을 채우시오.\n",
    "\n",
    "- 데이터 파일 : ch2-1(약수터수질현황).csv"
   ]
  },
  {
   "cell_type": "code",
   "execution_count": 1,
   "metadata": {},
   "outputs": [],
   "source": [
    "# pandas 라이브러리 불러오기\n",
    "import pandas as pd"
   ]
  },
  {
   "cell_type": "code",
   "execution_count": 6,
   "metadata": {},
   "outputs": [],
   "source": [
    "# 데이터 적재\n",
    "# engine='python'\n",
    "# encoding='utf-8'  / 'cp949'\n",
    "data = pd.read_csv('ch2-1(약수터수질현황).csv', engine='python',\n",
    "                  encoding='cp949')"
   ]
  },
  {
   "cell_type": "code",
   "execution_count": 7,
   "metadata": {},
   "outputs": [
    {
     "data": {
      "text/html": [
       "<div>\n",
       "<style scoped>\n",
       "    .dataframe tbody tr th:only-of-type {\n",
       "        vertical-align: middle;\n",
       "    }\n",
       "\n",
       "    .dataframe tbody tr th {\n",
       "        vertical-align: top;\n",
       "    }\n",
       "\n",
       "    .dataframe thead th {\n",
       "        text-align: right;\n",
       "    }\n",
       "</style>\n",
       "<table border=\"1\" class=\"dataframe\">\n",
       "  <thead>\n",
       "    <tr style=\"text-align: right;\">\n",
       "      <th></th>\n",
       "      <th>연번</th>\n",
       "      <th>약수터명</th>\n",
       "      <th>동명</th>\n",
       "      <th>총대장균군</th>\n",
       "      <th>일반세균</th>\n",
       "      <th>질산성질소</th>\n",
       "      <th>적합</th>\n",
       "    </tr>\n",
       "  </thead>\n",
       "  <tbody>\n",
       "    <tr>\n",
       "      <th>0</th>\n",
       "      <td>1</td>\n",
       "      <td>백수</td>\n",
       "      <td>모라</td>\n",
       "      <td>양 성</td>\n",
       "      <td>10.0</td>\n",
       "      <td>6.7</td>\n",
       "      <td>부적합</td>\n",
       "    </tr>\n",
       "    <tr>\n",
       "      <th>1</th>\n",
       "      <td>2</td>\n",
       "      <td>이칠</td>\n",
       "      <td>모라</td>\n",
       "      <td>음 성</td>\n",
       "      <td>20.0</td>\n",
       "      <td>0.9</td>\n",
       "      <td>적합</td>\n",
       "    </tr>\n",
       "    <tr>\n",
       "      <th>2</th>\n",
       "      <td>3</td>\n",
       "      <td>운수사</td>\n",
       "      <td>모라</td>\n",
       "      <td>음 성</td>\n",
       "      <td>10.0</td>\n",
       "      <td>1.1</td>\n",
       "      <td>적합</td>\n",
       "    </tr>\n",
       "    <tr>\n",
       "      <th>3</th>\n",
       "      <td>4</td>\n",
       "      <td>서당골</td>\n",
       "      <td>모라</td>\n",
       "      <td>음 성</td>\n",
       "      <td>10.0</td>\n",
       "      <td>NaN</td>\n",
       "      <td>적합</td>\n",
       "    </tr>\n",
       "    <tr>\n",
       "      <th>4</th>\n",
       "      <td>5</td>\n",
       "      <td>청수</td>\n",
       "      <td>괘법</td>\n",
       "      <td>음 성</td>\n",
       "      <td>20.0</td>\n",
       "      <td>2.7</td>\n",
       "      <td>적합</td>\n",
       "    </tr>\n",
       "  </tbody>\n",
       "</table>\n",
       "</div>"
      ],
      "text/plain": [
       "   연번 약수터명  동명 총대장균군  일반세균  질산성질소   적합\n",
       "0   1   백수  모라   양 성  10.0    6.7  부적합\n",
       "1   2   이칠  모라   음 성  20.0    0.9   적합\n",
       "2   3  운수사  모라   음 성  10.0    1.1   적합\n",
       "3   4  서당골  모라   음 성  10.0    NaN   적합\n",
       "4   5   청수  괘법   음 성  20.0    2.7   적합"
      ]
     },
     "execution_count": 7,
     "metadata": {},
     "output_type": "execute_result"
    }
   ],
   "source": [
    "data.head()"
   ]
  },
  {
   "cell_type": "code",
   "execution_count": 5,
   "metadata": {},
   "outputs": [
    {
     "data": {
      "text/plain": [
       "(24, 7)"
      ]
     },
     "execution_count": 5,
     "metadata": {},
     "output_type": "execute_result"
    }
   ],
   "source": [
    "data.shape"
   ]
  },
  {
   "cell_type": "code",
   "execution_count": null,
   "metadata": {},
   "outputs": [],
   "source": [
    "# 결측치 확인\n",
    "# 1. 컬럼별 결측치 개수\n",
    "# 2. 결측치가 있는 레코드 확인"
   ]
  },
  {
   "cell_type": "code",
   "execution_count": 9,
   "metadata": {},
   "outputs": [
    {
     "data": {
      "text/plain": [
       "연번       0\n",
       "약수터명     0\n",
       "동명       0\n",
       "총대장균군    0\n",
       "일반세균     2\n",
       "질산성질소    2\n",
       "적합       0\n",
       "dtype: int64"
      ]
     },
     "execution_count": 9,
     "metadata": {},
     "output_type": "execute_result"
    }
   ],
   "source": [
    "data.isnull().sum()"
   ]
  },
  {
   "cell_type": "code",
   "execution_count": 13,
   "metadata": {},
   "outputs": [
    {
     "data": {
      "text/html": [
       "<div>\n",
       "<style scoped>\n",
       "    .dataframe tbody tr th:only-of-type {\n",
       "        vertical-align: middle;\n",
       "    }\n",
       "\n",
       "    .dataframe tbody tr th {\n",
       "        vertical-align: top;\n",
       "    }\n",
       "\n",
       "    .dataframe thead th {\n",
       "        text-align: right;\n",
       "    }\n",
       "</style>\n",
       "<table border=\"1\" class=\"dataframe\">\n",
       "  <thead>\n",
       "    <tr style=\"text-align: right;\">\n",
       "      <th></th>\n",
       "      <th>연번</th>\n",
       "      <th>약수터명</th>\n",
       "      <th>동명</th>\n",
       "      <th>총대장균군</th>\n",
       "      <th>일반세균</th>\n",
       "      <th>질산성질소</th>\n",
       "      <th>적합</th>\n",
       "    </tr>\n",
       "  </thead>\n",
       "  <tbody>\n",
       "    <tr>\n",
       "      <th>3</th>\n",
       "      <td>4</td>\n",
       "      <td>서당골</td>\n",
       "      <td>모라</td>\n",
       "      <td>음 성</td>\n",
       "      <td>10.0</td>\n",
       "      <td>NaN</td>\n",
       "      <td>적합</td>\n",
       "    </tr>\n",
       "    <tr>\n",
       "      <th>16</th>\n",
       "      <td>17</td>\n",
       "      <td>밤골</td>\n",
       "      <td>주례</td>\n",
       "      <td>음 성</td>\n",
       "      <td>NaN</td>\n",
       "      <td>NaN</td>\n",
       "      <td>적합</td>\n",
       "    </tr>\n",
       "    <tr>\n",
       "      <th>19</th>\n",
       "      <td>20</td>\n",
       "      <td>승학</td>\n",
       "      <td>학장</td>\n",
       "      <td>양 성</td>\n",
       "      <td>NaN</td>\n",
       "      <td>0.3</td>\n",
       "      <td>부적합</td>\n",
       "    </tr>\n",
       "  </tbody>\n",
       "</table>\n",
       "</div>"
      ],
      "text/plain": [
       "    연번 약수터명  동명 총대장균군  일반세균  질산성질소   적합\n",
       "3    4  서당골  모라   음 성  10.0    NaN   적합\n",
       "16  17   밤골  주례   음 성   NaN    NaN   적합\n",
       "19  20   승학  학장   양 성   NaN    0.3  부적합"
      ]
     },
     "execution_count": 13,
     "metadata": {},
     "output_type": "execute_result"
    }
   ],
   "source": [
    "data[data.isnull().any(axis=1)]"
   ]
  },
  {
   "cell_type": "markdown",
   "metadata": {},
   "source": [
    "#### 1) 결측치가 있는 레코드 삭제\n",
    "\n",
    "- 하나라도 있는 데이터 삭제\n",
    "- 모든 값이 결측인 데이터 삭제"
   ]
  },
  {
   "cell_type": "code",
   "execution_count": 16,
   "metadata": {},
   "outputs": [
    {
     "data": {
      "text/plain": [
       "(24, 7)"
      ]
     },
     "execution_count": 16,
     "metadata": {},
     "output_type": "execute_result"
    }
   ],
   "source": [
    "# 7개의 컬럼 중에 결측치가 하나라도 있으면 해당 튜플을 삭제\n",
    "# df.dropna() : 기본동작(how='any')\n",
    "data.shape"
   ]
  },
  {
   "cell_type": "code",
   "execution_count": 17,
   "metadata": {},
   "outputs": [
    {
     "data": {
      "text/plain": [
       "연번       0\n",
       "약수터명     0\n",
       "동명       0\n",
       "총대장균군    0\n",
       "일반세균     2\n",
       "질산성질소    2\n",
       "적합       0\n",
       "dtype: int64"
      ]
     },
     "execution_count": 17,
     "metadata": {},
     "output_type": "execute_result"
    }
   ],
   "source": [
    "data.isnull().sum()"
   ]
  },
  {
   "cell_type": "code",
   "execution_count": 19,
   "metadata": {},
   "outputs": [
    {
     "data": {
      "text/plain": [
       "(21, 7)"
      ]
     },
     "execution_count": 19,
     "metadata": {},
     "output_type": "execute_result"
    }
   ],
   "source": [
    "data.dropna().shape"
   ]
  },
  {
   "cell_type": "code",
   "execution_count": 20,
   "metadata": {},
   "outputs": [
    {
     "data": {
      "text/plain": [
       "연번       0\n",
       "약수터명     0\n",
       "동명       0\n",
       "총대장균군    0\n",
       "일반세균     0\n",
       "질산성질소    0\n",
       "적합       0\n",
       "dtype: int64"
      ]
     },
     "execution_count": 20,
     "metadata": {},
     "output_type": "execute_result"
    }
   ],
   "source": [
    "data.dropna().isnull().sum()"
   ]
  },
  {
   "cell_type": "code",
   "execution_count": 21,
   "metadata": {},
   "outputs": [
    {
     "data": {
      "text/plain": [
       "(24, 7)"
      ]
     },
     "execution_count": 21,
     "metadata": {},
     "output_type": "execute_result"
    }
   ],
   "source": [
    "# 7개의 컬럼이 모두 결측인 튜플을 삭제\n",
    "# df.dropna(how='all')\n",
    "data.dropna(how='all').shape"
   ]
  },
  {
   "cell_type": "code",
   "execution_count": 22,
   "metadata": {},
   "outputs": [
    {
     "data": {
      "text/plain": [
       "연번       0\n",
       "약수터명     0\n",
       "동명       0\n",
       "총대장균군    0\n",
       "일반세균     2\n",
       "질산성질소    2\n",
       "적합       0\n",
       "dtype: int64"
      ]
     },
     "execution_count": 22,
     "metadata": {},
     "output_type": "execute_result"
    }
   ],
   "source": [
    "data.dropna(how='all').isnull().sum()"
   ]
  },
  {
   "cell_type": "code",
   "execution_count": null,
   "metadata": {},
   "outputs": [],
   "source": [
    "# 7개의 컬럼을 모두 보는것이 아니고\n",
    "# 3개 컬럼(총대장균군, 일반세균, 질산성질소)\n",
    "# 2개 컬럼(일반세균, 질산성질소) \n",
    "# => 둘 중 하나가 결측\n",
    "# => 둘 다 결측"
   ]
  },
  {
   "cell_type": "code",
   "execution_count": 24,
   "metadata": {},
   "outputs": [
    {
     "data": {
      "text/plain": [
       "일반세균     2\n",
       "질산성질소    2\n",
       "dtype: int64"
      ]
     },
     "execution_count": 24,
     "metadata": {},
     "output_type": "execute_result"
    }
   ],
   "source": [
    "data[['일반세균', '질산성질소']].isnull().sum()"
   ]
  },
  {
   "cell_type": "code",
   "execution_count": 25,
   "metadata": {},
   "outputs": [],
   "source": [
    "tmp = data[['일반세균', '질산성질소']].copy()"
   ]
  },
  {
   "cell_type": "code",
   "execution_count": 27,
   "metadata": {
    "scrolled": false
   },
   "outputs": [
    {
     "data": {
      "text/plain": [
       "일반세균     0\n",
       "질산성질소    0\n",
       "dtype: int64"
      ]
     },
     "execution_count": 27,
     "metadata": {},
     "output_type": "execute_result"
    }
   ],
   "source": [
    "# 둘 중 하나에 결측이 있는 튜플 삭제\n",
    "tmp.dropna().isnull().sum()"
   ]
  },
  {
   "cell_type": "code",
   "execution_count": 32,
   "metadata": {},
   "outputs": [],
   "source": [
    "# 둘 중 하나에 결측이 있는 튜플의 인덱스 찾기\n",
    "# 원본 데이터에서 해당 인덱스를 삭제\n",
    "case1 = tmp[tmp.isnull().any(axis=1)].index.tolist()"
   ]
  },
  {
   "cell_type": "code",
   "execution_count": 33,
   "metadata": {},
   "outputs": [
    {
     "data": {
      "text/plain": [
       "[3, 16, 19]"
      ]
     },
     "execution_count": 33,
     "metadata": {},
     "output_type": "execute_result"
    }
   ],
   "source": [
    "case1"
   ]
  },
  {
   "cell_type": "code",
   "execution_count": 35,
   "metadata": {},
   "outputs": [
    {
     "data": {
      "text/plain": [
       "(21, 7)"
      ]
     },
     "execution_count": 35,
     "metadata": {},
     "output_type": "execute_result"
    }
   ],
   "source": [
    "data.drop(case1).shape"
   ]
  },
  {
   "cell_type": "code",
   "execution_count": 37,
   "metadata": {},
   "outputs": [],
   "source": [
    "# 둘 다 결측이 있는 튜플 삭제를 하기 위해 필요한 값\n",
    "# 둘 다 결측이 있는 튜플의 인덱스 찾기\n",
    "# 원본 데이터에서 해당 인덱스를 삭제\n",
    "case2 = tmp[tmp.isnull().all(axis=1)].index.tolist()"
   ]
  },
  {
   "cell_type": "code",
   "execution_count": 40,
   "metadata": {},
   "outputs": [
    {
     "data": {
      "text/plain": [
       "(23, 7)"
      ]
     },
     "execution_count": 40,
     "metadata": {},
     "output_type": "execute_result"
    }
   ],
   "source": [
    "data.drop(case2).shape"
   ]
  },
  {
   "cell_type": "markdown",
   "metadata": {},
   "source": [
    "#### 2) 임의의 값을 사용하여 결측값 대체"
   ]
  },
  {
   "cell_type": "code",
   "execution_count": 42,
   "metadata": {
    "collapsed": true
   },
   "outputs": [
    {
     "data": {
      "text/plain": [
       "연번       0\n",
       "약수터명     0\n",
       "동명       0\n",
       "총대장균군    0\n",
       "일반세균     0\n",
       "질산성질소    0\n",
       "적합       0\n",
       "dtype: int64"
      ]
     },
     "execution_count": 42,
     "metadata": {},
     "output_type": "execute_result"
    }
   ],
   "source": [
    "# 결측값(NaN값)을 전역상수(0)로 대체\n",
    "data.fillna(0).isnull().sum()"
   ]
  },
  {
   "cell_type": "code",
   "execution_count": 44,
   "metadata": {},
   "outputs": [
    {
     "data": {
      "text/html": [
       "<div>\n",
       "<style scoped>\n",
       "    .dataframe tbody tr th:only-of-type {\n",
       "        vertical-align: middle;\n",
       "    }\n",
       "\n",
       "    .dataframe tbody tr th {\n",
       "        vertical-align: top;\n",
       "    }\n",
       "\n",
       "    .dataframe thead th {\n",
       "        text-align: right;\n",
       "    }\n",
       "</style>\n",
       "<table border=\"1\" class=\"dataframe\">\n",
       "  <thead>\n",
       "    <tr style=\"text-align: right;\">\n",
       "      <th></th>\n",
       "      <th>연번</th>\n",
       "      <th>약수터명</th>\n",
       "      <th>동명</th>\n",
       "      <th>총대장균군</th>\n",
       "      <th>일반세균</th>\n",
       "      <th>질산성질소</th>\n",
       "      <th>적합</th>\n",
       "    </tr>\n",
       "  </thead>\n",
       "  <tbody>\n",
       "    <tr>\n",
       "      <th>3</th>\n",
       "      <td>4</td>\n",
       "      <td>서당골</td>\n",
       "      <td>모라</td>\n",
       "      <td>음 성</td>\n",
       "      <td>10</td>\n",
       "      <td>값없음</td>\n",
       "      <td>적합</td>\n",
       "    </tr>\n",
       "    <tr>\n",
       "      <th>16</th>\n",
       "      <td>17</td>\n",
       "      <td>밤골</td>\n",
       "      <td>주례</td>\n",
       "      <td>음 성</td>\n",
       "      <td>값없음</td>\n",
       "      <td>값없음</td>\n",
       "      <td>적합</td>\n",
       "    </tr>\n",
       "    <tr>\n",
       "      <th>19</th>\n",
       "      <td>20</td>\n",
       "      <td>승학</td>\n",
       "      <td>학장</td>\n",
       "      <td>양 성</td>\n",
       "      <td>값없음</td>\n",
       "      <td>0.3</td>\n",
       "      <td>부적합</td>\n",
       "    </tr>\n",
       "  </tbody>\n",
       "</table>\n",
       "</div>"
      ],
      "text/plain": [
       "    연번 약수터명  동명 총대장균군 일반세균 질산성질소   적합\n",
       "3    4  서당골  모라   음 성   10   값없음   적합\n",
       "16  17   밤골  주례   음 성  값없음   값없음   적합\n",
       "19  20   승학  학장   양 성  값없음   0.3  부적합"
      ]
     },
     "execution_count": 44,
     "metadata": {},
     "output_type": "execute_result"
    }
   ],
   "source": [
    "# 결측값이 있던 데이터만 조회하기\n",
    "data.fillna('값없음').loc[case1]"
   ]
  },
  {
   "cell_type": "markdown",
   "metadata": {},
   "source": [
    "#### 3) 데이터의 평균값을 사용하여 결측값 대체"
   ]
  },
  {
   "cell_type": "code",
   "execution_count": null,
   "metadata": {},
   "outputs": [],
   "source": [
    "# 전체 : 수치형 데이터 => 일반세균, 질산성질소 데이터"
   ]
  },
  {
   "cell_type": "code",
   "execution_count": 45,
   "metadata": {
    "collapsed": true
   },
   "outputs": [
    {
     "data": {
      "text/html": [
       "<div>\n",
       "<style scoped>\n",
       "    .dataframe tbody tr th:only-of-type {\n",
       "        vertical-align: middle;\n",
       "    }\n",
       "\n",
       "    .dataframe tbody tr th {\n",
       "        vertical-align: top;\n",
       "    }\n",
       "\n",
       "    .dataframe thead th {\n",
       "        text-align: right;\n",
       "    }\n",
       "</style>\n",
       "<table border=\"1\" class=\"dataframe\">\n",
       "  <thead>\n",
       "    <tr style=\"text-align: right;\">\n",
       "      <th></th>\n",
       "      <th>연번</th>\n",
       "      <th>약수터명</th>\n",
       "      <th>동명</th>\n",
       "      <th>총대장균군</th>\n",
       "      <th>일반세균</th>\n",
       "      <th>질산성질소</th>\n",
       "      <th>적합</th>\n",
       "    </tr>\n",
       "  </thead>\n",
       "  <tbody>\n",
       "    <tr>\n",
       "      <th>0</th>\n",
       "      <td>1</td>\n",
       "      <td>백수</td>\n",
       "      <td>모라</td>\n",
       "      <td>양 성</td>\n",
       "      <td>10.0</td>\n",
       "      <td>6.7</td>\n",
       "      <td>부적합</td>\n",
       "    </tr>\n",
       "  </tbody>\n",
       "</table>\n",
       "</div>"
      ],
      "text/plain": [
       "   연번 약수터명  동명 총대장균군  일반세균  질산성질소   적합\n",
       "0   1   백수  모라   양 성  10.0    6.7  부적합"
      ]
     },
     "execution_count": 45,
     "metadata": {},
     "output_type": "execute_result"
    }
   ],
   "source": [
    "data.head(1)"
   ]
  },
  {
   "cell_type": "code",
   "execution_count": 48,
   "metadata": {
    "collapsed": true
   },
   "outputs": [
    {
     "data": {
      "text/html": [
       "<div>\n",
       "<style scoped>\n",
       "    .dataframe tbody tr th:only-of-type {\n",
       "        vertical-align: middle;\n",
       "    }\n",
       "\n",
       "    .dataframe tbody tr th {\n",
       "        vertical-align: top;\n",
       "    }\n",
       "\n",
       "    .dataframe thead th {\n",
       "        text-align: right;\n",
       "    }\n",
       "</style>\n",
       "<table border=\"1\" class=\"dataframe\">\n",
       "  <thead>\n",
       "    <tr style=\"text-align: right;\">\n",
       "      <th></th>\n",
       "      <th>연번</th>\n",
       "      <th>일반세균</th>\n",
       "      <th>질산성질소</th>\n",
       "    </tr>\n",
       "  </thead>\n",
       "  <tbody>\n",
       "    <tr>\n",
       "      <th>0</th>\n",
       "      <td>1</td>\n",
       "      <td>10.0</td>\n",
       "      <td>6.7</td>\n",
       "    </tr>\n",
       "    <tr>\n",
       "      <th>1</th>\n",
       "      <td>2</td>\n",
       "      <td>20.0</td>\n",
       "      <td>0.9</td>\n",
       "    </tr>\n",
       "    <tr>\n",
       "      <th>2</th>\n",
       "      <td>3</td>\n",
       "      <td>10.0</td>\n",
       "      <td>1.1</td>\n",
       "    </tr>\n",
       "    <tr>\n",
       "      <th>3</th>\n",
       "      <td>4</td>\n",
       "      <td>10.0</td>\n",
       "      <td>NaN</td>\n",
       "    </tr>\n",
       "    <tr>\n",
       "      <th>4</th>\n",
       "      <td>5</td>\n",
       "      <td>20.0</td>\n",
       "      <td>2.7</td>\n",
       "    </tr>\n",
       "    <tr>\n",
       "      <th>5</th>\n",
       "      <td>6</td>\n",
       "      <td>10.0</td>\n",
       "      <td>2.2</td>\n",
       "    </tr>\n",
       "    <tr>\n",
       "      <th>6</th>\n",
       "      <td>7</td>\n",
       "      <td>10.0</td>\n",
       "      <td>2.6</td>\n",
       "    </tr>\n",
       "    <tr>\n",
       "      <th>7</th>\n",
       "      <td>8</td>\n",
       "      <td>10.0</td>\n",
       "      <td>2.7</td>\n",
       "    </tr>\n",
       "    <tr>\n",
       "      <th>8</th>\n",
       "      <td>9</td>\n",
       "      <td>20.0</td>\n",
       "      <td>3.1</td>\n",
       "    </tr>\n",
       "    <tr>\n",
       "      <th>9</th>\n",
       "      <td>10</td>\n",
       "      <td>10.0</td>\n",
       "      <td>3.1</td>\n",
       "    </tr>\n",
       "    <tr>\n",
       "      <th>10</th>\n",
       "      <td>11</td>\n",
       "      <td>20.0</td>\n",
       "      <td>4.0</td>\n",
       "    </tr>\n",
       "    <tr>\n",
       "      <th>11</th>\n",
       "      <td>12</td>\n",
       "      <td>10.0</td>\n",
       "      <td>1.8</td>\n",
       "    </tr>\n",
       "    <tr>\n",
       "      <th>12</th>\n",
       "      <td>13</td>\n",
       "      <td>10.0</td>\n",
       "      <td>2.8</td>\n",
       "    </tr>\n",
       "    <tr>\n",
       "      <th>13</th>\n",
       "      <td>14</td>\n",
       "      <td>10.0</td>\n",
       "      <td>7.5</td>\n",
       "    </tr>\n",
       "    <tr>\n",
       "      <th>14</th>\n",
       "      <td>15</td>\n",
       "      <td>20.0</td>\n",
       "      <td>2.3</td>\n",
       "    </tr>\n",
       "    <tr>\n",
       "      <th>15</th>\n",
       "      <td>16</td>\n",
       "      <td>20.0</td>\n",
       "      <td>2.4</td>\n",
       "    </tr>\n",
       "    <tr>\n",
       "      <th>16</th>\n",
       "      <td>17</td>\n",
       "      <td>NaN</td>\n",
       "      <td>NaN</td>\n",
       "    </tr>\n",
       "    <tr>\n",
       "      <th>17</th>\n",
       "      <td>18</td>\n",
       "      <td>20.0</td>\n",
       "      <td>3.8</td>\n",
       "    </tr>\n",
       "    <tr>\n",
       "      <th>18</th>\n",
       "      <td>19</td>\n",
       "      <td>110.0</td>\n",
       "      <td>0.7</td>\n",
       "    </tr>\n",
       "    <tr>\n",
       "      <th>19</th>\n",
       "      <td>20</td>\n",
       "      <td>NaN</td>\n",
       "      <td>0.3</td>\n",
       "    </tr>\n",
       "    <tr>\n",
       "      <th>20</th>\n",
       "      <td>21</td>\n",
       "      <td>20.0</td>\n",
       "      <td>1.0</td>\n",
       "    </tr>\n",
       "    <tr>\n",
       "      <th>21</th>\n",
       "      <td>22</td>\n",
       "      <td>40.0</td>\n",
       "      <td>1.9</td>\n",
       "    </tr>\n",
       "    <tr>\n",
       "      <th>22</th>\n",
       "      <td>23</td>\n",
       "      <td>20.0</td>\n",
       "      <td>1.7</td>\n",
       "    </tr>\n",
       "    <tr>\n",
       "      <th>23</th>\n",
       "      <td>24</td>\n",
       "      <td>20.0</td>\n",
       "      <td>2.6</td>\n",
       "    </tr>\n",
       "  </tbody>\n",
       "</table>\n",
       "</div>"
      ],
      "text/plain": [
       "    연번   일반세균  질산성질소\n",
       "0    1   10.0    6.7\n",
       "1    2   20.0    0.9\n",
       "2    3   10.0    1.1\n",
       "3    4   10.0    NaN\n",
       "4    5   20.0    2.7\n",
       "5    6   10.0    2.2\n",
       "6    7   10.0    2.6\n",
       "7    8   10.0    2.7\n",
       "8    9   20.0    3.1\n",
       "9   10   10.0    3.1\n",
       "10  11   20.0    4.0\n",
       "11  12   10.0    1.8\n",
       "12  13   10.0    2.8\n",
       "13  14   10.0    7.5\n",
       "14  15   20.0    2.3\n",
       "15  16   20.0    2.4\n",
       "16  17    NaN    NaN\n",
       "17  18   20.0    3.8\n",
       "18  19  110.0    0.7\n",
       "19  20    NaN    0.3\n",
       "20  21   20.0    1.0\n",
       "21  22   40.0    1.9\n",
       "22  23   20.0    1.7\n",
       "23  24   20.0    2.6"
      ]
     },
     "execution_count": 48,
     "metadata": {},
     "output_type": "execute_result"
    }
   ],
   "source": [
    "# 수치형 데이터\n",
    "# data.select_dtypes(include='float')\n",
    "# data._get_numeric_data()"
   ]
  },
  {
   "cell_type": "code",
   "execution_count": 54,
   "metadata": {},
   "outputs": [],
   "source": [
    "# 결측치를 0으로 대체하여 평균 구하기\n",
    "mean1 = tmp.fillna(0).values.mean()"
   ]
  },
  {
   "cell_type": "code",
   "execution_count": 55,
   "metadata": {},
   "outputs": [
    {
     "data": {
      "text/html": [
       "<div>\n",
       "<style scoped>\n",
       "    .dataframe tbody tr th:only-of-type {\n",
       "        vertical-align: middle;\n",
       "    }\n",
       "\n",
       "    .dataframe tbody tr th {\n",
       "        vertical-align: top;\n",
       "    }\n",
       "\n",
       "    .dataframe thead th {\n",
       "        text-align: right;\n",
       "    }\n",
       "</style>\n",
       "<table border=\"1\" class=\"dataframe\">\n",
       "  <thead>\n",
       "    <tr style=\"text-align: right;\">\n",
       "      <th></th>\n",
       "      <th>연번</th>\n",
       "      <th>약수터명</th>\n",
       "      <th>동명</th>\n",
       "      <th>총대장균군</th>\n",
       "      <th>일반세균</th>\n",
       "      <th>질산성질소</th>\n",
       "      <th>적합</th>\n",
       "    </tr>\n",
       "  </thead>\n",
       "  <tbody>\n",
       "    <tr>\n",
       "      <th>3</th>\n",
       "      <td>4</td>\n",
       "      <td>서당골</td>\n",
       "      <td>모라</td>\n",
       "      <td>음 성</td>\n",
       "      <td>10.00000</td>\n",
       "      <td>10.58125</td>\n",
       "      <td>적합</td>\n",
       "    </tr>\n",
       "    <tr>\n",
       "      <th>16</th>\n",
       "      <td>17</td>\n",
       "      <td>밤골</td>\n",
       "      <td>주례</td>\n",
       "      <td>음 성</td>\n",
       "      <td>10.58125</td>\n",
       "      <td>10.58125</td>\n",
       "      <td>적합</td>\n",
       "    </tr>\n",
       "    <tr>\n",
       "      <th>19</th>\n",
       "      <td>20</td>\n",
       "      <td>승학</td>\n",
       "      <td>학장</td>\n",
       "      <td>양 성</td>\n",
       "      <td>10.58125</td>\n",
       "      <td>0.30000</td>\n",
       "      <td>부적합</td>\n",
       "    </tr>\n",
       "  </tbody>\n",
       "</table>\n",
       "</div>"
      ],
      "text/plain": [
       "    연번 약수터명  동명 총대장균군      일반세균     질산성질소   적합\n",
       "3    4  서당골  모라   음 성  10.00000  10.58125   적합\n",
       "16  17   밤골  주례   음 성  10.58125  10.58125   적합\n",
       "19  20   승학  학장   양 성  10.58125   0.30000  부적합"
      ]
     },
     "execution_count": 55,
     "metadata": {},
     "output_type": "execute_result"
    }
   ],
   "source": [
    "data.fillna(mean1).loc[case1]"
   ]
  },
  {
   "cell_type": "code",
   "execution_count": 60,
   "metadata": {},
   "outputs": [],
   "source": [
    "# 결측치를 삭제하고 평균 구하기\n",
    "mean2 = tmp.dropna().values.mean()"
   ]
  },
  {
   "cell_type": "code",
   "execution_count": 61,
   "metadata": {},
   "outputs": [
    {
     "data": {
      "text/html": [
       "<div>\n",
       "<style scoped>\n",
       "    .dataframe tbody tr th:only-of-type {\n",
       "        vertical-align: middle;\n",
       "    }\n",
       "\n",
       "    .dataframe tbody tr th {\n",
       "        vertical-align: top;\n",
       "    }\n",
       "\n",
       "    .dataframe thead th {\n",
       "        text-align: right;\n",
       "    }\n",
       "</style>\n",
       "<table border=\"1\" class=\"dataframe\">\n",
       "  <thead>\n",
       "    <tr style=\"text-align: right;\">\n",
       "      <th></th>\n",
       "      <th>연번</th>\n",
       "      <th>약수터명</th>\n",
       "      <th>동명</th>\n",
       "      <th>총대장균군</th>\n",
       "      <th>일반세균</th>\n",
       "      <th>질산성질소</th>\n",
       "      <th>적합</th>\n",
       "    </tr>\n",
       "  </thead>\n",
       "  <tbody>\n",
       "    <tr>\n",
       "      <th>3</th>\n",
       "      <td>4</td>\n",
       "      <td>서당골</td>\n",
       "      <td>모라</td>\n",
       "      <td>음 성</td>\n",
       "      <td>10.000000</td>\n",
       "      <td>11.847619</td>\n",
       "      <td>적합</td>\n",
       "    </tr>\n",
       "    <tr>\n",
       "      <th>16</th>\n",
       "      <td>17</td>\n",
       "      <td>밤골</td>\n",
       "      <td>주례</td>\n",
       "      <td>음 성</td>\n",
       "      <td>11.847619</td>\n",
       "      <td>11.847619</td>\n",
       "      <td>적합</td>\n",
       "    </tr>\n",
       "    <tr>\n",
       "      <th>19</th>\n",
       "      <td>20</td>\n",
       "      <td>승학</td>\n",
       "      <td>학장</td>\n",
       "      <td>양 성</td>\n",
       "      <td>11.847619</td>\n",
       "      <td>0.300000</td>\n",
       "      <td>부적합</td>\n",
       "    </tr>\n",
       "  </tbody>\n",
       "</table>\n",
       "</div>"
      ],
      "text/plain": [
       "    연번 약수터명  동명 총대장균군       일반세균      질산성질소   적합\n",
       "3    4  서당골  모라   음 성  10.000000  11.847619   적합\n",
       "16  17   밤골  주례   음 성  11.847619  11.847619   적합\n",
       "19  20   승학  학장   양 성  11.847619   0.300000  부적합"
      ]
     },
     "execution_count": 61,
     "metadata": {},
     "output_type": "execute_result"
    }
   ],
   "source": [
    "data.fillna(mean2).loc[case1]"
   ]
  },
  {
   "cell_type": "markdown",
   "metadata": {},
   "source": [
    "#### 4) 결측치가 속한 클래스의 속성 평균값을 사용하여 결측값 대체"
   ]
  },
  {
   "cell_type": "code",
   "execution_count": 65,
   "metadata": {},
   "outputs": [],
   "source": [
    "# 일반세균\n",
    "x1 = data['일반세균'].mean()"
   ]
  },
  {
   "cell_type": "code",
   "execution_count": 70,
   "metadata": {},
   "outputs": [
    {
     "data": {
      "text/plain": [
       "Int64Index([16, 19], dtype='int64')"
      ]
     },
     "execution_count": 70,
     "metadata": {},
     "output_type": "execute_result"
    }
   ],
   "source": [
    "data['일반세균'][data['일반세균'].isnull()].index"
   ]
  },
  {
   "cell_type": "code",
   "execution_count": 73,
   "metadata": {},
   "outputs": [
    {
     "data": {
      "text/plain": [
       "16    20.454545\n",
       "19    20.454545\n",
       "Name: 일반세균, dtype: float64"
      ]
     },
     "execution_count": 73,
     "metadata": {},
     "output_type": "execute_result"
    }
   ],
   "source": [
    "data['일반세균'].fillna(x1).loc[[16,19]]"
   ]
  },
  {
   "cell_type": "code",
   "execution_count": 66,
   "metadata": {},
   "outputs": [],
   "source": [
    "# 질산성질소\n",
    "x2 = data['질산성질소'].mean()"
   ]
  },
  {
   "cell_type": "code",
   "execution_count": 71,
   "metadata": {},
   "outputs": [
    {
     "data": {
      "text/plain": [
       "Int64Index([3, 16], dtype='int64')"
      ]
     },
     "execution_count": 71,
     "metadata": {},
     "output_type": "execute_result"
    }
   ],
   "source": [
    "data['질산성질소'][data['질산성질소'].isnull()].index"
   ]
  },
  {
   "cell_type": "code",
   "execution_count": 72,
   "metadata": {},
   "outputs": [
    {
     "data": {
      "text/plain": [
       "3     2.631818\n",
       "16    2.631818\n",
       "Name: 질산성질소, dtype: float64"
      ]
     },
     "execution_count": 72,
     "metadata": {},
     "output_type": "execute_result"
    }
   ],
   "source": [
    "data['질산성질소'].fillna(x2).loc[[3,16]]"
   ]
  },
  {
   "cell_type": "code",
   "execution_count": 77,
   "metadata": {
    "collapsed": true
   },
   "outputs": [
    {
     "data": {
      "text/html": [
       "<div>\n",
       "<style scoped>\n",
       "    .dataframe tbody tr th:only-of-type {\n",
       "        vertical-align: middle;\n",
       "    }\n",
       "\n",
       "    .dataframe tbody tr th {\n",
       "        vertical-align: top;\n",
       "    }\n",
       "\n",
       "    .dataframe thead th {\n",
       "        text-align: right;\n",
       "    }\n",
       "</style>\n",
       "<table border=\"1\" class=\"dataframe\">\n",
       "  <thead>\n",
       "    <tr style=\"text-align: right;\">\n",
       "      <th></th>\n",
       "      <th>연번</th>\n",
       "      <th>약수터명</th>\n",
       "      <th>동명</th>\n",
       "      <th>총대장균군</th>\n",
       "      <th>일반세균</th>\n",
       "      <th>질산성질소</th>\n",
       "      <th>적합</th>\n",
       "    </tr>\n",
       "  </thead>\n",
       "  <tbody>\n",
       "    <tr>\n",
       "      <th>3</th>\n",
       "      <td>4</td>\n",
       "      <td>서당골</td>\n",
       "      <td>모라</td>\n",
       "      <td>음 성</td>\n",
       "      <td>10.000000</td>\n",
       "      <td>2.631818</td>\n",
       "      <td>적합</td>\n",
       "    </tr>\n",
       "    <tr>\n",
       "      <th>16</th>\n",
       "      <td>17</td>\n",
       "      <td>밤골</td>\n",
       "      <td>주례</td>\n",
       "      <td>음 성</td>\n",
       "      <td>20.454545</td>\n",
       "      <td>2.631818</td>\n",
       "      <td>적합</td>\n",
       "    </tr>\n",
       "    <tr>\n",
       "      <th>19</th>\n",
       "      <td>20</td>\n",
       "      <td>승학</td>\n",
       "      <td>학장</td>\n",
       "      <td>양 성</td>\n",
       "      <td>20.454545</td>\n",
       "      <td>0.300000</td>\n",
       "      <td>부적합</td>\n",
       "    </tr>\n",
       "  </tbody>\n",
       "</table>\n",
       "</div>"
      ],
      "text/plain": [
       "    연번 약수터명  동명 총대장균군       일반세균     질산성질소   적합\n",
       "3    4  서당골  모라   음 성  10.000000  2.631818   적합\n",
       "16  17   밤골  주례   음 성  20.454545  2.631818   적합\n",
       "19  20   승학  학장   양 성  20.454545  0.300000  부적합"
      ]
     },
     "execution_count": 77,
     "metadata": {},
     "output_type": "execute_result"
    }
   ],
   "source": [
    "data.fillna(data.mean()).loc[[3,16,19]]"
   ]
  },
  {
   "cell_type": "code",
   "execution_count": 78,
   "metadata": {},
   "outputs": [
    {
     "data": {
      "text/plain": [
       "연번       12.500000\n",
       "일반세균     20.454545\n",
       "질산성질소     2.631818\n",
       "dtype: float64"
      ]
     },
     "execution_count": 78,
     "metadata": {},
     "output_type": "execute_result"
    }
   ],
   "source": [
    "# 수치형 컬럼별 평균\n",
    "data.mean()"
   ]
  },
  {
   "cell_type": "code",
   "execution_count": 97,
   "metadata": {},
   "outputs": [],
   "source": [
    "# 일반세균/질산성질소 => 적합/부적합 별로 속성의 평균\n",
    "# 적합/부적합 별로 결측치를 대체\n",
    "tmp2 = data[['일반세균', '적합']].copy()\n",
    "tmp4 = data[['질산성질소', '적합']].copy()"
   ]
  },
  {
   "cell_type": "code",
   "execution_count": 83,
   "metadata": {},
   "outputs": [
    {
     "data": {
      "text/plain": [
       "array(['부적합', '적합'], dtype=object)"
      ]
     },
     "execution_count": 83,
     "metadata": {},
     "output_type": "execute_result"
    }
   ],
   "source": [
    "# 일반세균\n",
    "# 적합 / 부적합\n",
    "tmp2['적합'].unique()"
   ]
  },
  {
   "cell_type": "code",
   "execution_count": 87,
   "metadata": {},
   "outputs": [
    {
     "data": {
      "text/plain": [
       "33.333333333333336"
      ]
     },
     "execution_count": 87,
     "metadata": {},
     "output_type": "execute_result"
    }
   ],
   "source": [
    "# 일반세균 중에 부적합인 경우의 평균값\n",
    "mean3 = tmp2[tmp2['적합'] == '부적합']['일반세균'].mean()"
   ]
  },
  {
   "cell_type": "code",
   "execution_count": 98,
   "metadata": {},
   "outputs": [],
   "source": [
    "mean4 = tmp2[tmp2['적합'] == '적합']['일반세균'].mean()"
   ]
  },
  {
   "cell_type": "code",
   "execution_count": 99,
   "metadata": {},
   "outputs": [],
   "source": [
    "mean5 = tmp4[tmp4['적합'] == '부적합']['질산성질소'].mean()"
   ]
  },
  {
   "cell_type": "code",
   "execution_count": 100,
   "metadata": {},
   "outputs": [],
   "source": [
    "mean6 = tmp4[tmp4['적합'] == '적합']['질산성질소'].mean()"
   ]
  },
  {
   "cell_type": "code",
   "execution_count": 89,
   "metadata": {},
   "outputs": [
    {
     "data": {
      "text/plain": [
       "Index(['일반세균', '질산성질소'], dtype='object')"
      ]
     },
     "execution_count": 89,
     "metadata": {},
     "output_type": "execute_result"
    }
   ],
   "source": [
    "tmp.columns"
   ]
  },
  {
   "cell_type": "code",
   "execution_count": 91,
   "metadata": {},
   "outputs": [],
   "source": [
    "tmp3 = data[['일반세균', '질산성질소', '적합']].copy()"
   ]
  },
  {
   "cell_type": "code",
   "execution_count": 93,
   "metadata": {},
   "outputs": [
    {
     "data": {
      "text/plain": [
       "Index(['일반세균', '질산성질소'], dtype='object')"
      ]
     },
     "execution_count": 93,
     "metadata": {},
     "output_type": "execute_result"
    }
   ],
   "source": [
    "tmp3.columns[:-1]"
   ]
  },
  {
   "cell_type": "code",
   "execution_count": 104,
   "metadata": {},
   "outputs": [
    {
     "name": "stdout",
     "output_type": "stream",
     "text": [
      "부적합 일반세균 33.333333333333336\n",
      "0\n",
      "부적합 질산성질소 2.4714285714285715\n",
      "0\n",
      "적합 일반세균 15.625\n",
      "0\n",
      "적합 질산성질소 2.7066666666666666\n",
      "0\n"
     ]
    }
   ],
   "source": [
    "# 반복 대상 : 적합, 부적합, 일반세균, 질산성질소\n",
    "# 반복 규칙 : 적합 -> 일반세균, 질산성질소 / 부적합 -> 일반세균,..\n",
    "for i in tmp3['적합'].unique():\n",
    "#     print(i)\n",
    "    for j in tmp3.columns[:-1]:\n",
    "        x = tmp3[tmp3['적합'] == i][j].mean()\n",
    "        print(i,j,x)\n",
    "        print(tmp3[tmp3['적합'] == i][j].fillna(x).isnull().sum())\n",
    "#         print(j)"
   ]
  }
 ],
 "metadata": {
  "kernelspec": {
   "display_name": "Python 3",
   "language": "python",
   "name": "python3"
  },
  "language_info": {
   "codemirror_mode": {
    "name": "ipython",
    "version": 3
   },
   "file_extension": ".py",
   "mimetype": "text/x-python",
   "name": "python",
   "nbconvert_exporter": "python",
   "pygments_lexer": "ipython3",
   "version": "3.7.3"
  }
 },
 "nbformat": 4,
 "nbformat_minor": 2
}
