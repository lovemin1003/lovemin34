{
 "cells": [
  {
   "cell_type": "markdown",
   "metadata": {},
   "source": [
    "# Multiple Regression Analysis"
   ]
  },
  {
   "cell_type": "code",
   "execution_count": null,
   "metadata": {},
   "outputs": [],
   "source": [
    "# 라이브러리"
   ]
  },
  {
   "cell_type": "markdown",
   "metadata": {},
   "source": [
    "### Simple Regression Analysis : 단순선형회귀\n",
    "\n",
    "- 독립변수(입력 데이터)의 선형 결합으로 종속변수를 설명\n",
    "- 독립변수와 종속변수가 모두 연속형(숫자형)으로 구성되어야 함\n",
    "- ŷ = w[0] × x[0] + w[1] × x[1] + … + w[p] × x[p] + b\n",
    "- y = ax1 + bx2 + cx3 + ... + z\n",
    "    - x : 입력 데이터의 변수들(특성)\n",
    "    - ŷ : 모델의 예측 결과\n",
    "    - a~c : 회귀모델이 가지는 파라미터로 각 변수들의 가중치(계수)를 의미, 직선의 방정식에서 기울기\n",
    "    - z : 회귀모델이 가지는 파라미터, 직선의 방정식에서 y절편\n",
    "- 선형회귀(Linear regression) 또는 최소제곱법(OLS; Ordinary Least Squares)\n",
    "    - 평균제곱오차(실제 값과 예측 값의 차이를 제곱한 것의 평균)를 최소화하는 파라미터 w, b를 구하는 알고리즘\n",
    "    - 조정할 수 있는 매개변수가 없어 조작이 단순하지만 모델의 복잡도 및 성능을 제어할 수도 없음\n",
    "    - 종류\n",
    "        - 단순선형회귀 : 사용하는 데이터의 종류(특징, 설명변수)가 한 가지\n",
    "        - 다중선형회귀 : 사용하는 데이터의 종류(설명변수)가 두 개 이상"
   ]
  },
  {
   "cell_type": "markdown",
   "metadata": {},
   "source": [
    "### 잔차(Residual)\n",
    "\n",
    "- 회귀분석에서 실제 결과(y)와 예측 결과(ŷ)의 차이 (e = y - ŷ)\n",
    "- 모델에서 사용된 변수들을 통해 완전하게 설명하지 못한 부분으로 해석할 수 있음\n",
    "- 선형회귀모델은 오차의 분산이 설명변수와 관계가 없다는 가정을 가지며 잔차의 변동성이 설명변수(x)에 따라 변하지 않음\n",
    "- 잔차의 산포도가 일정한 방향 없이 균일하게 퍼져있는 모양일 때 해당 선형회귀모델의 회귀식의 적합도가 높음\n",
    "- 잔차의 산포도(x: 설명변수, y: 잔차)\n",
    "    - 비선형성 : 구간별로 잔차의 부호가 집중적으로 다르므로 선형회귀모델이 적합하지 않음\n",
    "    - 이질성 : 잔차의 변동성이 x가 증가함에 따라 함께 증가하는 경향을 보임 \n",
    "    <img src='img/residual.jpg' width='600' height='300' align='left'>\n",
    "    "
   ]
  },
  {
   "cell_type": "markdown",
   "metadata": {},
   "source": [
    "# StatsModel을 이용한 다중회귀분석"
   ]
  },
  {
   "cell_type": "code",
   "execution_count": 2,
   "metadata": {},
   "outputs": [],
   "source": [
    "#sklearn 라이브러리에서 제공하는 make_regression을 사용하여 \n",
    "# 다중회귀분석을 위한 독립변수들과 그에 의존하는 종속변수를 생성\n",
    "from sklearn.datasets import make_regression\n",
    "# 샘플 개수 : 100개\n",
    "# 절편은 -5\n",
    "# 독립변수 개수 : 2개\n",
    "# 노이즈 10\n",
    "# coef : 변수 계수 반환 여부\n",
    "# 반환값 3개 : 입력변수, 종속변수, (계수)\n",
    "X0, y, coef = make_regression(n_samples=100, n_features=2, bias=-5, noise=10, coef=True)"
   ]
  },
  {
   "cell_type": "code",
   "execution_count": 14,
   "metadata": {},
   "outputs": [
    {
     "data": {
      "text/plain": [
       "array([[-0.41443159,  0.41863907],\n",
       "       [-1.10784909,  0.18489935],\n",
       "       [-0.48768882,  0.1999631 ],\n",
       "       [ 0.10619141,  1.41345042],\n",
       "       [ 0.4455838 ,  0.92603618],\n",
       "       [ 0.18199353, -1.97094053],\n",
       "       [ 0.65476336, -0.88883199],\n",
       "       [-0.04368566, -0.02524936],\n",
       "       [-0.80037333,  0.42924422],\n",
       "       [-0.34322987,  1.03371357],\n",
       "       [-0.35193154,  0.16244334],\n",
       "       [-0.99442051, -0.7030706 ],\n",
       "       [ 1.21941816,  1.0461027 ],\n",
       "       [-0.49234153, -0.95255897],\n",
       "       [ 0.34113638,  0.63243355],\n",
       "       [ 0.6162219 , -0.32093929],\n",
       "       [ 1.28368234, -0.11513138],\n",
       "       [-1.37184149,  0.55121495],\n",
       "       [ 1.17028375, -0.59538952],\n",
       "       [ 1.25248233, -0.95583997],\n",
       "       [ 2.78625721, -1.50180101],\n",
       "       [ 0.52718962, -0.83558484],\n",
       "       [ 0.23401089, -0.18011581],\n",
       "       [-0.02722049, -0.98908101],\n",
       "       [-2.09474409, -1.67664824],\n",
       "       [ 0.79199174,  1.1486039 ],\n",
       "       [ 1.13249345,  1.06660902],\n",
       "       [-0.86375908, -0.97184382],\n",
       "       [ 0.61921353, -0.27761126],\n",
       "       [-0.30193303, -0.74236384],\n",
       "       [-1.58352205,  0.87062936],\n",
       "       [-0.40971312,  1.30008398],\n",
       "       [-0.13172186,  0.18752349],\n",
       "       [ 1.21376351,  0.36868381],\n",
       "       [-1.0534325 ,  0.37631853],\n",
       "       [ 1.53632976,  0.70091894],\n",
       "       [-1.54077897,  0.19961694],\n",
       "       [-1.27971061, -0.09396285],\n",
       "       [-0.73365537, -0.18661578],\n",
       "       [-1.2235738 , -0.59658002],\n",
       "       [ 1.31225656, -1.00685003],\n",
       "       [ 1.090371  , -0.00473292],\n",
       "       [-0.04858906,  1.14346012],\n",
       "       [ 1.97730589, -0.15967438],\n",
       "       [ 2.22619203,  0.25984624],\n",
       "       [ 0.14460959,  0.45960439],\n",
       "       [-0.80296757,  0.11536832],\n",
       "       [ 1.29924029, -0.35086041],\n",
       "       [ 1.89228914, -0.54217726],\n",
       "       [ 0.48788957,  1.11799453],\n",
       "       [-1.12251124, -0.36955217],\n",
       "       [-0.85949526,  1.44360269],\n",
       "       [-1.35397923,  0.05542212],\n",
       "       [ 0.3547944 ,  0.14114951],\n",
       "       [ 1.30691602,  0.41059807],\n",
       "       [-0.71671574,  0.34691184],\n",
       "       [ 0.3549684 ,  0.89845034],\n",
       "       [ 0.81568569, -0.38294332],\n",
       "       [-1.67216178, -1.74825768],\n",
       "       [ 1.62711998, -1.51489762],\n",
       "       [-0.64901386, -0.39917898],\n",
       "       [ 0.06122105, -0.87347289],\n",
       "       [-0.21666311, -0.28060134],\n",
       "       [-0.76641619,  0.20436807],\n",
       "       [ 1.97512908,  0.0327844 ],\n",
       "       [ 1.83593284,  1.17373131],\n",
       "       [-0.86314255, -0.2591122 ],\n",
       "       [ 2.21161925,  0.5898682 ],\n",
       "       [-0.74938752,  1.1345689 ],\n",
       "       [ 1.38001062,  0.49432515],\n",
       "       [ 0.86305972, -0.55493085],\n",
       "       [-1.04413322,  0.48377837],\n",
       "       [-0.15382589, -0.57627772],\n",
       "       [ 1.31247033,  1.25818256],\n",
       "       [ 1.10682879,  0.33185572],\n",
       "       [ 0.16884561,  0.52046754],\n",
       "       [ 1.59233589, -1.60927729],\n",
       "       [-0.00930195,  0.42515247],\n",
       "       [-1.89286914,  0.73693972],\n",
       "       [ 0.86401069, -1.75459089],\n",
       "       [ 0.98781715,  0.36853583],\n",
       "       [ 1.1775911 , -0.80717538],\n",
       "       [-1.21194546, -0.28007313],\n",
       "       [ 1.18046891, -1.12809615],\n",
       "       [-0.58898512, -0.98025296],\n",
       "       [-0.60758578,  0.30996976],\n",
       "       [-0.90856078, -0.68409319],\n",
       "       [-2.24759282, -0.42842735],\n",
       "       [ 1.05427496,  0.10191313],\n",
       "       [ 0.11220918, -0.51392896],\n",
       "       [-0.29544342, -1.33229026],\n",
       "       [-0.41333144,  1.08471293],\n",
       "       [ 0.97440513,  0.64133125],\n",
       "       [ 0.1593476 ,  1.56183922],\n",
       "       [-1.00358763,  0.19048122],\n",
       "       [ 2.17438094, -0.81846151],\n",
       "       [-0.52709461,  1.54115016],\n",
       "       [ 2.61219149, -0.16579029],\n",
       "       [-1.50459962,  1.55419992],\n",
       "       [ 1.18738954, -0.62049047]])"
      ]
     },
     "execution_count": 14,
     "metadata": {},
     "output_type": "execute_result"
    }
   ],
   "source": [
    "X0"
   ]
  },
  {
   "cell_type": "code",
   "execution_count": 5,
   "metadata": {},
   "outputs": [],
   "source": [
    "#생성한 독립변수들과 종속변수를 확인\n",
    "#statsmodels 의 회귀모형을 사용할 경우에는\n",
    "#독립변수에 bias 처리를 위한 자리를 만들어줘야한다.\n",
    "import statsmodels.api as sm\n",
    "\n",
    "X = sm.add_constant(X0)"
   ]
  },
  {
   "cell_type": "code",
   "execution_count": 7,
   "metadata": {},
   "outputs": [],
   "source": [
    "#StatsModels를 이용한 다중회귀분석을 위한 패키지 \n",
    "#OLS\n",
    "sm_model1 = sm.OLS(y, X)\n",
    "sm_result1 = sm_model1.fit()"
   ]
  },
  {
   "cell_type": "code",
   "execution_count": 8,
   "metadata": {
    "scrolled": true
   },
   "outputs": [
    {
     "name": "stdout",
     "output_type": "stream",
     "text": [
      "                            OLS Regression Results                            \n",
      "==============================================================================\n",
      "Dep. Variable:                      y   R-squared:                       0.982\n",
      "Model:                            OLS   Adj. R-squared:                  0.982\n",
      "Method:                 Least Squares   F-statistic:                     2711.\n",
      "Date:                Sat, 29 Jun 2019   Prob (F-statistic):           7.58e-86\n",
      "Time:                        14:48:31   Log-Likelihood:                -378.11\n",
      "No. Observations:                 100   AIC:                             762.2\n",
      "Df Residuals:                      97   BIC:                             770.0\n",
      "Df Model:                           2                                         \n",
      "Covariance Type:            nonrobust                                         \n",
      "==============================================================================\n",
      "                 coef    std err          t      P>|t|      [0.025      0.975]\n",
      "------------------------------------------------------------------------------\n",
      "const         -5.7217      1.089     -5.256      0.000      -7.882      -3.561\n",
      "x1            67.3598      0.953     70.680      0.000      65.468      69.251\n",
      "x2            33.9917      1.286     26.432      0.000      31.439      36.544\n",
      "==============================================================================\n",
      "Omnibus:                        1.322   Durbin-Watson:                   1.917\n",
      "Prob(Omnibus):                  0.516   Jarque-Bera (JB):                1.136\n",
      "Skew:                          -0.051   Prob(JB):                        0.567\n",
      "Kurtosis:                       2.488   Cond. No.                         1.41\n",
      "==============================================================================\n",
      "\n",
      "Warnings:\n",
      "[1] Standard Errors assume that the covariance matrix of the errors is correctly specified.\n"
     ]
    }
   ],
   "source": [
    "#결과출력\n",
    "print(sm_result1.summary())"
   ]
  },
  {
   "cell_type": "code",
   "execution_count": 9,
   "metadata": {
    "collapsed": true
   },
   "outputs": [
    {
     "data": {
      "text/plain": [
       "array([-2.17691592e+00, -3.59136082e-01, -2.36379451e+00,  1.97452131e+00,\n",
       "       -9.07988891e-02, -5.37270348e-01, -2.64762498e-01, -1.05336107e+00,\n",
       "        1.35124584e+00,  8.96185817e-01,  2.74927613e-01, -2.19410053e-01,\n",
       "       -1.09578623e+00, -1.48087487e+00,  6.01122071e-01, -8.24852867e-01,\n",
       "       -5.96605324e-01,  3.54463344e-01, -1.58964011e-01,  1.77562711e-02,\n",
       "       -8.20057336e-01,  1.24905139e+00,  1.25459686e+00, -4.15730884e-02,\n",
       "        1.62303199e+00,  1.33818295e+00,  1.14771737e+00, -7.77257861e-01,\n",
       "       -1.67926546e+00, -1.86203692e+00, -7.65685852e-01, -1.15462328e+00,\n",
       "       -9.66809728e-01,  5.59210570e-01, -9.26207350e-01,  7.05762447e-01,\n",
       "        8.54738969e-01, -8.95128647e-01, -5.83089085e-01,  1.24353491e+00,\n",
       "        3.52687489e-02, -1.02299392e+00,  1.14183466e+00,  5.66056395e-01,\n",
       "       -3.19511155e-01,  9.52871358e-03,  4.55834006e-01,  5.44652143e-01,\n",
       "        6.20372281e-01,  7.42698487e-01,  1.42620318e+00,  4.22257515e-01,\n",
       "       -1.69396900e+00, -1.90018522e-01, -4.93399924e-01,  7.91042185e-01,\n",
       "       -5.85846085e-01,  3.22093199e-01, -1.28339025e+00,  9.69753441e-01,\n",
       "       -1.04626062e+00, -5.42531904e-02, -4.29607762e-01,  3.15248681e-01,\n",
       "        3.17462386e-01,  4.34971169e-01,  9.84818459e-01,  3.18712376e-01,\n",
       "        2.27959309e+00,  2.00390860e-01, -4.07050113e-01,  6.31258724e-01,\n",
       "        1.70027919e+00,  1.37468482e-03, -1.55159327e+00, -3.65269591e-01,\n",
       "       -1.94816325e-01,  4.02930143e-01, -7.83479480e-01,  7.35033301e-01,\n",
       "       -6.28303302e-01,  3.78415198e-01, -1.26533770e+00, -8.53428703e-01,\n",
       "        5.23596352e-01, -3.04166354e-01,  1.42729213e+00,  1.42503245e+00,\n",
       "        7.49519160e-01, -1.16335633e+00,  2.03252703e+00, -8.65034505e-01,\n",
       "        7.85925796e-01, -1.72337675e+00,  9.30610568e-01,  4.33557942e-01,\n",
       "       -7.97475229e-02, -6.66884636e-01, -1.12008744e+00,  2.83255352e-01])"
      ]
     },
     "execution_count": 9,
     "metadata": {},
     "output_type": "execute_result"
    }
   ],
   "source": [
    "# 생성된 회귀식의 잔차값\n",
    "sm_result1.resid_pearson"
   ]
  },
  {
   "cell_type": "code",
   "execution_count": 13,
   "metadata": {},
   "outputs": [
    {
     "data": {
      "text/plain": [
       "Text(0.5, 1.0, 'scatter plot between x2 and residual')"
      ]
     },
     "execution_count": 13,
     "metadata": {},
     "output_type": "execute_result"
    },
    {
     "data": {
      "image/png": "[encoded data removed]",
      "text/plain": [
       "<Figure size 1080x360 with 2 Axes>"
      ]
     },
     "metadata": {
      "needs_background": "light"
     },
     "output_type": "display_data"
    }
   ],
   "source": [
    "#잔차의 정규성 검정1 - 시각화1\n",
    "# 잔차분석을 위한 산점도\n",
    "# x1과 잔차에 대한 산점도를 첫번째 플롯에\n",
    "# x2와 잔차에 대한 산점도를 두번째 플롯에\n",
    "import matplotlib.pyplot as plt\n",
    "\n",
    "plt.figure(figsize=(15,5))\n",
    "ax1 = plt.subplot(1,2,1)\n",
    "ax2 = plt.subplot(1,2,2)\n",
    "\n",
    "ax1.scatter(X0[:, 0], sm_result1.resid_pearson)\n",
    "ax1.hlines(y=0, xmin=-3, xmax=5)\n",
    "ax1.set_xlabel('x1')\n",
    "ax1.set_title('scatter plot between x1 and residual')\n",
    "\n",
    "ax2.scatter(X0[:, 1], sm_result1.resid_pearson, color='r')\n",
    "ax2.hlines(y=0, xmin=-3, xmax=5)\n",
    "ax2.set_xlabel('x2')\n",
    "ax2.set_title('scatter plot between x2 and residual')"
   ]
  },
  {
   "cell_type": "code",
   "execution_count": 15,
   "metadata": {
    "scrolled": true
   },
   "outputs": [
    {
     "data": {
      "image/png": "[encoded data removed]",
      "text/plain": [
       "<Figure size 432x288 with 1 Axes>"
      ]
     },
     "metadata": {
      "needs_background": "light"
     },
     "output_type": "display_data"
    }
   ],
   "source": [
    "#잔차의 정규성 검정2 - 시각화2\n",
    "#QQplot\n",
    "import scipy as sp\n",
    "\n",
    "sp.stats.probplot(sm_result1.resid_pearson, plot=plt)\n",
    "plt.show()"
   ]
  },
  {
   "cell_type": "code",
   "execution_count": 16,
   "metadata": {},
   "outputs": [
    {
     "data": {
      "text/plain": [
       "NormaltestResult(statistic=1.3222724336277378, pvalue=0.5162644128134614)"
      ]
     },
     "execution_count": 16,
     "metadata": {},
     "output_type": "execute_result"
    }
   ],
   "source": [
    "#잔차의 정규성 검정3 - 통계값\n",
    "#카이제곱 검정 => p-value \n",
    "#귀무가설 : 정규분포를 따른다.\n",
    "#유의수준을 벗어나기 때문에 귀무가설을 기각할 수 없다. => 정규성 만족\n",
    "import statsmodels.stats.api as sms\n",
    "\n",
    "result = sms.omni_normtest(sm_result1.resid_pearson)\n",
    "result"
   ]
  },
  {
   "cell_type": "markdown",
   "metadata": {},
   "source": [
    "# Scikit-Learn을 이용한 다중회귀분석"
   ]
  },
  {
   "cell_type": "code",
   "execution_count": 18,
   "metadata": {},
   "outputs": [],
   "source": [
    "#Scikit-Learn을 이용한 다중회귀분석\n",
    "from sklearn.linear_model import LinearRegression"
   ]
  },
  {
   "cell_type": "code",
   "execution_count": 29,
   "metadata": {},
   "outputs": [
    {
     "data": {
      "text/plain": [
       "LinearRegression(copy_X=True, fit_intercept=True, n_jobs=None,\n",
       "         normalize=False)"
      ]
     },
     "execution_count": 29,
     "metadata": {},
     "output_type": "execute_result"
    }
   ],
   "source": [
    "sk_model1 = LinearRegression()\n",
    "sk_model1.fit(X0, y)"
   ]
  },
  {
   "cell_type": "code",
   "execution_count": 30,
   "metadata": {},
   "outputs": [
    {
     "data": {
      "text/plain": [
       "array([67.35975097, 33.99167012])"
      ]
     },
     "execution_count": 30,
     "metadata": {},
     "output_type": "execute_result"
    }
   ],
   "source": [
    "# 계수(coef_), 절편(intercept_)\n",
    "sk_model1.coef_"
   ]
  },
  {
   "cell_type": "code",
   "execution_count": 31,
   "metadata": {},
   "outputs": [
    {
     "data": {
      "text/plain": [
       "-5.7216806477181485"
      ]
     },
     "execution_count": 31,
     "metadata": {},
     "output_type": "execute_result"
    }
   ],
   "source": [
    "sk_model1.intercept_"
   ]
  },
  {
   "cell_type": "code",
   "execution_count": 22,
   "metadata": {},
   "outputs": [
    {
     "data": {
      "text/plain": [
       "0.9824233428664663"
      ]
     },
     "execution_count": 22,
     "metadata": {},
     "output_type": "execute_result"
    }
   ],
   "source": [
    "#적합된 회귀식이 자료를 얼마나 잘 설명하는지 나타내는 R squared 확인\n",
    "sk_model1.score(X0,y)"
   ]
  },
  {
   "cell_type": "code",
   "execution_count": 32,
   "metadata": {
    "scrolled": true
   },
   "outputs": [],
   "source": [
    "# 잔차구하기\n",
    "# sklearn에서의 회귀모형은 계산된 잔차를 보여주는 옵션이 없음\n",
    "# 잔차 = 정답 - 예측값\n",
    "sk_resid = y - sk_model1.predict(X0)"
   ]
  },
  {
   "cell_type": "code",
   "execution_count": 26,
   "metadata": {},
   "outputs": [
    {
     "data": {
      "text/plain": [
       "Text(0.5, 1.0, 'scatter plot between x2 and sk_residual')"
      ]
     },
     "execution_count": 26,
     "metadata": {},
     "output_type": "execute_result"
    },
    {
     "data": {
      "image/png": "[encoded data removed]",
      "text/plain": [
       "<Figure size 1080x360 with 2 Axes>"
      ]
     },
     "metadata": {
      "needs_background": "light"
     },
     "output_type": "display_data"
    }
   ],
   "source": [
    "# 잔차분석을 위한 산점도\n",
    "plt.figure(figsize=(15,5))\n",
    "ax1 = plt.subplot(1,2,1)\n",
    "ax2 = plt.subplot(1,2,2)\n",
    "\n",
    "ax1.scatter(X0[:, 0], sk_resid)\n",
    "ax1.hlines(y=0, xmin=-3, xmax=5)\n",
    "ax1.set_xlabel('x1')\n",
    "ax1.set_title('scatter plot between x1 and sk_residual')\n",
    "\n",
    "ax2.scatter(X0[:, 1], sk_resid, color='r')\n",
    "ax2.hlines(y=0, xmin=-3, xmax=5)\n",
    "ax2.set_xlabel('x2')\n",
    "ax2.set_title('scatter plot between x2 and sk_residual')"
   ]
  },
  {
   "cell_type": "code",
   "execution_count": 28,
   "metadata": {},
   "outputs": [
    {
     "data": {
      "text/plain": [
       "NormaltestResult(statistic=1.3222724336277278, pvalue=0.5162644128134641)"
      ]
     },
     "execution_count": 28,
     "metadata": {},
     "output_type": "execute_result"
    }
   ],
   "source": [
    "#잔차의 정규성 검정\n",
    "\n",
    "sms.omni_normtest(sk_resid)"
   ]
  },
  {
   "cell_type": "code",
   "execution_count": null,
   "metadata": {},
   "outputs": [],
   "source": []
  },
  {
   "cell_type": "code",
   "execution_count": null,
   "metadata": {},
   "outputs": [],
   "source": []
  },
  {
   "cell_type": "code",
   "execution_count": null,
   "metadata": {},
   "outputs": [],
   "source": []
  },
  {
   "cell_type": "code",
   "execution_count": null,
   "metadata": {},
   "outputs": [],
   "source": []
  },
  {
   "cell_type": "markdown",
   "metadata": {},
   "source": [
    "## 실습"
   ]
  },
  {
   "cell_type": "code",
   "execution_count": null,
   "metadata": {},
   "outputs": [],
   "source": [
    "# (연습문제) 각각의 설정값에 따른 데이터 생성 \n",
    "# 분포(산점도), coef 확인"
   ]
  },
  {
   "cell_type": "code",
   "execution_count": 36,
   "metadata": {},
   "outputs": [],
   "source": [
    "# make_regression()\n",
    "# n_samples=100\n",
    "# n_features=1\n",
    "# V1. bias = 30, noise = 0 \n",
    "X1, y1, c1 = make_regression(n_samples=100, n_features=1,  bias=30, noise=0, coef=True)\n",
    "# V2. bias = 0, noise = 30\n",
    "X2, y2, c2 = make_regression(n_samples=100, n_features=1,  bias=0, noise=30, coef=True)\n",
    "# V3. bias = 30, noise = 30\n",
    "X3, y3, c3 = make_regression(n_samples=100, n_features=1,  bias=30, noise=30, coef=True)"
   ]
  },
  {
   "cell_type": "code",
   "execution_count": 34,
   "metadata": {},
   "outputs": [
    {
     "data": {
      "text/plain": [
       "array([<matplotlib.axes._subplots.AxesSubplot object at 0x000001B965493438>,\n",
       "       <matplotlib.axes._subplots.AxesSubplot object at 0x000001B966D63A90>,\n",
       "       <matplotlib.axes._subplots.AxesSubplot object at 0x000001B96777AB70>],\n",
       "      dtype=object)"
      ]
     },
     "execution_count": 34,
     "metadata": {},
     "output_type": "execute_result"
    },
    {
     "data": {
      "image/png": "[encoded data removed]",
      "text/plain": [
       "<Figure size 1080x360 with 3 Axes>"
      ]
     },
     "metadata": {
      "needs_background": "light"
     },
     "output_type": "display_data"
    }
   ],
   "source": [
    "fig, axes = plt.subplots(1,3, figsize=(15,5))\n",
    "axes"
   ]
  },
  {
   "cell_type": "code",
   "execution_count": 35,
   "metadata": {},
   "outputs": [
    {
     "data": {
      "image/png": "[encoded data removed]",
      "text/plain": [
       "<Figure size 1080x360 with 3 Axes>"
      ]
     },
     "metadata": {
      "needs_background": "light"
     },
     "output_type": "display_data"
    }
   ],
   "source": [
    "# 생성한 데이터 시각화\n",
    "fig, axes = plt.subplots(1,3, figsize=(15,5))\n",
    "data = [[X1, y1],[X2, y2],[X3, y3]]\n",
    "titles = ['bias=30, noise=0','bias=0, noise=30','bias=30, noise=30']\n",
    "\n",
    "for d,a,t in zip(data, axes, titles):\n",
    "    a.scatter(d[0], d[1])\n",
    "    a.set_xlabel('x')\n",
    "    a.set_ylabel('y')\n",
    "    a.set_title(t)"
   ]
  },
  {
   "cell_type": "code",
   "execution_count": null,
   "metadata": {},
   "outputs": [],
   "source": [
    "# X1, y1 VS X2, y2"
   ]
  },
  {
   "cell_type": "code",
   "execution_count": 37,
   "metadata": {},
   "outputs": [],
   "source": [
    "# 선형 회귀 모델 객체 생성 \n",
    "reg1 = LinearRegression()\n",
    "reg2 = LinearRegression()"
   ]
  },
  {
   "cell_type": "code",
   "execution_count": 38,
   "metadata": {},
   "outputs": [
    {
     "data": {
      "text/plain": [
       "LinearRegression(copy_X=True, fit_intercept=True, n_jobs=None,\n",
       "         normalize=False)"
      ]
     },
     "execution_count": 38,
     "metadata": {},
     "output_type": "execute_result"
    }
   ],
   "source": [
    "# 모델 학습 \n",
    "reg1.fit(X1, y1)\n",
    "reg2.fit(X2, y2)"
   ]
  },
  {
   "cell_type": "code",
   "execution_count": 39,
   "metadata": {},
   "outputs": [
    {
     "data": {
      "text/plain": [
       "30.0"
      ]
     },
     "execution_count": 39,
     "metadata": {},
     "output_type": "execute_result"
    }
   ],
   "source": [
    "# 선형 회귀 모델로 추정한 회귀식의 절편과 기울기 확인\n",
    "# 절편 : intercept_\n",
    "reg1.intercept_"
   ]
  },
  {
   "cell_type": "code",
   "execution_count": 40,
   "metadata": {},
   "outputs": [
    {
     "data": {
      "text/plain": [
       "2.75690276611937"
      ]
     },
     "execution_count": 40,
     "metadata": {},
     "output_type": "execute_result"
    }
   ],
   "source": [
    "reg2.intercept_"
   ]
  },
  {
   "cell_type": "code",
   "execution_count": 41,
   "metadata": {},
   "outputs": [
    {
     "data": {
      "text/plain": [
       "array([31.46878143])"
      ]
     },
     "execution_count": 41,
     "metadata": {},
     "output_type": "execute_result"
    }
   ],
   "source": [
    "# 기울기 : coef_\n",
    "# 회귀식이 추정한 기울기\n",
    "reg1.coef_"
   ]
  },
  {
   "cell_type": "code",
   "execution_count": 42,
   "metadata": {},
   "outputs": [
    {
     "data": {
      "text/plain": [
       "array(31.46878143)"
      ]
     },
     "execution_count": 42,
     "metadata": {},
     "output_type": "execute_result"
    }
   ],
   "source": [
    "# 실제 기울기\n",
    "c1"
   ]
  },
  {
   "cell_type": "code",
   "execution_count": 43,
   "metadata": {},
   "outputs": [
    {
     "data": {
      "text/plain": [
       "array([37.93961521])"
      ]
     },
     "execution_count": 43,
     "metadata": {},
     "output_type": "execute_result"
    }
   ],
   "source": [
    "reg2.coef_"
   ]
  },
  {
   "cell_type": "code",
   "execution_count": 44,
   "metadata": {},
   "outputs": [
    {
     "data": {
      "text/plain": [
       "array(38.97228697)"
      ]
     },
     "execution_count": 44,
     "metadata": {},
     "output_type": "execute_result"
    }
   ],
   "source": [
    "c2"
   ]
  },
  {
   "cell_type": "code",
   "execution_count": null,
   "metadata": {},
   "outputs": [],
   "source": [
    "# 추정 회귀식 \n",
    "# reg1 => y = 31.46878143 * x + 30\n",
    "# reg2 => y = 37.93961521 * x + 2.75690276611937"
   ]
  },
  {
   "cell_type": "code",
   "execution_count": 45,
   "metadata": {},
   "outputs": [
    {
     "data": {
      "text/plain": [
       "1.0"
      ]
     },
     "execution_count": 45,
     "metadata": {},
     "output_type": "execute_result"
    }
   ],
   "source": [
    "# 회귀식의 적합도\n",
    "reg1.score(X1, y1)"
   ]
  },
  {
   "cell_type": "code",
   "execution_count": 46,
   "metadata": {},
   "outputs": [
    {
     "data": {
      "text/plain": [
       "0.6464478401645755"
      ]
     },
     "execution_count": 46,
     "metadata": {},
     "output_type": "execute_result"
    }
   ],
   "source": [
    "reg2.score(X2, y2)"
   ]
  },
  {
   "cell_type": "code",
   "execution_count": null,
   "metadata": {},
   "outputs": [],
   "source": [
    "# (연습문제) 잔차분석을 위한 잔차 연산 및 산점도 시각화\n",
    "# X1, y1"
   ]
  },
  {
   "cell_type": "code",
   "execution_count": 47,
   "metadata": {},
   "outputs": [],
   "source": [
    "resid = y1 - reg1.predict(X1)"
   ]
  },
  {
   "cell_type": "code",
   "execution_count": 57,
   "metadata": {},
   "outputs": [],
   "source": [
    "resid2 = y2 - reg2.predict(X2)"
   ]
  },
  {
   "cell_type": "code",
   "execution_count": 56,
   "metadata": {},
   "outputs": [
    {
     "data": {
      "text/plain": [
       "1.7763568394002505e-14"
      ]
     },
     "execution_count": 56,
     "metadata": {},
     "output_type": "execute_result"
    }
   ],
   "source": [
    "import numpy as np\n",
    "np.sum(resid)"
   ]
  },
  {
   "cell_type": "code",
   "execution_count": 58,
   "metadata": {},
   "outputs": [
    {
     "data": {
      "text/plain": [
       "<matplotlib.collections.LineCollection at 0x1b967204940>"
      ]
     },
     "execution_count": 58,
     "metadata": {},
     "output_type": "execute_result"
    },
    {
     "data": {
      "image/png": "[encoded data removed]",
      "text/plain": [
       "<Figure size 432x288 with 1 Axes>"
      ]
     },
     "metadata": {
      "needs_background": "light"
     },
     "output_type": "display_data"
    }
   ],
   "source": [
    "plt.scatter(X2, resid2)\n",
    "plt.hlines(y=0, xmin=-3, xmax=4)"
   ]
  },
  {
   "cell_type": "code",
   "execution_count": null,
   "metadata": {},
   "outputs": [],
   "source": [
    "# y = ~~~x+~~~"
   ]
  },
  {
   "cell_type": "code",
   "execution_count": 61,
   "metadata": {},
   "outputs": [
    {
     "data": {
      "text/plain": [
       "LinearRegression(copy_X=True, fit_intercept=True, n_jobs=None,\n",
       "         normalize=False)"
      ]
     },
     "execution_count": 61,
     "metadata": {},
     "output_type": "execute_result"
    }
   ],
   "source": [
    "reg = LinearRegression()\n",
    "reg.fit(X3, y3)"
   ]
  },
  {
   "cell_type": "code",
   "execution_count": 62,
   "metadata": {},
   "outputs": [
    {
     "data": {
      "text/plain": [
       "<matplotlib.legend.Legend at 0x1b968314668>"
      ]
     },
     "execution_count": 62,
     "metadata": {},
     "output_type": "execute_result"
    },
    {
     "data": {
      "image/png": "[encoded data removed]",
      "text/plain": [
       "<Figure size 432x288 with 1 Axes>"
      ]
     },
     "metadata": {
      "needs_background": "light"
     },
     "output_type": "display_data"
    }
   ],
   "source": [
    "# (연습문제) 실제데이터와 추정한 회귀식을 그래프로 시각화\n",
    "# X3, y3\n",
    "plt.scatter(X3, y3, label='data', color='orange')\n",
    "plt.plot(X3, reg.predict(X3), label='regression', color='k')\n",
    "plt.legend()"
   ]
  },
  {
   "cell_type": "code",
   "execution_count": null,
   "metadata": {},
   "outputs": [],
   "source": []
  }
 ],
 "metadata": {
  "kernelspec": {
   "display_name": "Python 3",
   "language": "python",
   "name": "python3"
  },
  "language_info": {
   "codemirror_mode": {
    "name": "ipython",
    "version": 3
   },
   "file_extension": ".py",
   "mimetype": "text/x-python",
   "name": "python",
   "nbconvert_exporter": "python",
   "pygments_lexer": "ipython3",
   "version": "3.7.3"
  }
 },
 "nbformat": 4,
 "nbformat_minor": 2
}
