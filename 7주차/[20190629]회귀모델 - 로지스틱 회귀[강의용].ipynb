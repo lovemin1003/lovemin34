{
 "cells": [
  {
   "cell_type": "markdown",
   "metadata": {},
   "source": [
    "# Logistic Regression Analysis"
   ]
  },
  {
   "cell_type": "code",
   "execution_count": 1,
   "metadata": {},
   "outputs": [],
   "source": [
    "# 라이브러리"
   ]
  },
  {
   "cell_type": "markdown",
   "metadata": {},
   "source": [
    "### Logistic Regression Analysis : 로지스틱 회귀 모형\n",
    "\n",
    "- 독립변수(입력 데이터)의 선형 결합으로 종속변수를 설명한다는 점에서 선형회귀분석과 유사\n",
    "- 종속변수에 대해 연속형 데이터만 포함했던 선형회귀와 다르게 범주형 데이터를 포함할 수 있음\n",
    "- 최종적으로 분류하려는 범주가 2개로 이루어진 경우에 사용하는 분류 알고리즘(이항 분류)\n",
    "- 주요 매개변수\n",
    "    - c : 모델의 일반화 성능 및 복잡도를 설정하며 값이 작을 수록 복잡도가 감소하고 값이 클 수록 복잡도가 증가\n",
    "<br>\n",
    "<img src='img/logistic1.png' width='400' height='200' align='left'>"
   ]
  },
  {
   "cell_type": "code",
   "execution_count": 5,
   "metadata": {},
   "outputs": [
    {
     "name": "stderr",
     "output_type": "stream",
     "text": [
      "C:\\Users\\user\\Anaconda3\\lib\\importlib\\_bootstrap.py:219: RuntimeWarning: numpy.ufunc size changed, may indicate binary incompatibility. Expected 192 from C header, got 216 from PyObject\n",
      "  return f(*args, **kwds)\n"
     ]
    }
   ],
   "source": [
    "# 로지스틱 회귀모델 실습용 데이터 생성\n",
    "from sklearn.datasets import make_classification"
   ]
  },
  {
   "cell_type": "code",
   "execution_count": 51,
   "metadata": {},
   "outputs": [],
   "source": [
    "# n_features(20)\n",
    "# n_redundant : 독립변수 간의 선형상관관계가 있는 독립변수(2)\n",
    "# n_informative : 독립변수 중 종속변수와 선형관계가 있는 독립변수(2)\n",
    "# n_repeated : 독립변수 중 단순 중복인 독립변수(0)\n",
    "# n_clusters_per_class : 범주당 클러스터의 개수(2) => 깔끔하게 분리되지 않는 결과\n",
    "# n_classes : 종속변수의 범주 개수(2)\n",
    "\n",
    "X1, y1 = make_classification(n_samples=100, n_features=1, n_redundant=0, n_informative=1,\n",
    "                          n_clusters_per_class=1)"
   ]
  },
  {
   "cell_type": "code",
   "execution_count": 11,
   "metadata": {},
   "outputs": [
    {
     "data": {
      "text/plain": [
       "array([1, 1, 1, 1, 0, 1, 1, 0, 1, 1, 1, 0, 1, 1, 0, 0, 0, 0, 0, 1, 0, 1,\n",
       "       1, 1, 0, 1, 0, 0, 0, 0, 1, 0, 1, 1, 1, 0, 0, 1, 0, 1, 0, 1, 0, 1,\n",
       "       0, 1, 0, 1, 1, 1, 0, 0, 0, 0, 1, 0, 0, 1, 1, 0, 0, 0, 1, 0, 0, 1,\n",
       "       1, 0, 0, 1, 0, 1, 0, 0, 1, 1, 0, 1, 1, 0, 1, 0, 0, 0, 1, 0, 0, 1,\n",
       "       1, 0, 0, 1, 1, 1, 0, 0, 1, 1, 0, 0])"
      ]
     },
     "execution_count": 11,
     "metadata": {},
     "output_type": "execute_result"
    }
   ],
   "source": [
    "y"
   ]
  },
  {
   "cell_type": "markdown",
   "metadata": {},
   "source": [
    "# Scikit-Learn을 이용한 로지스틱 회귀분석"
   ]
  },
  {
   "cell_type": "markdown",
   "metadata": {},
   "source": [
    "# C가 큰경우"
   ]
  },
  {
   "cell_type": "code",
   "execution_count": 2,
   "metadata": {},
   "outputs": [],
   "source": [
    "# 라이브러리\n",
    "from sklearn.linear_model import LogisticRegression"
   ]
  },
  {
   "cell_type": "code",
   "execution_count": 3,
   "metadata": {},
   "outputs": [
    {
     "data": {
      "text/plain": [
       "1000000000.0"
      ]
     },
     "execution_count": 3,
     "metadata": {},
     "output_type": "execute_result"
    }
   ],
   "source": [
    "# 10^9\n",
    "1e9"
   ]
  },
  {
   "cell_type": "code",
   "execution_count": 52,
   "metadata": {},
   "outputs": [],
   "source": [
    "log1 = LogisticRegression(C =1000000000)"
   ]
  },
  {
   "cell_type": "code",
   "execution_count": 53,
   "metadata": {},
   "outputs": [
    {
     "name": "stderr",
     "output_type": "stream",
     "text": [
      "C:\\Users\\user\\Anaconda3\\lib\\site-packages\\sklearn\\linear_model\\logistic.py:433: FutureWarning: Default solver will be changed to 'lbfgs' in 0.22. Specify a solver to silence this warning.\n",
      "  FutureWarning)\n"
     ]
    },
    {
     "data": {
      "text/plain": [
       "LogisticRegression(C=1000000000, class_weight=None, dual=False,\n",
       "          fit_intercept=True, intercept_scaling=1, max_iter=100,\n",
       "          multi_class='warn', n_jobs=None, penalty='l2', random_state=None,\n",
       "          solver='warn', tol=0.0001, verbose=0, warm_start=False)"
      ]
     },
     "execution_count": 53,
     "metadata": {},
     "output_type": "execute_result"
    }
   ],
   "source": [
    "log1.fit(X1, y1)"
   ]
  },
  {
   "cell_type": "code",
   "execution_count": 8,
   "metadata": {},
   "outputs": [],
   "source": [
    "#Scikit-Learn을 이용하여 추정한 회귀식의 alpha, beta 구하기"
   ]
  },
  {
   "cell_type": "code",
   "execution_count": 33,
   "metadata": {},
   "outputs": [
    {
     "data": {
      "text/plain": [
       "0.6122792670546318"
      ]
     },
     "execution_count": 33,
     "metadata": {},
     "output_type": "execute_result"
    }
   ],
   "source": [
    "log1.intercept_[0]"
   ]
  },
  {
   "cell_type": "code",
   "execution_count": 34,
   "metadata": {},
   "outputs": [
    {
     "data": {
      "text/plain": [
       "12.2480977185114"
      ]
     },
     "execution_count": 34,
     "metadata": {},
     "output_type": "execute_result"
    }
   ],
   "source": [
    "log1.coef_[0][0]"
   ]
  },
  {
   "cell_type": "code",
   "execution_count": 18,
   "metadata": {
    "collapsed": true
   },
   "outputs": [
    {
     "data": {
      "text/plain": [
       "array([[ 1.34824127],\n",
       "       [ 0.7562763 ],\n",
       "       [ 0.97828841],\n",
       "       [-0.01808617],\n",
       "       [-2.18265759],\n",
       "       [ 1.120404  ],\n",
       "       [ 1.1087418 ],\n",
       "       [-1.37841805],\n",
       "       [ 1.2514645 ],\n",
       "       [ 0.43343739],\n",
       "       [ 1.06883779],\n",
       "       [-1.25634214],\n",
       "       [ 0.60774225],\n",
       "       [ 0.54187438],\n",
       "       [-1.00179059],\n",
       "       [-0.32241149],\n",
       "       [-1.79299717],\n",
       "       [-0.99043093],\n",
       "       [-0.68416456],\n",
       "       [ 1.32513765],\n",
       "       [-0.68729931],\n",
       "       [ 1.69022086],\n",
       "       [ 2.15433792],\n",
       "       [ 0.92073285],\n",
       "       [-0.38863562],\n",
       "       [ 2.09440705],\n",
       "       [-0.81983574],\n",
       "       [-1.12940452],\n",
       "       [-1.91767986],\n",
       "       [-0.52516137],\n",
       "       [ 0.26432768],\n",
       "       [-2.18180423],\n",
       "       [ 1.23220915],\n",
       "       [ 1.12911386],\n",
       "       [ 0.51499977],\n",
       "       [-1.38340993],\n",
       "       [-0.87074005],\n",
       "       [ 0.08475634],\n",
       "       [-1.73369835],\n",
       "       [ 0.80155245],\n",
       "       [-0.20187425],\n",
       "       [ 1.10301129],\n",
       "       [-1.26828758],\n",
       "       [ 1.51575422],\n",
       "       [-0.83658694],\n",
       "       [ 0.65295865],\n",
       "       [-1.54959895],\n",
       "       [ 0.44450594],\n",
       "       [ 0.78988534],\n",
       "       [ 0.02601028],\n",
       "       [-1.70018173],\n",
       "       [-1.15257536],\n",
       "       [-0.86433264],\n",
       "       [-0.12518053],\n",
       "       [ 0.85574811],\n",
       "       [-1.09517909],\n",
       "       [-1.00506197],\n",
       "       [ 0.72157524],\n",
       "       [ 1.6769473 ],\n",
       "       [-2.04764464],\n",
       "       [-0.70918491],\n",
       "       [-0.58051326],\n",
       "       [-0.11956244],\n",
       "       [ 0.83449584],\n",
       "       [-1.74573918],\n",
       "       [ 0.6985596 ],\n",
       "       [ 1.01139731],\n",
       "       [-0.58806062],\n",
       "       [-1.03293637],\n",
       "       [ 1.63486801],\n",
       "       [-0.94672   ],\n",
       "       [ 1.93746203],\n",
       "       [-1.50349564],\n",
       "       [-2.37551581],\n",
       "       [ 0.97467369],\n",
       "       [ 1.58296093],\n",
       "       [-2.00755495],\n",
       "       [ 1.26605338],\n",
       "       [ 0.92517076],\n",
       "       [-1.12893945],\n",
       "       [ 0.52124296],\n",
       "       [-1.23198648],\n",
       "       [-1.51269968],\n",
       "       [-0.65018333],\n",
       "       [ 1.21542637],\n",
       "       [-1.24896478],\n",
       "       [-1.72709383],\n",
       "       [ 1.48790312],\n",
       "       [ 2.0268232 ],\n",
       "       [-1.38687116],\n",
       "       [-1.04172045],\n",
       "       [ 1.48494103],\n",
       "       [ 0.28494286],\n",
       "       [ 0.58950392],\n",
       "       [-0.78333855],\n",
       "       [ 0.04905661],\n",
       "       [ 0.75095216],\n",
       "       [ 1.06660707],\n",
       "       [-1.24492794],\n",
       "       [-1.5053435 ]])"
      ]
     },
     "execution_count": 18,
     "metadata": {},
     "output_type": "execute_result"
    }
   ],
   "source": [
    "X"
   ]
  },
  {
   "cell_type": "code",
   "execution_count": 23,
   "metadata": {},
   "outputs": [],
   "source": [
    "import numpy as np\n",
    "import matplotlib.pyplot as plt"
   ]
  },
  {
   "cell_type": "code",
   "execution_count": 60,
   "metadata": {},
   "outputs": [
    {
     "data": {
      "image/png": "[encoded data removed]",
      "text/plain": [
       "<Figure size 432x288 with 1 Axes>"
      ]
     },
     "metadata": {
      "needs_background": "light"
     },
     "output_type": "display_data"
    }
   ],
   "source": [
    "#추정한 회귀식을 그래프상에 나타내자.\n",
    "# Scikit-learn에서는 theta를 구할 때 predict함수를 사용하기보다 실제 식을 작성해보자.\n",
    "# 공식으로 그리기 위한 인위적인 작업\n",
    "x = np.linspace(-3, 3, 100)\n",
    "y = np.exp(log1.intercept_[0]+log1.coef_[0][0]*x)/(1+np.exp(log1.intercept_[0]+log1.coef_[0][0]*x))\n",
    "plt.plot(x, y, color='r')\n",
    "# 실제 독립변수와 종속변수의 산점도(o로 표현)\n",
    "plt.scatter(X1, y1, marker='o', s=30, color='c')\n",
    "# 실제 독립변수와 모형을 통해 나온 예측값(x로 표현)\n",
    "\n",
    "plt.scatter(X1, log1.predict(X1), marker='x', c=y1, s=100, lw=2, alpha=.3)\n",
    "plt.xlim(-1.5, 1.5)\n",
    "plt.show()\n"
   ]
  },
  {
   "cell_type": "code",
   "execution_count": 55,
   "metadata": {},
   "outputs": [
    {
     "data": {
      "text/plain": [
       "1.0"
      ]
     },
     "execution_count": 55,
     "metadata": {},
     "output_type": "execute_result"
    }
   ],
   "source": [
    "log1.score(X1, y1)"
   ]
  },
  {
   "cell_type": "code",
   "execution_count": null,
   "metadata": {},
   "outputs": [],
   "source": []
  },
  {
   "cell_type": "code",
   "execution_count": null,
   "metadata": {},
   "outputs": [],
   "source": []
  },
  {
   "cell_type": "markdown",
   "metadata": {},
   "source": [
    "# C가 작은경우"
   ]
  },
  {
   "cell_type": "code",
   "execution_count": 56,
   "metadata": {},
   "outputs": [],
   "source": [
    "log2 = LogisticRegression(C=0.1)"
   ]
  },
  {
   "cell_type": "code",
   "execution_count": 57,
   "metadata": {},
   "outputs": [
    {
     "name": "stderr",
     "output_type": "stream",
     "text": [
      "C:\\Users\\user\\Anaconda3\\lib\\site-packages\\sklearn\\linear_model\\logistic.py:433: FutureWarning: Default solver will be changed to 'lbfgs' in 0.22. Specify a solver to silence this warning.\n",
      "  FutureWarning)\n"
     ]
    },
    {
     "data": {
      "text/plain": [
       "LogisticRegression(C=0.1, class_weight=None, dual=False, fit_intercept=True,\n",
       "          intercept_scaling=1, max_iter=100, multi_class='warn',\n",
       "          n_jobs=None, penalty='l2', random_state=None, solver='warn',\n",
       "          tol=0.0001, verbose=0, warm_start=False)"
      ]
     },
     "execution_count": 57,
     "metadata": {},
     "output_type": "execute_result"
    }
   ],
   "source": [
    "log2.fit(X1, y1)"
   ]
  },
  {
   "cell_type": "code",
   "execution_count": 46,
   "metadata": {},
   "outputs": [
    {
     "data": {
      "text/plain": [
       "array([-0.00229395])"
      ]
     },
     "execution_count": 46,
     "metadata": {},
     "output_type": "execute_result"
    }
   ],
   "source": [
    "#Scikit-Learn을 이용하여 추정한 회귀식의 alpha, beta 구하기\n",
    "log2.intercept_"
   ]
  },
  {
   "cell_type": "code",
   "execution_count": 47,
   "metadata": {},
   "outputs": [
    {
     "data": {
      "text/plain": [
       "array([[1.6283565]])"
      ]
     },
     "execution_count": 47,
     "metadata": {},
     "output_type": "execute_result"
    }
   ],
   "source": [
    "log2.coef_"
   ]
  },
  {
   "cell_type": "code",
   "execution_count": 61,
   "metadata": {},
   "outputs": [
    {
     "data": {
      "image/png": "[encoded data removed]",
      "text/plain": [
       "<Figure size 432x288 with 1 Axes>"
      ]
     },
     "metadata": {
      "needs_background": "light"
     },
     "output_type": "display_data"
    }
   ],
   "source": [
    "#추정한 회귀식을 그래프상에 나타내자.\n",
    "# Scikit-learn에서는 theta를 구할 때 predict함수를 사용하기보다 실제 식을 작성해보자.\n",
    "# 실제 독립변수와 종속변수의 산점도(o로 표현)\n",
    "#실제 독립변수와 모형을 통해 나온 예측값(x로 표현)\n",
    "x2 = np.linspace(-3,3,100)\n",
    "y2 = np.exp(log2.intercept_[0]+log2.coef_[0][0]*x2)/(1+np.exp(log2.intercept_[0]+log2.coef_[0][0]*x2))\n",
    "plt.plot(x2, y2, color='r')\n",
    "\n",
    "plt.scatter(X1, y1, marker='o', c='c', s=100)\n",
    "\n",
    "plt.scatter(X1, log2.predict(X1), marker='x', s=100, c=y1, lw=3)\n",
    "plt.show()"
   ]
  },
  {
   "cell_type": "code",
   "execution_count": 62,
   "metadata": {},
   "outputs": [
    {
     "data": {
      "text/plain": [
       "0.98"
      ]
     },
     "execution_count": 62,
     "metadata": {},
     "output_type": "execute_result"
    }
   ],
   "source": [
    "log2.score(X1, y1)"
   ]
  }
 ],
 "metadata": {
  "kernelspec": {
   "display_name": "Python 3",
   "language": "python",
   "name": "python3"
  },
  "language_info": {
   "codemirror_mode": {
    "name": "ipython",
    "version": 3
   },
   "file_extension": ".py",
   "mimetype": "text/x-python",
   "name": "python",
   "nbconvert_exporter": "python",
   "pygments_lexer": "ipython3",
   "version": "3.7.3"
  }
 },
 "nbformat": 4,
 "nbformat_minor": 2
}
