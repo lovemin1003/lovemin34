{
 "cells": [
  {
   "cell_type": "markdown",
   "metadata": {},
   "source": [
    "### 아래와 같은 문자열을 아이템으로 가지는 리스트를 이용하여 다음과 같은 문자열을 출력하시오.\n",
    "\n",
    "- 아이템 : 'Life', 'is', 'too', 'short', 'you', 'need', 'python'\n",
    "\n",
    "- 출력문 : you too\n",
    "\n",
    "- 조건\n",
    "    - 기본 : 아이템을 입력하여 자료형을 선언\n",
    "    - 심화 : 메서드를 사용하여 아이템을 입력하지 않는 방식으로 선언"
   ]
  },
  {
   "cell_type": "code",
   "execution_count": 1,
   "metadata": {},
   "outputs": [
    {
     "data": {
      "text/plain": [
       "['a', 'b', 'c', 'd']"
      ]
     },
     "execution_count": 1,
     "metadata": {},
     "output_type": "execute_result"
    }
   ],
   "source": [
    "list('abcd')"
   ]
  },
  {
   "cell_type": "code",
   "execution_count": 4,
   "metadata": {},
   "outputs": [
    {
     "data": {
      "text/plain": [
       "['abc', 'bddc/dd']"
      ]
     },
     "execution_count": 4,
     "metadata": {},
     "output_type": "execute_result"
    }
   ],
   "source": [
    "'abc,bddc/dd'.split(',')"
   ]
  },
  {
   "cell_type": "code",
   "execution_count": 5,
   "metadata": {
    "collapsed": true
   },
   "outputs": [
    {
     "data": {
      "text/plain": [
       "['L',\n",
       " 'i',\n",
       " 'f',\n",
       " 'e',\n",
       " 'i',\n",
       " 's',\n",
       " 't',\n",
       " 'o',\n",
       " 'o',\n",
       " 's',\n",
       " 'h',\n",
       " 'o',\n",
       " 'r',\n",
       " 't',\n",
       " 'y',\n",
       " 'o',\n",
       " 'u',\n",
       " 'n',\n",
       " 'e',\n",
       " 'e',\n",
       " 'd',\n",
       " 'p',\n",
       " 'y',\n",
       " 't',\n",
       " 'h',\n",
       " 'o',\n",
       " 'n']"
      ]
     },
     "execution_count": 5,
     "metadata": {},
     "output_type": "execute_result"
    }
   ],
   "source": [
    "list('Lifeistooshortyouneedpython')"
   ]
  },
  {
   "cell_type": "code",
   "execution_count": 7,
   "metadata": {},
   "outputs": [
    {
     "data": {
      "text/plain": [
       "['Lifeistooshortyouneedpython']"
      ]
     },
     "execution_count": 7,
     "metadata": {},
     "output_type": "execute_result"
    }
   ],
   "source": [
    "# ' '\n",
    "'Lifeistooshortyouneedpython'.split(',')"
   ]
  },
  {
   "cell_type": "code",
   "execution_count": 8,
   "metadata": {},
   "outputs": [],
   "source": [
    "list1 = [ 'Life', 'is', 'too', 'short', 'you', 'need', 'python']\n",
    "list2 = 'Life#is#too#short#you#need#python'.split('#')"
   ]
  },
  {
   "cell_type": "code",
   "execution_count": 10,
   "metadata": {},
   "outputs": [
    {
     "data": {
      "text/plain": [
       "['Life', 'is', 'too', 'short', 'you', 'need', 'python']"
      ]
     },
     "execution_count": 10,
     "metadata": {},
     "output_type": "execute_result"
    }
   ],
   "source": [
    "list2"
   ]
  },
  {
   "cell_type": "code",
   "execution_count": 13,
   "metadata": {},
   "outputs": [
    {
     "data": {
      "text/plain": [
       "'you too'"
      ]
     },
     "execution_count": 13,
     "metadata": {},
     "output_type": "execute_result"
    }
   ],
   "source": [
    "list2[-3] + ' ' + list2[2]"
   ]
  },
  {
   "cell_type": "code",
   "execution_count": 14,
   "metadata": {},
   "outputs": [
    {
     "name": "stdout",
     "output_type": "stream",
     "text": [
      "you too\n"
     ]
    }
   ],
   "source": [
    "# padding : \n",
    "print(list2[-3], list2[2])"
   ]
  },
  {
   "cell_type": "markdown",
   "metadata": {},
   "source": [
    "### 위 리스트의 길이를 구하세요"
   ]
  },
  {
   "cell_type": "code",
   "execution_count": 15,
   "metadata": {},
   "outputs": [
    {
     "data": {
      "text/plain": [
       "7"
      ]
     },
     "execution_count": 15,
     "metadata": {},
     "output_type": "execute_result"
    }
   ],
   "source": [
    "len(list2)"
   ]
  },
  {
   "cell_type": "markdown",
   "metadata": {},
   "source": [
    "### 위 리스트의 첫번째 아이템에 길이를 추가하세요\n",
    "\n",
    "- 결과   \n",
    "> [7, 'Life', 'is', 'too', 'short', 'you', 'need', 'python']"
   ]
  },
  {
   "cell_type": "code",
   "execution_count": 17,
   "metadata": {},
   "outputs": [],
   "source": [
    "list1[0] = len(list1)"
   ]
  },
  {
   "cell_type": "code",
   "execution_count": 18,
   "metadata": {},
   "outputs": [
    {
     "data": {
      "text/plain": [
       "[7, 'is', 'too', 'short', 'you', 'need', 'python']"
      ]
     },
     "execution_count": 18,
     "metadata": {},
     "output_type": "execute_result"
    }
   ],
   "source": [
    "list1"
   ]
  },
  {
   "cell_type": "markdown",
   "metadata": {},
   "source": [
    "### 리스트 아이템 추가\n",
    "\n",
    "- 리스트.append() : 하나의 아이템을 마지막에 추가\n",
    "- 리스트.extend() : 여러개의 아이템을 마지막 추가\n",
    "- 리스트.insert(idx, v) : 지정된 위치에 아이템을 추가\n",
    "- 리스트1 + 리스트2 : 순서대로 아이템이 추가"
   ]
  },
  {
   "cell_type": "code",
   "execution_count": 22,
   "metadata": {},
   "outputs": [],
   "source": [
    "a = [1]"
   ]
  },
  {
   "cell_type": "code",
   "execution_count": 23,
   "metadata": {},
   "outputs": [],
   "source": [
    "a.append(2)"
   ]
  },
  {
   "cell_type": "code",
   "execution_count": 24,
   "metadata": {},
   "outputs": [
    {
     "data": {
      "text/plain": [
       "[1, 2]"
      ]
     },
     "execution_count": 24,
     "metadata": {},
     "output_type": "execute_result"
    }
   ],
   "source": [
    "a"
   ]
  },
  {
   "cell_type": "code",
   "execution_count": 26,
   "metadata": {},
   "outputs": [
    {
     "data": {
      "text/plain": [
       "[1, 2, [10], [10]]"
      ]
     },
     "execution_count": 26,
     "metadata": {},
     "output_type": "execute_result"
    }
   ],
   "source": [
    "a.append([10])\n",
    "a"
   ]
  },
  {
   "cell_type": "code",
   "execution_count": 28,
   "metadata": {},
   "outputs": [
    {
     "data": {
      "text/plain": [
       "10"
      ]
     },
     "execution_count": 28,
     "metadata": {},
     "output_type": "execute_result"
    }
   ],
   "source": [
    "a[2][0]"
   ]
  },
  {
   "cell_type": "code",
   "execution_count": 29,
   "metadata": {},
   "outputs": [
    {
     "data": {
      "text/plain": [
       "[1, 2, [10], [10], 100]"
      ]
     },
     "execution_count": 29,
     "metadata": {},
     "output_type": "execute_result"
    }
   ],
   "source": [
    "a.extend([100])\n",
    "a"
   ]
  },
  {
   "cell_type": "code",
   "execution_count": 21,
   "metadata": {},
   "outputs": [
    {
     "data": {
      "text/plain": [
       "[1, 2, 3, 4, 5, 6]"
      ]
     },
     "execution_count": 21,
     "metadata": {},
     "output_type": "execute_result"
    }
   ],
   "source": [
    "[1,2,3] + [4,5,6]"
   ]
  },
  {
   "cell_type": "code",
   "execution_count": 19,
   "metadata": {},
   "outputs": [],
   "source": [
    "# 위치를 지정하여 리스트의 아이템 추가\n",
    "# 리스트.insert(idx, value)\n",
    "list2.insert(0, len(list2))"
   ]
  },
  {
   "cell_type": "code",
   "execution_count": 20,
   "metadata": {},
   "outputs": [
    {
     "data": {
      "text/plain": [
       "[7, 'Life', 'is', 'too', 'short', 'you', 'need', 'python']"
      ]
     },
     "execution_count": 20,
     "metadata": {},
     "output_type": "execute_result"
    }
   ],
   "source": [
    "list2"
   ]
  },
  {
   "cell_type": "code",
   "execution_count": 33,
   "metadata": {},
   "outputs": [
    {
     "name": "stdout",
     "output_type": "stream",
     "text": [
      "test test,"
     ]
    }
   ],
   "source": [
    "print('test', 'test', end='')"
   ]
  },
  {
   "cell_type": "markdown",
   "metadata": {},
   "source": [
    "### 아래와 같이 크기 순서가 없는 리스트를 만들고 내림차순 정렬로 바꿔보세요.\n",
    "\n",
    "\n",
    "- 예시 [1, 4, 9, 2, 6, 10]  \n",
    "- 결과 [10, 9, 6, 4, 2, 1]"
   ]
  },
  {
   "cell_type": "code",
   "execution_count": 37,
   "metadata": {},
   "outputs": [],
   "source": [
    "list3 = [1,4,7,2,10]"
   ]
  },
  {
   "cell_type": "code",
   "execution_count": 38,
   "metadata": {},
   "outputs": [],
   "source": [
    "# sort() : 기본동작은 오름차순\n",
    "list3.sort()"
   ]
  },
  {
   "cell_type": "code",
   "execution_count": 40,
   "metadata": {},
   "outputs": [],
   "source": [
    "list3.reverse()"
   ]
  },
  {
   "cell_type": "code",
   "execution_count": 41,
   "metadata": {},
   "outputs": [
    {
     "data": {
      "text/plain": [
       "[10, 7, 4, 2, 1]"
      ]
     },
     "execution_count": 41,
     "metadata": {},
     "output_type": "execute_result"
    }
   ],
   "source": [
    "list3"
   ]
  },
  {
   "cell_type": "code",
   "execution_count": 42,
   "metadata": {},
   "outputs": [
    {
     "data": {
      "text/plain": [
       "[10, 7, 4, 2, 1]"
      ]
     },
     "execution_count": 42,
     "metadata": {},
     "output_type": "execute_result"
    }
   ],
   "source": [
    "# sort(reverse=False)\n",
    "list3 = [1,4,7,2,10]\n",
    "list3.sort(reverse=True)\n",
    "list3"
   ]
  },
  {
   "cell_type": "markdown",
   "metadata": {},
   "source": [
    "### 1 ~ 10 까지의 정수를 아이템으로 가지는 리스트를 만들고 홀수 값인 아이템을 삭제해보세요.\n",
    "\n",
    "- 예시  [1, 2, 3, 4, 5, 6, 7, 8, 9, 10 ]  \n",
    "      \n",
    "- 결과 [2, 4, 6, 8, 10]"
   ]
  },
  {
   "cell_type": "code",
   "execution_count": 43,
   "metadata": {},
   "outputs": [],
   "source": [
    "a = [1, 2, 3, 4, 5, 6, 7, 8, 9, 10 ]"
   ]
  },
  {
   "cell_type": "code",
   "execution_count": 46,
   "metadata": {},
   "outputs": [],
   "source": [
    "a[0] = 10"
   ]
  },
  {
   "cell_type": "code",
   "execution_count": 48,
   "metadata": {},
   "outputs": [],
   "source": [
    "a[0] = 1"
   ]
  },
  {
   "cell_type": "code",
   "execution_count": 51,
   "metadata": {},
   "outputs": [],
   "source": [
    "del a[::2] "
   ]
  },
  {
   "cell_type": "code",
   "execution_count": 52,
   "metadata": {},
   "outputs": [
    {
     "data": {
      "text/plain": [
       "[2, 4, 6, 8, 10]"
      ]
     },
     "execution_count": 52,
     "metadata": {},
     "output_type": "execute_result"
    }
   ],
   "source": [
    "a"
   ]
  },
  {
   "cell_type": "markdown",
   "metadata": {},
   "source": [
    "### 아래와 같은 다차원 딕셔너리를 만들고 제시한 값을 출력해보세요.\n",
    "\n",
    "    {'a' : [1, 2, 3], 'b' : 100, 'c' : {'key1' : ['파인애플', '포도', '바나나'], 'key2' : (55, 66)}}\n",
    "    \n",
    "* 3 출력하기\n",
    "\n",
    "* ['파인애플', '포도', '바나나'] 출력하기\n",
    "\n",
    "* 포도 출력하기\n",
    "\n",
    "* 55 출력하기\n"
   ]
  },
  {
   "cell_type": "code",
   "execution_count": 56,
   "metadata": {},
   "outputs": [],
   "source": [
    "d1 = {'a' : [1, 2, 3], 'b' : 100, 'c' : {'key1' : ['파인애플', '포도', '바나나'], 'key2' : (55, 66)}}"
   ]
  },
  {
   "cell_type": "code",
   "execution_count": 57,
   "metadata": {},
   "outputs": [
    {
     "data": {
      "text/plain": [
       "{'a': [1, 2, 3],\n",
       " 'b': 100,\n",
       " 'c': {'key1': ['파인애플', '포도', '바나나'], 'key2': (55, 66)}}"
      ]
     },
     "execution_count": 57,
     "metadata": {},
     "output_type": "execute_result"
    }
   ],
   "source": [
    "d1"
   ]
  },
  {
   "cell_type": "code",
   "execution_count": 66,
   "metadata": {},
   "outputs": [
    {
     "name": "stdout",
     "output_type": "stream",
     "text": [
      "3\n",
      "['파인애플', '포도', '바나나']\n",
      "포도\n",
      "55\n"
     ]
    }
   ],
   "source": [
    "# 3 출력하기\n",
    "print(d1['a'][2])\n",
    "# ['파인애플', '포도', '바나나'] 출력하기\n",
    "print(d1['c']['key1'])\n",
    "# 포도 출력하기\n",
    "print(d1['c']['key1'][1])\n",
    "# 55 출력하기\n",
    "print(d1['c']['key2'][0])"
   ]
  },
  {
   "cell_type": "code",
   "execution_count": 55,
   "metadata": {},
   "outputs": [
    {
     "name": "stdout",
     "output_type": "stream",
     "text": [
      "test,test\n"
     ]
    }
   ],
   "source": [
    "# print 파라미터\n",
    "# sep : 두 개 값 이상 출력 시 사이값(기본:공백하나)\n",
    "# end : 마지막 값 뒤에 출력값 (기본:\\n)\n",
    "print('test', 'test', sep=',')"
   ]
  },
  {
   "cell_type": "code",
   "execution_count": null,
   "metadata": {},
   "outputs": [],
   "source": []
  },
  {
   "cell_type": "markdown",
   "metadata": {},
   "source": [
    "### 아래와 같은 딕셔너리를 생성하고 해당 딕셔너리의 value 중 최소값을 구하여 형식에 맞게 출력하세요.\n",
    "\n",
    "- 생성 딕셔너리 \n",
    "> {'A':9, 'B':80, 'C':70}\n",
    "\n",
    "- 조건1. 생성한 딕셔너리에 \" 'D' : 20, 'E' : 100, 'F' : 10  \" 아이템 3개를 추가하세요.\n",
    "\n",
    "- 조건2. key 'A'의 값을 9 에서 90 으로 변경하세요.\n",
    "\n",
    "- 조건3. '최소 값 10을 가진 key는 F입니다.'로 포맷팅을 사용하여 출력하고 10을 포맷팅 값으로 사용하세요.\n",
    "\n",
    "- 조건4. 최소 값은 딕셔너리에 속한 내장함수와 파이썬 내장함수를 모두 사용하여 구해보세요."
   ]
  },
  {
   "cell_type": "code",
   "execution_count": 67,
   "metadata": {},
   "outputs": [],
   "source": [
    "d2 = {'A':9, 'B':80, 'C':70}"
   ]
  },
  {
   "cell_type": "code",
   "execution_count": null,
   "metadata": {},
   "outputs": [],
   "source": [
    "# 조건1. 생성한 딕셔너리에 \" 'D' : 20, 'E' : 100, 'F' : 10 \" 아이템 3개를 추가하세요.\n",
    "# 딕셔너리 타입 아이템 추가\n",
    "# 1. 새로운 key 인덱싱 문법으로 새로운 값 할당 : d['key'] = x\n",
    "# 2. 딕셔너리 메서드 : d.update({k:v. k1:v1})"
   ]
  },
  {
   "cell_type": "code",
   "execution_count": 68,
   "metadata": {},
   "outputs": [
    {
     "data": {
      "text/plain": [
       "{'A': 9, 'B': 80, 'C': 70, 'D': 20, 'E': 100, 'F': 10}"
      ]
     },
     "execution_count": 68,
     "metadata": {},
     "output_type": "execute_result"
    }
   ],
   "source": [
    "# d2['D'] = 20\n",
    "d2.update({'D':20, 'E':100, 'F':10})\n",
    "d2"
   ]
  },
  {
   "cell_type": "code",
   "execution_count": 75,
   "metadata": {},
   "outputs": [],
   "source": [
    "# 조건2. key 'A'의 값을 9 에서 90 으로 변경하세요.\n",
    "# 딕셔너리 타입의 아이템 값 조회/참조/가져오기\n",
    "# 인덱싱 기호 : d[key] => 새로운 값으로 수정 가능\n",
    "# 딕셔너리 타입 메서드 : d.get(key) => 새로운 값으로 수정, 삭제\n",
    "d2['A'] = 90\n",
    "# d2.get('A')"
   ]
  },
  {
   "cell_type": "code",
   "execution_count": 76,
   "metadata": {},
   "outputs": [
    {
     "data": {
      "text/plain": [
       "{'A': 90, 'B': 80, 'C': 70, 'D': 20, 'E': 100, 'F': 10}"
      ]
     },
     "execution_count": 76,
     "metadata": {},
     "output_type": "execute_result"
    }
   ],
   "source": [
    "d2"
   ]
  },
  {
   "cell_type": "code",
   "execution_count": null,
   "metadata": {},
   "outputs": [],
   "source": [
    "# . '최소 값 10을 가진 key는 F입니다.'로 포맷팅을 사용하여 출력하고 \n",
    "# 10을 포맷팅 값으로 사용하세요.\n",
    "# 최소 값 => 딕셔너리 타입의 values => 최소값\n",
    "# 출력 => 포맷팅"
   ]
  },
  {
   "cell_type": "code",
   "execution_count": null,
   "metadata": {},
   "outputs": [],
   "source": [
    "# 딕셔너리 타입의 values \n",
    "# d.keys()\n",
    "# d.values()\n",
    "# d.items()"
   ]
  },
  {
   "cell_type": "code",
   "execution_count": 79,
   "metadata": {},
   "outputs": [
    {
     "data": {
      "text/plain": [
       "370"
      ]
     },
     "execution_count": 79,
     "metadata": {},
     "output_type": "execute_result"
    }
   ],
   "source": [
    "sum(d2.values())"
   ]
  },
  {
   "cell_type": "code",
   "execution_count": 78,
   "metadata": {},
   "outputs": [
    {
     "data": {
      "text/plain": [
       "10"
      ]
     },
     "execution_count": 78,
     "metadata": {},
     "output_type": "execute_result"
    }
   ],
   "source": [
    "min(d2.values())"
   ]
  },
  {
   "cell_type": "code",
   "execution_count": 86,
   "metadata": {},
   "outputs": [
    {
     "data": {
      "text/plain": [
       "'최소 값 10을 가진 key는 F입니다'"
      ]
     },
     "execution_count": 86,
     "metadata": {},
     "output_type": "execute_result"
    }
   ],
   "source": [
    "# 출력 => 포맷팅\n",
    "x = min(d2.values())\n",
    "'최소 값 {}을 가진 key는 F입니다'.format(x)"
   ]
  },
  {
   "cell_type": "markdown",
   "metadata": {},
   "source": [
    "### 위의 딕셔너리를 출력했을 때 아래와 같이 보여지게 작성해보세요.        \n",
    "> [('A', 90), ('B', 80), ('C', 70), ('D', 20), ('E', 100), ('F', 10)]"
   ]
  },
  {
   "cell_type": "code",
   "execution_count": 81,
   "metadata": {},
   "outputs": [
    {
     "data": {
      "text/plain": [
       "{'A': 90, 'B': 80, 'C': 70, 'D': 20, 'E': 100, 'F': 10}"
      ]
     },
     "execution_count": 81,
     "metadata": {},
     "output_type": "execute_result"
    }
   ],
   "source": [
    "d2"
   ]
  },
  {
   "cell_type": "code",
   "execution_count": 83,
   "metadata": {},
   "outputs": [
    {
     "data": {
      "text/plain": [
       "dict_items"
      ]
     },
     "execution_count": 83,
     "metadata": {},
     "output_type": "execute_result"
    }
   ],
   "source": [
    "type(d2.items())"
   ]
  },
  {
   "cell_type": "code",
   "execution_count": 85,
   "metadata": {},
   "outputs": [
    {
     "data": {
      "text/plain": [
       "list"
      ]
     },
     "execution_count": 85,
     "metadata": {},
     "output_type": "execute_result"
    }
   ],
   "source": [
    "type(list(d2.items()))"
   ]
  },
  {
   "cell_type": "markdown",
   "metadata": {},
   "source": [
    "### 아래의 표를 적합한 데이터타입을 선택하여  'snack'이라는 변수로 저장하세요.\n",
    "\n",
    "<img src=\"딕셔너리문제_1.png\" width=\"250\" height=\"150\" align=\"left\"/>"
   ]
  },
  {
   "cell_type": "code",
   "execution_count": 87,
   "metadata": {},
   "outputs": [],
   "source": [
    "snack = {'마가레뜨':2000, '버터와플':2300, '다이제':2500}"
   ]
  },
  {
   "cell_type": "code",
   "execution_count": 88,
   "metadata": {},
   "outputs": [
    {
     "data": {
      "text/plain": [
       "3"
      ]
     },
     "execution_count": 88,
     "metadata": {},
     "output_type": "execute_result"
    }
   ],
   "source": [
    "len(snack)"
   ]
  },
  {
   "cell_type": "markdown",
   "metadata": {},
   "source": [
    "### 위에서 생성한 자료형에 아래 아이템을 추가하세요.\n",
    "\n",
    ">   제품명 : 꼬북칩, 가격 : 1800"
   ]
  },
  {
   "cell_type": "code",
   "execution_count": 89,
   "metadata": {},
   "outputs": [
    {
     "data": {
      "text/plain": [
       "{'마가레뜨': 2000, '버터와플': 2300, '다이제': 2500, '꼬북칩': 1800}"
      ]
     },
     "execution_count": 89,
     "metadata": {},
     "output_type": "execute_result"
    }
   ],
   "source": [
    "snack['꼬북칩'] = 1800\n",
    "snack"
   ]
  },
  {
   "cell_type": "markdown",
   "metadata": {},
   "source": [
    "### '마가레뜨'의 가격을 3000 으로 수정하세요."
   ]
  },
  {
   "cell_type": "code",
   "execution_count": 91,
   "metadata": {},
   "outputs": [
    {
     "data": {
      "text/plain": [
       "{'마가레뜨': 3000, '버터와플': 2300, '다이제': 2500, '꼬북칩': 1800}"
      ]
     },
     "execution_count": 91,
     "metadata": {},
     "output_type": "execute_result"
    }
   ],
   "source": [
    "snack['마가레뜨'] = 3000\n",
    "snack"
   ]
  },
  {
   "cell_type": "markdown",
   "metadata": {},
   "source": [
    "### '꼬북칩' 아이템을 삭제하세요."
   ]
  },
  {
   "cell_type": "code",
   "execution_count": 93,
   "metadata": {},
   "outputs": [
    {
     "data": {
      "text/plain": [
       "{'마가레뜨': 3000, '버터와플': 2300, '다이제': 2500, '꼬북칩': 0}"
      ]
     },
     "execution_count": 93,
     "metadata": {},
     "output_type": "execute_result"
    }
   ],
   "source": [
    "snack['꼬북칩'] = 0\n",
    "snack"
   ]
  },
  {
   "cell_type": "code",
   "execution_count": 94,
   "metadata": {},
   "outputs": [],
   "source": [
    "del snack['꼬북칩']"
   ]
  },
  {
   "cell_type": "code",
   "execution_count": 95,
   "metadata": {},
   "outputs": [
    {
     "data": {
      "text/plain": [
       "{'마가레뜨': 3000, '버터와플': 2300, '다이제': 2500}"
      ]
     },
     "execution_count": 95,
     "metadata": {},
     "output_type": "execute_result"
    }
   ],
   "source": [
    "snack"
   ]
  },
  {
   "cell_type": "markdown",
   "metadata": {},
   "source": [
    "### 위의 자료형에 아래 모든 아이템을 한 번에 추가하세요.\n",
    "> {'월드콘': 2500, '돼지바': 500, '빙수바': 1500, '스크류바' : 900}"
   ]
  },
  {
   "cell_type": "code",
   "execution_count": 96,
   "metadata": {},
   "outputs": [],
   "source": [
    "snack.update({'월드콘': 2500, '돼지바': 500, '빙수바': 1500, '스크류바' : 900})"
   ]
  },
  {
   "cell_type": "code",
   "execution_count": 97,
   "metadata": {},
   "outputs": [
    {
     "data": {
      "text/plain": [
       "{'마가레뜨': 3000,\n",
       " '버터와플': 2300,\n",
       " '다이제': 2500,\n",
       " '월드콘': 2500,\n",
       " '돼지바': 500,\n",
       " '빙수바': 1500,\n",
       " '스크류바': 900}"
      ]
     },
     "execution_count": 97,
     "metadata": {},
     "output_type": "execute_result"
    }
   ],
   "source": [
    "snack"
   ]
  },
  {
   "cell_type": "code",
   "execution_count": 98,
   "metadata": {},
   "outputs": [
    {
     "data": {
      "text/plain": [
       "7"
      ]
     },
     "execution_count": 98,
     "metadata": {},
     "output_type": "execute_result"
    }
   ],
   "source": [
    "len(snack)"
   ]
  },
  {
   "cell_type": "code",
   "execution_count": null,
   "metadata": {},
   "outputs": [],
   "source": [
    "# 리스트 자료형와 딕셔너리 자료형 호환가능\n",
    "# snack.update([('월드콘', 2500), ('돼지바', 1500)])"
   ]
  },
  {
   "cell_type": "markdown",
   "metadata": {},
   "source": [
    "### 모든 과자의 가격 총합과 평균 가격을 구하고 아래와 같이 출력하세요.\n",
    "\n",
    "- 결과\n",
    "> 총 가격 : 13000원 <br>\n",
    "> 평균 가격 : 1743원 (소수점 첫번째 자리에서 반올림하여 정수형으로 출력)"
   ]
  },
  {
   "cell_type": "code",
   "execution_count": 102,
   "metadata": {},
   "outputs": [],
   "source": [
    "# 총 가격\n",
    "# 가격 => 딕셔너리의 value\n",
    "total = sum(snack.values())"
   ]
  },
  {
   "cell_type": "code",
   "execution_count": 103,
   "metadata": {},
   "outputs": [
    {
     "data": {
      "text/plain": [
       "1885.7142857142858"
      ]
     },
     "execution_count": 103,
     "metadata": {},
     "output_type": "execute_result"
    }
   ],
   "source": [
    "# 평균 가격 => 총합 / 자료형길이(아이템개수)\n",
    "# 1886\n",
    "avg = total / len(snack)\n",
    "avg"
   ]
  },
  {
   "cell_type": "code",
   "execution_count": 104,
   "metadata": {},
   "outputs": [
    {
     "name": "stdout",
     "output_type": "stream",
     "text": [
      "총 가격 : 13200원\n",
      "평균 가격 : 1886원\n"
     ]
    }
   ],
   "source": [
    "print('총 가격 : %d원' % total)\n",
    "print('평균 가격 : %.0f원' % avg)"
   ]
  },
  {
   "cell_type": "code",
   "execution_count": 105,
   "metadata": {},
   "outputs": [
    {
     "name": "stdout",
     "output_type": "stream",
     "text": [
      "총 가격 : 13200원\n",
      "평균 가격 : 1886원\n"
     ]
    }
   ],
   "source": [
    "print('총 가격 : {}원'.format(total) )\n",
    "print('평균 가격 : {}원'.format(round(avg)))"
   ]
  },
  {
   "cell_type": "markdown",
   "metadata": {},
   "source": [
    "### 한 반의 학생에 대해 혈액형 별 인원 정보를 자료형에 저장한 후 이 반의 총 학생 수를 구하고 '총인원'으로 아이템을 추가하세요.\n",
    "- 정보 : A형 14명, B형 10명, AB형 18명, O형 20명"
   ]
  },
  {
   "cell_type": "code",
   "execution_count": 106,
   "metadata": {},
   "outputs": [],
   "source": [
    "class_a = {'A':14, 'B':10, 'AB':18, 'O':20}"
   ]
  },
  {
   "cell_type": "code",
   "execution_count": 109,
   "metadata": {},
   "outputs": [],
   "source": [
    "# 총인원\n",
    "# 인원 값 => value\n",
    "class_a['total'] = sum(class_a.values())"
   ]
  },
  {
   "cell_type": "code",
   "execution_count": 110,
   "metadata": {},
   "outputs": [
    {
     "data": {
      "text/plain": [
       "{'A': 14, 'B': 10, 'AB': 18, 'O': 20, 'total': 62}"
      ]
     },
     "execution_count": 110,
     "metadata": {},
     "output_type": "execute_result"
    }
   ],
   "source": [
    "class_a"
   ]
  },
  {
   "cell_type": "markdown",
   "metadata": {},
   "source": [
    "### 위의 정보에서 RH- 혈액형인 학생 3명의 정보를 추가하고 총인원도 업데이트 하세요."
   ]
  },
  {
   "cell_type": "code",
   "execution_count": 111,
   "metadata": {},
   "outputs": [],
   "source": [
    "class_a['RH-'] = 3"
   ]
  },
  {
   "cell_type": "code",
   "execution_count": 112,
   "metadata": {},
   "outputs": [
    {
     "data": {
      "text/plain": [
       "{'A': 14, 'B': 10, 'AB': 18, 'O': 20, 'total': 62, 'RH-': 3}"
      ]
     },
     "execution_count": 112,
     "metadata": {},
     "output_type": "execute_result"
    }
   ],
   "source": [
    "class_a"
   ]
  },
  {
   "cell_type": "code",
   "execution_count": 115,
   "metadata": {},
   "outputs": [
    {
     "data": {
      "text/plain": [
       "dict_values([14, 10, 18, 20, 127, 3])"
      ]
     },
     "execution_count": 115,
     "metadata": {},
     "output_type": "execute_result"
    }
   ],
   "source": [
    "class_a.values()"
   ]
  },
  {
   "cell_type": "code",
   "execution_count": 114,
   "metadata": {},
   "outputs": [
    {
     "data": {
      "text/plain": [
       "{'A': 14, 'B': 10, 'AB': 18, 'O': 20, 'total': 127, 'RH-': 3}"
      ]
     },
     "execution_count": 114,
     "metadata": {},
     "output_type": "execute_result"
    }
   ],
   "source": [
    "# total 아이템을 삭제하지 않고 값만 수정\n",
    "class_a['total'] = sum(class_a.values())\n",
    "class_a"
   ]
  },
  {
   "cell_type": "code",
   "execution_count": 120,
   "metadata": {},
   "outputs": [
    {
     "data": {
      "text/plain": [
       "[14, 10, 18, 20]"
      ]
     },
     "execution_count": 120,
     "metadata": {},
     "output_type": "execute_result"
    }
   ],
   "source": [
    "# values 값에서 추출\n",
    "list(class_a.values())[:4]"
   ]
  },
  {
   "cell_type": "code",
   "execution_count": 121,
   "metadata": {},
   "outputs": [
    {
     "data": {
      "text/plain": [
       "3"
      ]
     },
     "execution_count": 121,
     "metadata": {},
     "output_type": "execute_result"
    }
   ],
   "source": [
    "list(class_a.values())[-1]"
   ]
  },
  {
   "cell_type": "code",
   "execution_count": 126,
   "metadata": {},
   "outputs": [],
   "source": [
    "tmp1 = sum(list(class_a.values())[:4] + [list(class_a.values())[-1]])"
   ]
  },
  {
   "cell_type": "code",
   "execution_count": 127,
   "metadata": {},
   "outputs": [],
   "source": [
    "# 딕셔너리에서 추출\n",
    "# a,b,ab,o,rh-\n",
    "tmp2 = class_a['A']+class_a['B']+class_a['AB']+class_a['O']+class_a['RH-']"
   ]
  },
  {
   "cell_type": "code",
   "execution_count": 129,
   "metadata": {},
   "outputs": [],
   "source": [
    "class_a['total'] = tmp2"
   ]
  },
  {
   "cell_type": "code",
   "execution_count": 130,
   "metadata": {},
   "outputs": [
    {
     "data": {
      "text/plain": [
       "{'A': 14, 'B': 10, 'AB': 18, 'O': 20, 'total': 65, 'RH-': 3}"
      ]
     },
     "execution_count": 130,
     "metadata": {},
     "output_type": "execute_result"
    }
   ],
   "source": [
    "class_a"
   ]
  },
  {
   "cell_type": "code",
   "execution_count": 131,
   "metadata": {},
   "outputs": [
    {
     "data": {
      "text/plain": [
       "{'A': 14, 'B': 10, 'AB': 18, 'O': 20, 'RH-': 3}"
      ]
     },
     "execution_count": 131,
     "metadata": {},
     "output_type": "execute_result"
    }
   ],
   "source": [
    "# total 아이템을 삭제하고 다시 추가\n",
    "del class_a['total']\n",
    "class_a"
   ]
  },
  {
   "cell_type": "code",
   "execution_count": 132,
   "metadata": {},
   "outputs": [
    {
     "data": {
      "text/plain": [
       "{'A': 14, 'B': 10, 'AB': 18, 'O': 20, 'RH-': 3, 'total': 65}"
      ]
     },
     "execution_count": 132,
     "metadata": {},
     "output_type": "execute_result"
    }
   ],
   "source": [
    "class_a['total'] = sum(class_a.values())\n",
    "class_a"
   ]
  },
  {
   "cell_type": "markdown",
   "metadata": {},
   "source": [
    "### set\n",
    "- {} / 빈 셋타입을 생성할 때는 반드시 함수를 사용: set()\n",
    "- 중복값 제거 필터용\n",
    "- 집합 연산 : 교집합, 차집합, 합집합\n",
    "- 인덱싱 X : 아이템의 순서가 없다. => 필터링으로 사용한 후 리스트 등으로 형변환 필요"
   ]
  },
  {
   "cell_type": "code",
   "execution_count": 134,
   "metadata": {},
   "outputs": [
    {
     "data": {
      "text/plain": [
       "set"
      ]
     },
     "execution_count": 134,
     "metadata": {},
     "output_type": "execute_result"
    }
   ],
   "source": [
    "# s1 = {}\n",
    "s1 = set()\n",
    "type(s1)"
   ]
  },
  {
   "cell_type": "code",
   "execution_count": 135,
   "metadata": {},
   "outputs": [],
   "source": [
    "user_id = [1,1,1,1,1,1,1,2,3,4,5,5,6,6,6,6,7,7,7,7,7,7]"
   ]
  },
  {
   "cell_type": "code",
   "execution_count": 138,
   "metadata": {},
   "outputs": [],
   "source": [
    "s1 = set(user_id)"
   ]
  },
  {
   "cell_type": "code",
   "execution_count": 137,
   "metadata": {},
   "outputs": [],
   "source": [
    "user_id2 = [8,8,8,8,8,9,9,9,6,6,5,4,4,1,11,11]"
   ]
  },
  {
   "cell_type": "code",
   "execution_count": 139,
   "metadata": {},
   "outputs": [],
   "source": [
    "s2 = set(user_id2)"
   ]
  },
  {
   "cell_type": "code",
   "execution_count": null,
   "metadata": {},
   "outputs": [],
   "source": [
    "# 교집합\n",
    "# 연산자 : &\n",
    "# 메서드 : intersection"
   ]
  },
  {
   "cell_type": "code",
   "execution_count": 140,
   "metadata": {},
   "outputs": [
    {
     "data": {
      "text/plain": [
       "{1, 4, 5, 6}"
      ]
     },
     "execution_count": 140,
     "metadata": {},
     "output_type": "execute_result"
    }
   ],
   "source": [
    "s1 & s2"
   ]
  },
  {
   "cell_type": "code",
   "execution_count": 141,
   "metadata": {},
   "outputs": [
    {
     "data": {
      "text/plain": [
       "{1, 4, 5, 6}"
      ]
     },
     "execution_count": 141,
     "metadata": {},
     "output_type": "execute_result"
    }
   ],
   "source": [
    "s1.intersection(s2)"
   ]
  },
  {
   "cell_type": "code",
   "execution_count": null,
   "metadata": {},
   "outputs": [],
   "source": [
    "# 합집합\n",
    "# 연산자 : |\n",
    "# 메서드 : union"
   ]
  },
  {
   "cell_type": "code",
   "execution_count": 142,
   "metadata": {},
   "outputs": [
    {
     "data": {
      "text/plain": [
       "{1, 2, 3, 4, 5, 6, 7, 8, 9, 11}"
      ]
     },
     "execution_count": 142,
     "metadata": {},
     "output_type": "execute_result"
    }
   ],
   "source": [
    "s1 | s2"
   ]
  },
  {
   "cell_type": "code",
   "execution_count": 143,
   "metadata": {},
   "outputs": [
    {
     "data": {
      "text/plain": [
       "{1, 2, 3, 4, 5, 6, 7, 8, 9, 11}"
      ]
     },
     "execution_count": 143,
     "metadata": {},
     "output_type": "execute_result"
    }
   ],
   "source": [
    "s1.union(s2)"
   ]
  },
  {
   "cell_type": "code",
   "execution_count": null,
   "metadata": {},
   "outputs": [],
   "source": [
    "# 차집합\n",
    "# 연산자 : -\n",
    "# 메서드 : difference"
   ]
  },
  {
   "cell_type": "code",
   "execution_count": 144,
   "metadata": {},
   "outputs": [
    {
     "data": {
      "text/plain": [
       "{2, 3, 7}"
      ]
     },
     "execution_count": 144,
     "metadata": {},
     "output_type": "execute_result"
    }
   ],
   "source": [
    "s1 - s2"
   ]
  },
  {
   "cell_type": "code",
   "execution_count": 145,
   "metadata": {},
   "outputs": [
    {
     "data": {
      "text/plain": [
       "{8, 9, 11}"
      ]
     },
     "execution_count": 145,
     "metadata": {},
     "output_type": "execute_result"
    }
   ],
   "source": [
    "s2 - s1"
   ]
  },
  {
   "cell_type": "code",
   "execution_count": 146,
   "metadata": {},
   "outputs": [
    {
     "data": {
      "text/plain": [
       "{2, 3, 7}"
      ]
     },
     "execution_count": 146,
     "metadata": {},
     "output_type": "execute_result"
    }
   ],
   "source": [
    "s1.difference(s2)"
   ]
  },
  {
   "cell_type": "code",
   "execution_count": 147,
   "metadata": {},
   "outputs": [
    {
     "data": {
      "text/plain": [
       "{8, 9, 11}"
      ]
     },
     "execution_count": 147,
     "metadata": {},
     "output_type": "execute_result"
    }
   ],
   "source": [
    "s2.difference(s1)"
   ]
  },
  {
   "cell_type": "markdown",
   "metadata": {},
   "source": [
    "### tuple\n",
    "\n",
    "- (,) : 아이템이 하나만 있을 경우에도 쉼표를 작성해야한다.\n",
    "- 소괄호는 생략 가능\n",
    "- 아이템이 수정, 삭제 될 수 없다."
   ]
  },
  {
   "cell_type": "code",
   "execution_count": 148,
   "metadata": {},
   "outputs": [
    {
     "data": {
      "text/plain": [
       "int"
      ]
     },
     "execution_count": 148,
     "metadata": {},
     "output_type": "execute_result"
    }
   ],
   "source": [
    "type((1))"
   ]
  },
  {
   "cell_type": "code",
   "execution_count": 149,
   "metadata": {},
   "outputs": [
    {
     "data": {
      "text/plain": [
       "tuple"
      ]
     },
     "execution_count": 149,
     "metadata": {},
     "output_type": "execute_result"
    }
   ],
   "source": [
    "type((1,))"
   ]
  },
  {
   "cell_type": "code",
   "execution_count": null,
   "metadata": {},
   "outputs": [],
   "source": []
  },
  {
   "cell_type": "code",
   "execution_count": null,
   "metadata": {},
   "outputs": [],
   "source": []
  },
  {
   "cell_type": "code",
   "execution_count": null,
   "metadata": {},
   "outputs": [],
   "source": []
  },
  {
   "cell_type": "code",
   "execution_count": null,
   "metadata": {},
   "outputs": [],
   "source": []
  }
 ],
 "metadata": {
  "kernelspec": {
   "display_name": "Python 3",
   "language": "python",
   "name": "python3"
  },
  "language_info": {
   "codemirror_mode": {
    "name": "ipython",
    "version": 3
   },
   "file_extension": ".py",
   "mimetype": "text/x-python",
   "name": "python",
   "nbconvert_exporter": "python",
   "pygments_lexer": "ipython3",
   "version": "3.7.3"
  }
 },
 "nbformat": 4,
 "nbformat_minor": 2
}
