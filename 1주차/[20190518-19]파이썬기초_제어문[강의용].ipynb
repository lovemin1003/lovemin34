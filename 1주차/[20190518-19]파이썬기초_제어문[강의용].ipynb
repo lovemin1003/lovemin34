{
 "cells": [
  {
   "cell_type": "markdown",
   "metadata": {},
   "source": [
    "### 양수를 입력받고 홀수, 짝수를 판별하는 프로그램을 작성해보세요."
   ]
  },
  {
   "cell_type": "code",
   "execution_count": null,
   "metadata": {},
   "outputs": [],
   "source": [
    "# '3은 홀수입니다'\n",
    "# '4는 짝수입니다'"
   ]
  },
  {
   "cell_type": "code",
   "execution_count": 4,
   "metadata": {},
   "outputs": [
    {
     "name": "stdout",
     "output_type": "stream",
     "text": [
      "3\n"
     ]
    }
   ],
   "source": [
    "x = eval(input())"
   ]
  },
  {
   "cell_type": "code",
   "execution_count": null,
   "metadata": {},
   "outputs": [],
   "source": [
    "# 홀짝 => 숫자를 2로 나눴을 때 나머지가 0 => 짝수, 0아 아니면 => 홀수\n",
    "#  나머지가 1 => 홀수 "
   ]
  },
  {
   "cell_type": "code",
   "execution_count": null,
   "metadata": {},
   "outputs": [],
   "source": [
    "# boolean type\n",
    "# True, False\n",
    "# 숫자 : 0아닌 모든값(1), 0\n",
    "# 자료형 : 아이템이 하나라도 있는 자료형, 빈 자료형([])\n",
    "# 문자 : 아이템이 하나라도 있는 문자, 빈 문자(null string '')"
   ]
  },
  {
   "cell_type": "code",
   "execution_count": null,
   "metadata": {},
   "outputs": [],
   "source": [
    "# 연산자\n",
    "# 비교, 논리\n",
    "# >,<,>=,<=, !=, ==\n",
    "# and, or"
   ]
  },
  {
   "cell_type": "code",
   "execution_count": null,
   "metadata": {},
   "outputs": [],
   "source": [
    "# 조건문\n",
    "# if 조건식:\n",
    "#     참일 때 실행문\n",
    "# else:\n",
    "#     거짓일 때 실행문\n",
    "#      if 조건식2:\n",
    "#          참일 때 실행문\n",
    "#      else:\n",
    "#           거짓일 때 실행문     "
   ]
  },
  {
   "cell_type": "code",
   "execution_count": null,
   "metadata": {},
   "outputs": [],
   "source": [
    "# if 조건식1:\n",
    "#     조건식1이 참일 때\n",
    "# elif 조건식2:\n",
    "#     조건식1이 거짓이고 조건식2는 참일 때\n",
    "# else:\n",
    "#     조건식1, 조건식2가 모두 거짓일 때 "
   ]
  },
  {
   "cell_type": "code",
   "execution_count": null,
   "metadata": {},
   "outputs": [],
   "source": [
    "# 나머지 반환 : %\n",
    "# 몫 반환 : //"
   ]
  },
  {
   "cell_type": "code",
   "execution_count": 5,
   "metadata": {},
   "outputs": [
    {
     "name": "stdout",
     "output_type": "stream",
     "text": [
      "3는 홀수입니다.\n"
     ]
    }
   ],
   "source": [
    "if x%2 == 0:\n",
    "    # x%2 == 0인 경우 => 짝수인 경우\n",
    "    print('{}는 짝수입니다.'.format(x))\n",
    "else:  # x%2 != 0인 경우 => 홀수인 경우\n",
    "    print('{}는 홀수입니다.'.format(x))"
   ]
  },
  {
   "cell_type": "code",
   "execution_count": null,
   "metadata": {},
   "outputs": [],
   "source": [
    "# while 조건:\n",
    "#     참일 동안 반복하는 실행문"
   ]
  },
  {
   "cell_type": "code",
   "execution_count": 6,
   "metadata": {},
   "outputs": [
    {
     "name": "stdout",
     "output_type": "stream",
     "text": [
      "숫자입력-10\n",
      "양수입력-9\n",
      "양수입력-7\n",
      "양수입력0\n",
      "양수입력12\n",
      "12는 짝수입니다.\n"
     ]
    }
   ],
   "source": [
    "x = eval(input('숫자입력'))\n",
    "\n",
    "while x <= 0:\n",
    "    x = eval(input('양수입력'))\n",
    "    \n",
    "if x%2 == 0:\n",
    "# x%2 == 0인 경우 => 짝수인 경우\n",
    "    print('{}는 짝수입니다.'.format(x))\n",
    "else:  # x%2 != 0인 경우 => 홀수인 경우\n",
    "    print('{}는 홀수입니다.'.format(x))   "
   ]
  },
  {
   "cell_type": "markdown",
   "metadata": {},
   "source": [
    "### 점수를 입력 받고 아래와 같이 구간별로 학점을 매겨서 출력하세요.\n",
    "1) 점수구간\n",
    "\n",
    "    81점 ~ 100점 = A\n",
    "\n",
    "    61점 ~ 80점 = B\n",
    "\n",
    "    41점 ~ 60점 = C\n",
    "\n",
    "    ~ 40점 = Fail\n",
    "\n",
    "2) 출력방식 : ' 취득점수 : ??점 /  최종학점 : ?? '"
   ]
  },
  {
   "cell_type": "code",
   "execution_count": 8,
   "metadata": {},
   "outputs": [
    {
     "name": "stdout",
     "output_type": "stream",
     "text": [
      "점수39\n",
      "취득점수 : 39점 / 취득학점 : Fail\n"
     ]
    }
   ],
   "source": [
    "x = eval(input('점수'))\n",
    "\n",
    "if 81 <= x <= 100:\n",
    "    grade = 'A'\n",
    "elif 61 <= x <= 80:\n",
    "    grade = 'B'\n",
    "elif 41 <= x <= 60:\n",
    "    grade ='C'\n",
    "else:\n",
    "    grade = 'Fail'\n",
    "    \n",
    "print('취득점수 : {}점 / 취득학점 : {}'.format(x, grade))"
   ]
  },
  {
   "cell_type": "code",
   "execution_count": 12,
   "metadata": {},
   "outputs": [
    {
     "name": "stdout",
     "output_type": "stream",
     "text": [
      "점수40\n",
      "취득점수 : 40점 / 취득학점 : Fail\n"
     ]
    }
   ],
   "source": [
    "# 조건식으로 사용되는 기준값이 연속된 범위에 연결되서 존재하는 경우\n",
    "# 시작값을 작성하지 않아도 자동으로 설정됨\n",
    "x = eval(input('점수'))\n",
    "\n",
    "if 80 < x < 100:\n",
    "    grade = 'A'\n",
    "elif 60 < x:\n",
    "    grade = 'B'\n",
    "elif 40 < x:\n",
    "    grade ='C'\n",
    "else:\n",
    "    grade = 'Fail'\n",
    "    \n",
    "print('취득점수 : {}점 / 취득학점 : {}'.format(x, grade))"
   ]
  },
  {
   "cell_type": "markdown",
   "metadata": {},
   "source": [
    "### 주민등록번호를 입력받고 아래 조건을 충족하는 조건문&출력문을 작성하세요.\n",
    "\n",
    "1) 기호(-)까지 입력 받기\n",
    "\n",
    "2) 성별 구분 숫자를 기준으로 1 또는 3이면 '남자', 2 또는 4이면 '여자'를 출력"
   ]
  },
  {
   "cell_type": "code",
   "execution_count": 23,
   "metadata": {},
   "outputs": [
    {
     "name": "stdout",
     "output_type": "stream",
     "text": [
      "주민번호111111-1369874\n"
     ]
    }
   ],
   "source": [
    "# 성별구분숫자 => 인덱싱\n",
    "jumin_code = input('주민번호')"
   ]
  },
  {
   "cell_type": "code",
   "execution_count": 14,
   "metadata": {},
   "outputs": [
    {
     "data": {
      "text/plain": [
       "'111111-2369874'"
      ]
     },
     "execution_count": 14,
     "metadata": {},
     "output_type": "execute_result"
    }
   ],
   "source": [
    "jumin_code"
   ]
  },
  {
   "cell_type": "code",
   "execution_count": 15,
   "metadata": {},
   "outputs": [
    {
     "data": {
      "text/plain": [
       "6"
      ]
     },
     "execution_count": 15,
     "metadata": {},
     "output_type": "execute_result"
    }
   ],
   "source": [
    "jumin_code.find('-')"
   ]
  },
  {
   "cell_type": "code",
   "execution_count": 24,
   "metadata": {},
   "outputs": [],
   "source": [
    "gender_code = jumin_code[7]"
   ]
  },
  {
   "cell_type": "code",
   "execution_count": 20,
   "metadata": {},
   "outputs": [
    {
     "ename": "ValueError",
     "evalue": "invalid literal for int() with base 10: '10.3'",
     "output_type": "error",
     "traceback": [
      "\u001b[1;31m---------------------------------------------------------------------------\u001b[0m",
      "\u001b[1;31mValueError\u001b[0m                                Traceback (most recent call last)",
      "\u001b[1;32m<ipython-input-20-67b6186bb9d6>\u001b[0m in \u001b[0;36m<module>\u001b[1;34m\u001b[0m\n\u001b[0;32m      1\u001b[0m \u001b[0mint\u001b[0m\u001b[1;33m(\u001b[0m\u001b[1;36m1.3\u001b[0m\u001b[1;33m)\u001b[0m\u001b[1;33m\u001b[0m\u001b[1;33m\u001b[0m\u001b[0m\n\u001b[0;32m      2\u001b[0m \u001b[0mint\u001b[0m\u001b[1;33m(\u001b[0m\u001b[1;34m'10'\u001b[0m\u001b[1;33m)\u001b[0m\u001b[1;33m\u001b[0m\u001b[1;33m\u001b[0m\u001b[0m\n\u001b[1;32m----> 3\u001b[1;33m \u001b[0mint\u001b[0m\u001b[1;33m(\u001b[0m\u001b[1;34m'10.3'\u001b[0m\u001b[1;33m)\u001b[0m\u001b[1;33m\u001b[0m\u001b[1;33m\u001b[0m\u001b[0m\n\u001b[0m",
      "\u001b[1;31mValueError\u001b[0m: invalid literal for int() with base 10: '10.3'"
     ]
    }
   ],
   "source": [
    "int(1.3)\n",
    "int('10')\n",
    "# int('10.3')"
   ]
  },
  {
   "cell_type": "code",
   "execution_count": 21,
   "metadata": {},
   "outputs": [
    {
     "name": "stdout",
     "output_type": "stream",
     "text": [
      "여자\n"
     ]
    }
   ],
   "source": [
    "# if gender_code == '2' or gender_code == '4':\n",
    "if int(gender_code)== 2 or int(gender_code) == 4:\n",
    "    msg = '여자'\n",
    "else:\n",
    "    msg = '남자'\n",
    "    \n",
    "print(msg)"
   ]
  },
  {
   "cell_type": "code",
   "execution_count": 25,
   "metadata": {},
   "outputs": [
    {
     "name": "stdout",
     "output_type": "stream",
     "text": [
      "여자\n"
     ]
    }
   ],
   "source": [
    "if gender_code == '2' or '4':\n",
    "    msg = '여자'\n",
    "else:\n",
    "    msg = '남자'\n",
    "    \n",
    "print(msg)"
   ]
  },
  {
   "cell_type": "code",
   "execution_count": 28,
   "metadata": {},
   "outputs": [
    {
     "data": {
      "text/plain": [
       "['111111', '1369874']"
      ]
     },
     "execution_count": 28,
     "metadata": {},
     "output_type": "execute_result"
    }
   ],
   "source": [
    "tmp = jumin_code.split('-')\n",
    "tmp"
   ]
  },
  {
   "cell_type": "code",
   "execution_count": 29,
   "metadata": {},
   "outputs": [
    {
     "name": "stdout",
     "output_type": "stream",
     "text": [
      "남자\n"
     ]
    }
   ],
   "source": [
    "if tmp[1][0] == '2' or  tmp[1][0] == '4':\n",
    "    msg = '여자'\n",
    "else:\n",
    "    msg = '남자'\n",
    "    \n",
    "print(msg)"
   ]
  },
  {
   "cell_type": "code",
   "execution_count": null,
   "metadata": {},
   "outputs": [],
   "source": [
    "# 111111-2369874"
   ]
  },
  {
   "cell_type": "code",
   "execution_count": null,
   "metadata": {},
   "outputs": [],
   "source": [
    "# 기호(-) split => "
   ]
  },
  {
   "cell_type": "markdown",
   "metadata": {},
   "source": [
    "### 사용자로부터 달러, 엔, 유로, 위안 금액을 입력받은 후 이를 원으로 변환해서 출력하는 프로그램을 만들어보세요.\n",
    "\n",
    "\n",
    "< 환율 정보 >\n",
    "\n",
    "- 1 달러 = 1167 원\n",
    "\n",
    "- 1 엔 = 1.096 원\n",
    "\n",
    "- 1 유로 = 1268 원\n",
    "\n",
    "- 1 위안 = 171 원\n",
    "\n",
    "\n",
    "< 예시 >\n",
    "\n",
    "- 사용자 입력 값 : 100 엔\n",
    "\n",
    "  ( 금액과 통화명 사이에는 공백 하나를 입력해야 합니다.)\n",
    "  \n",
    "\n",
    "- 출력 : 109.60 원\n",
    "\n",
    "  ( 소수점 아래 두 자리까지 표현 )"
   ]
  },
  {
   "cell_type": "code",
   "execution_count": 30,
   "metadata": {},
   "outputs": [
    {
     "name": "stdout",
     "output_type": "stream",
     "text": [
      "100 엔\n"
     ]
    }
   ],
   "source": [
    "# 자료형을 사용하지 않는 방법\n",
    "txt = input()"
   ]
  },
  {
   "cell_type": "code",
   "execution_count": 31,
   "metadata": {},
   "outputs": [
    {
     "data": {
      "text/plain": [
       "'100 엔'"
      ]
     },
     "execution_count": 31,
     "metadata": {},
     "output_type": "execute_result"
    }
   ],
   "source": [
    "txt"
   ]
  },
  {
   "cell_type": "code",
   "execution_count": 33,
   "metadata": {},
   "outputs": [],
   "source": [
    "# split() 기본 구분자 = 공백하나\n",
    "tmp = txt.split()"
   ]
  },
  {
   "cell_type": "code",
   "execution_count": 34,
   "metadata": {},
   "outputs": [
    {
     "data": {
      "text/plain": [
       "'100'"
      ]
     },
     "execution_count": 34,
     "metadata": {},
     "output_type": "execute_result"
    }
   ],
   "source": [
    "tmp[0]"
   ]
  },
  {
   "cell_type": "code",
   "execution_count": 35,
   "metadata": {},
   "outputs": [
    {
     "data": {
      "text/plain": [
       "'엔'"
      ]
     },
     "execution_count": 35,
     "metadata": {},
     "output_type": "execute_result"
    }
   ],
   "source": [
    "tmp[1]"
   ]
  },
  {
   "cell_type": "code",
   "execution_count": null,
   "metadata": {},
   "outputs": [],
   "source": [
    "# 1 달러 = 1167 원\n",
    "# 1 엔 = 1.096 원\n",
    "# 1 유로 = 1268 원\n",
    "# 1 위안 = 171 원"
   ]
  },
  {
   "cell_type": "code",
   "execution_count": 39,
   "metadata": {},
   "outputs": [
    {
     "name": "stdout",
     "output_type": "stream",
     "text": [
      "20 유로\n",
      "25360.00원\n"
     ]
    }
   ],
   "source": [
    "txt = input()\n",
    "tmp = txt.split()\n",
    "\n",
    "if tmp[1] == '달러':\n",
    "    result = eval(tmp[0])*1167\n",
    "elif tmp[1] == '엔':\n",
    "    result = eval(tmp[0])*1.096\n",
    "elif tmp[1] == '유로':\n",
    "    result = eval(tmp[0])*1268\n",
    "else:\n",
    "    result = eval(tmp[0])*171\n",
    "    \n",
    "print('%.2f원' % result)"
   ]
  },
  {
   "cell_type": "code",
   "execution_count": 40,
   "metadata": {},
   "outputs": [
    {
     "data": {
      "text/plain": [
       "25360"
      ]
     },
     "execution_count": 40,
     "metadata": {},
     "output_type": "execute_result"
    }
   ],
   "source": [
    "1268*20"
   ]
  },
  {
   "cell_type": "code",
   "execution_count": null,
   "metadata": {},
   "outputs": [],
   "source": []
  },
  {
   "cell_type": "code",
   "execution_count": null,
   "metadata": {},
   "outputs": [],
   "source": []
  },
  {
   "cell_type": "code",
   "execution_count": null,
   "metadata": {},
   "outputs": [],
   "source": [
    "# 자료형을 사용하는 방법"
   ]
  },
  {
   "cell_type": "code",
   "execution_count": 41,
   "metadata": {},
   "outputs": [],
   "source": [
    "info = {'달러':1167, '엔':1.096, '유로':1268, '위안':171}"
   ]
  },
  {
   "cell_type": "code",
   "execution_count": 43,
   "metadata": {},
   "outputs": [
    {
     "data": {
      "text/plain": [
       "1.096"
      ]
     },
     "execution_count": 43,
     "metadata": {},
     "output_type": "execute_result"
    }
   ],
   "source": [
    "info['엔']"
   ]
  },
  {
   "cell_type": "code",
   "execution_count": 44,
   "metadata": {},
   "outputs": [
    {
     "name": "stdout",
     "output_type": "stream",
     "text": [
      "1000 달러\n",
      "1167000.00원\n"
     ]
    }
   ],
   "source": [
    "txt = input()\n",
    "tmp = txt.split()\n",
    "\n",
    "if tmp[1] == '달러':\n",
    "    result = eval(tmp[0])*info['달러']\n",
    "elif tmp[1] == '엔':\n",
    "    result = eval(tmp[0])*info['엔']\n",
    "elif tmp[1] == '유로':\n",
    "    result = eval(tmp[0])*info['유로']\n",
    "else:\n",
    "    result = eval(tmp[0])*info['위안']\n",
    "    \n",
    "print('%.2f원' % result)"
   ]
  },
  {
   "cell_type": "code",
   "execution_count": null,
   "metadata": {},
   "outputs": [],
   "source": [
    "# 제어문을 사용하지 않는 방법"
   ]
  },
  {
   "cell_type": "code",
   "execution_count": 45,
   "metadata": {},
   "outputs": [
    {
     "name": "stdout",
     "output_type": "stream",
     "text": [
      "30 위안\n"
     ]
    }
   ],
   "source": [
    "txt = input()\n",
    "tmp = txt.split()"
   ]
  },
  {
   "cell_type": "code",
   "execution_count": 54,
   "metadata": {},
   "outputs": [
    {
     "name": "stdout",
     "output_type": "stream",
     "text": [
      "100 엔\n",
      "109.60원\n"
     ]
    }
   ],
   "source": [
    "txt = input()\n",
    "tmp = txt.split()\n",
    "name = tmp[1]\n",
    "amt = eval(tmp[0])\n",
    "result = info[name]*amt\n",
    "print('%.2f원' % result)"
   ]
  },
  {
   "cell_type": "markdown",
   "metadata": {},
   "source": [
    "### 5개의 양수로 구성된 리스트를 만들고 나의 행운권이 당첨되었는지 확인해보세요. \n",
    "\n",
    "+심화) while문을 이용하여 빈 리스트를 생성하여 번호를 하나씩 입력하며 리스트에 추가하는 방법으로 실행해보세요. \n",
    "\n",
    "-------------------------------------------------------------------------\n",
    "\n",
    "- 조건1) 나의 행운권 번호 : 13\n",
    "\n",
    "- 조건2) 심화문제의 경우 숫자 5개를 모두 입력했을 때 '숫자 5개를 모두 입력하셨습니다.' 메세지를 출력해주세요.\n",
    "\n",
    "- 조건3) 당첨 여부에 따라 당첨 메세지와 꽝 메세지를 출력해주세요.\n",
    "\n"
   ]
  },
  {
   "cell_type": "code",
   "execution_count": null,
   "metadata": {},
   "outputs": [],
   "source": [
    "# 입력 값의 중복이 없다는 가정으로 리스트를 생성하세요."
   ]
  },
  {
   "cell_type": "code",
   "execution_count": 56,
   "metadata": {},
   "outputs": [
    {
     "data": {
      "text/plain": [
       "False"
      ]
     },
     "execution_count": 56,
     "metadata": {},
     "output_type": "execute_result"
    }
   ],
   "source": [
    "1 in [10,2,3]"
   ]
  },
  {
   "cell_type": "code",
   "execution_count": 60,
   "metadata": {},
   "outputs": [
    {
     "name": "stdout",
     "output_type": "stream",
     "text": [
      "숫자입력1\n",
      "숫자입력1\n",
      "숫자입력1\n",
      "숫자입력1\n",
      "숫자입력1\n",
      "5개 모두 입력하셨습니다.\n",
      "낙첨\n"
     ]
    }
   ],
   "source": [
    "# 리스트 길이가 5가 되면 아이템 추가를 중단\n",
    "#     길이가 5보다 작을 동안 아이템을 계속 추가 => while\n",
    "# 내 번호가 리스트에 잇는지 확인\n",
    "a = []\n",
    "my_num = 13\n",
    "\n",
    "while len(a) < 5:\n",
    "    num = eval(input('숫자입력'))\n",
    "    a.append(num)\n",
    "    \n",
    "print('5개 모두 입력하셨습니다.')    \n",
    "    \n",
    "if my_num in a:\n",
    "    print('당첨')\n",
    "else:\n",
    "    print('낙첨')"
   ]
  },
  {
   "cell_type": "code",
   "execution_count": 61,
   "metadata": {},
   "outputs": [
    {
     "name": "stdout",
     "output_type": "stream",
     "text": [
      "숫자입력1\n",
      "숫자입력1\n",
      "숫자입력1\n",
      "숫자입력1\n",
      "숫자입력1\n",
      "숫자입력1\n",
      "숫자입력1\n",
      "숫자입력1\n",
      "숫자입력1\n",
      "숫자입력1\n",
      "숫자입력1\n",
      "숫자입력1\n",
      "숫자입력1\n",
      "숫자입력1\n",
      "숫자입력1\n",
      "숫자입력2\n",
      "숫자입력3\n",
      "숫자입력3\n",
      "숫자입력3\n",
      "숫자입력3\n",
      "숫자입력3\n",
      "숫자입력3\n",
      "숫자입력4\n",
      "숫자입력5\n",
      "5개 모두 입력하셨습니다.\n",
      "낙첨\n"
     ]
    }
   ],
   "source": [
    "# 입력값의 중복값을 제거하기 위해서는 제어문 추가 X 리스트 => 셋\n",
    "a = set()\n",
    "my_num = 13\n",
    "\n",
    "while len(a) < 5:\n",
    "    num = eval(input('숫자입력'))\n",
    "    a.add(num)\n",
    "    \n",
    "print('5개 모두 입력하셨습니다.')    \n",
    "    \n",
    "if my_num in a:\n",
    "    print('당첨')\n",
    "else:\n",
    "    print('낙첨')"
   ]
  },
  {
   "cell_type": "markdown",
   "metadata": {},
   "source": [
    "### 입력받은 값에 +20을 더한 값을 출력하기.\n",
    "\n",
    "\n",
    "- 조건1) 입력 값의 범위는 0~255로 가정한다. \n",
    "\n",
    "\n",
    "- 조건2) 255를 초과하는 경우 255를 출력하고 0보다 작은 값이되는 경우 0을 출력해야 한다."
   ]
  },
  {
   "cell_type": "code",
   "execution_count": 3,
   "metadata": {},
   "outputs": [
    {
     "name": "stdout",
     "output_type": "stream",
     "text": [
      "-1\n",
      "0\n"
     ]
    }
   ],
   "source": [
    "# 첫번째 경우\n",
    "num = eval(input())\n",
    "\n",
    "if 0 <= num <= 255:\n",
    "    num += 20    # num = num + 20\n",
    "elif num > 255:\n",
    "    num = 255\n",
    "else:\n",
    "    num = 0\n",
    "    \n",
    "print(num)"
   ]
  },
  {
   "cell_type": "code",
   "execution_count": 4,
   "metadata": {},
   "outputs": [
    {
     "name": "stdout",
     "output_type": "stream",
     "text": [
      "0\n",
      "20\n"
     ]
    }
   ],
   "source": [
    "# 두번째 경우\n",
    "num = eval(input())\n",
    "\n",
    "if num > 255:\n",
    "    num = 255\n",
    "elif num < 0:\n",
    "    num = 0\n",
    "else:\n",
    "    num += 20\n",
    "\n",
    "print(num)"
   ]
  },
  {
   "cell_type": "markdown",
   "metadata": {},
   "source": [
    "### 점수를 입력 받아 60점 이상일 때 '합격', 60점 미만일 때 '불합격'을 출력하세요.\n",
    "단, 입력값의 조건을 100 이하의 양수로 설정하여 입력값이 음수 또는 100 보다 큰 양수일 경우 반복해서 입력받는 조건을 추가하세요.\n"
   ]
  },
  {
   "cell_type": "code",
   "execution_count": 6,
   "metadata": {},
   "outputs": [
    {
     "name": "stdout",
     "output_type": "stream",
     "text": [
      "점수입력 : 100\n",
      "합격\n"
     ]
    }
   ],
   "source": [
    "score = eval(input('점수입력 : '))\n",
    "\n",
    "while score < 0 or score > 100:\n",
    "    score = eval(input('점수입력 : '))\n",
    "\n",
    "if score >= 60:\n",
    "    print('합격')\n",
    "else:\n",
    "    print('불합격')"
   ]
  },
  {
   "cell_type": "markdown",
   "metadata": {},
   "source": [
    "### 아래와 같은 출력화면이 보이게 하는 명령어를 완성해보세요."
   ]
  },
  {
   "cell_type": "code",
   "execution_count": 11,
   "metadata": {},
   "outputs": [
    {
     "name": "stdout",
     "output_type": "stream",
     "text": [
      "숫자가 +1 증가하여 1가 되었습니다.\n",
      "숫자가 +1 증가하여 2가 되었습니다.\n",
      "숫자가 +1 증가하여 3가 되었습니다.\n",
      "숫자가 +1 증가하여 4가 되었습니다.\n",
      "숫자가 +1 증가하여 5가 되었습니다.\n",
      "숫자가 +1 증가하여 6가 되었습니다.\n",
      "숫자가 +1 증가하여 7가 되었습니다.\n",
      "숫자가 +1 증가하여 8가 되었습니다.\n",
      "숫자가 +1 증가하여 9가 되었습니다.\n",
      "숫자가 +1 증가하여 10가 되었습니다.\n",
      "숫자 10이 되었습니다.\n"
     ]
    }
   ],
   "source": [
    "num = 0\n",
    "\n",
    "while num < 10:\n",
    "    num += 1    # num = num + 1\n",
    "    print('숫자가 +1 증가하여 %d가 되었습니다.' % num)\n",
    "    \n",
    "print('숫자 %d이 되었습니다.'% num)"
   ]
  },
  {
   "cell_type": "code",
   "execution_count": 10,
   "metadata": {},
   "outputs": [
    {
     "name": "stdout",
     "output_type": "stream",
     "text": [
      "숫자가 +1 증가하여 1가 되었습니다.\n",
      "숫자가 +1 증가하여 2가 되었습니다.\n",
      "숫자가 +1 증가하여 3가 되었습니다.\n",
      "숫자가 +1 증가하여 4가 되었습니다.\n",
      "숫자가 +1 증가하여 5가 되었습니다.\n",
      "숫자가 +1 증가하여 6가 되었습니다.\n",
      "숫자가 +1 증가하여 7가 되었습니다.\n",
      "숫자가 +1 증가하여 8가 되었습니다.\n",
      "숫자가 +1 증가하여 9가 되었습니다.\n",
      "숫자 10이 되었습니다.\n"
     ]
    }
   ],
   "source": [
    "num = 1\n",
    "\n",
    "while num < 10:\n",
    "#     num = 1\n",
    "    print('숫자가 +1 증가하여 %d가 되었습니다.' % num)\n",
    "    num += 1   \n",
    "    \n",
    "print('숫자 %d이 되었습니다.'% num)"
   ]
  },
  {
   "cell_type": "code",
   "execution_count": 2,
   "metadata": {},
   "outputs": [
    {
     "name": "stdout",
     "output_type": "stream",
     "text": [
      "숫자가 +1 증가하여 1가 되었습니다.\n",
      "숫자가 +1 증가하여 2가 되었습니다.\n",
      "숫자가 +1 증가하여 3가 되었습니다.\n",
      "숫자가 +1 증가하여 4가 되었습니다.\n",
      "숫자가 +1 증가하여 5가 되었습니다.\n",
      "숫자가 +1 증가하여 6가 되었습니다.\n",
      "숫자가 +1 증가하여 7가 되었습니다.\n",
      "숫자가 +1 증가하여 8가 되었습니다.\n",
      "숫자가 +1 증가하여 9가 되었습니다.\n",
      "숫자가 +1 증가하여 10가 되었습니다.\n",
      "숫자가 10이 되었습니다.\n"
     ]
    }
   ],
   "source": [
    "# 반복 : 초기값(값, 초기값 선언위치), 반복조건(조건식, 반복실행문 위치), 반복종료값"
   ]
  },
  {
   "cell_type": "markdown",
   "metadata": {},
   "source": [
    "### 무한루프를 사용하여 다음 조건을 만족하는 반복문을 작성하세요.\n",
    "\n",
    "- 무한루프 : while문에서 조건식을 작성하지 않고 무조건, 무한히 반복을 실행하는 반복문\n",
    "    - 조건식 대신 True 입력 (while True : ~~)\n",
    "\n",
    "- 조건1. 용돈이 될 숫자를 입력 받으세요. ( 간단한 실행을 위해 300~500 정도의 숫자를 입력 )\n",
    "\n",
    "\n",
    "- 조건2. 과자를 사먹는데 한 번 과자를 사먹는데 돈이 100씩 감소하고 '과자를 사먹습니다' 와 '남은 돈은 OO입니다.'를 차례로 출력합니다.\n",
    "\n",
    "\n",
    "- 조건3. 돈이 없으면 '돈을 다 썼습니다.'를 출력하고 반복문을 종료하세요.\n"
   ]
  },
  {
   "cell_type": "code",
   "execution_count": 12,
   "metadata": {},
   "outputs": [
    {
     "name": "stdout",
     "output_type": "stream",
     "text": [
      "용돈입력:400\n",
      "과자를 사먹습니다.\n",
      "남은 돈은 300입니다.\n",
      "과자를 사먹습니다.\n",
      "남은 돈은 200입니다.\n",
      "과자를 사먹습니다.\n",
      "남은 돈은 100입니다.\n",
      "과자를 사먹습니다.\n",
      "남은 돈은 0입니다.\n",
      "돈을 다 썼습니다.\n"
     ]
    }
   ],
   "source": [
    "money = eval(input('용돈입력:'))\n",
    "\n",
    "while True:\n",
    "    # 과자 사먹기 : 돈이 100 감소\n",
    "    print('과자를 사먹습니다.')\n",
    "    money -= 100  # money = money - 100\n",
    "    print('남은 돈은 {}입니다.'.format(money))\n",
    "    if money == 0:\n",
    "        print('돈을 다 썼습니다.')\n",
    "        break\n",
    "        \n",
    "# print('돈을 다 썼습니다.')"
   ]
  },
  {
   "cell_type": "code",
   "execution_count": 13,
   "metadata": {},
   "outputs": [
    {
     "name": "stdout",
     "output_type": "stream",
     "text": [
      "용돈입력:200\n",
      "과자를 사먹습니다.\n",
      "남은 돈은 100입니다.\n",
      "과자를 사먹습니다.\n",
      "남은 돈은 0입니다.\n",
      "돈을 다 썼습니다.\n"
     ]
    }
   ],
   "source": [
    "money = eval(input('용돈입력:'))\n",
    "\n",
    "while True:\n",
    "    # 과자 사먹기 : 돈이 100 감소\n",
    "    print('과자를 사먹습니다.')\n",
    "    money -= 100  # money = money - 100\n",
    "    print('남은 돈은 {}입니다.'.format(money))\n",
    "    if not money:\n",
    "        print('돈을 다 썼습니다.')\n",
    "        break\n",
    "        \n",
    "# print('돈을 다 썼습니다.')"
   ]
  },
  {
   "cell_type": "markdown",
   "metadata": {},
   "source": [
    "### 학생들의 점수를 나타내는 리스트에서 50점 이상의 점수들의 총합을 출력한다.\n",
    "- 조건1. while반복문 사용\n",
    "- 조건2. 리스트의 아이템에 하나씩 접근하는 것은 pop 메서드를 사용한다."
   ]
  },
  {
   "cell_type": "code",
   "execution_count": 20,
   "metadata": {},
   "outputs": [],
   "source": [
    "score_list = [10,20,50,60]\n",
    "# 110"
   ]
  },
  {
   "cell_type": "code",
   "execution_count": 18,
   "metadata": {},
   "outputs": [
    {
     "data": {
      "text/plain": [
       "60"
      ]
     },
     "execution_count": 18,
     "metadata": {},
     "output_type": "execute_result"
    }
   ],
   "source": [
    "score_list.pop()"
   ]
  },
  {
   "cell_type": "code",
   "execution_count": 19,
   "metadata": {},
   "outputs": [
    {
     "data": {
      "text/plain": [
       "[10, 20, 50]"
      ]
     },
     "execution_count": 19,
     "metadata": {},
     "output_type": "execute_result"
    }
   ],
   "source": [
    "score_list"
   ]
  },
  {
   "cell_type": "code",
   "execution_count": null,
   "metadata": {},
   "outputs": [],
   "source": [
    "total = 0\n",
    "\n",
    "# 리스트 길이 = 0 \n",
    "while len(score_list) > 0:   # len(score_list)\n",
    "    score = score_list.pop()\n",
    "    if score >= 50:\n",
    "        total += score    # total = total + score"
   ]
  },
  {
   "cell_type": "code",
   "execution_count": null,
   "metadata": {},
   "outputs": [],
   "source": [
    "total = 0\n",
    "\n",
    "# 리스트가 빈 리스트가 될 때\n",
    "while score_list:   \n",
    "    score = score_list.pop()\n",
    "    if score >= 50:\n",
    "        total += score    # total = total + score"
   ]
  },
  {
   "cell_type": "markdown",
   "metadata": {},
   "source": [
    "### 학생들의 점수를 나타내는 리스트에서 아래의 구간으로 학점을 매기고, 각 학점별로 몇 명이 있는지를 적합한 데이터 타입으로 저장하세요.\n",
    "\n",
    "- 점수구간\n",
    "\n",
    "    81점 ~ 100점 = A\n",
    "\n",
    "    61점 ~ 80점 = B\n",
    "\n",
    "    41점 ~ 60점 = C\n",
    "\n",
    "    ~ 40점 = Fail"
   ]
  },
  {
   "cell_type": "code",
   "execution_count": 21,
   "metadata": {},
   "outputs": [],
   "source": [
    "# 자료형\n",
    "# 학점별로 점수를 개별 리스트로 저장\n",
    "# 리스트를 활용하여 학점별 학생 수를 구하고 딕셔너리타입으로 저장\n",
    "scores = [90, 89, 83, 61, 69, 77, 75, 64, 45, 56, 50, 10, 20]"
   ]
  },
  {
   "cell_type": "code",
   "execution_count": 23,
   "metadata": {},
   "outputs": [],
   "source": [
    "# 자료형의 아이템에 직접 접근할 수 있는 반복문\n",
    "a = []\n",
    "b = []\n",
    "c = []\n",
    "f = []\n",
    "\n",
    "for score in scores:\n",
    "    if score > 80:\n",
    "        a.append(score)\n",
    "    elif score > 60:\n",
    "        b.append(score)\n",
    "    elif score > 40:\n",
    "        c.append(score)\n",
    "    else:\n",
    "        f.append(score)    "
   ]
  },
  {
   "cell_type": "code",
   "execution_count": 24,
   "metadata": {},
   "outputs": [
    {
     "data": {
      "text/plain": [
       "([90, 89, 83], [61, 69, 77, 75, 64], [45, 56, 50], [10, 20])"
      ]
     },
     "execution_count": 24,
     "metadata": {},
     "output_type": "execute_result"
    }
   ],
   "source": [
    "a,b,c,f"
   ]
  },
  {
   "cell_type": "code",
   "execution_count": 25,
   "metadata": {},
   "outputs": [
    {
     "data": {
      "text/plain": [
       "{'A': 3, 'B': 5, 'C': 3, 'Fail': 2}"
      ]
     },
     "execution_count": 25,
     "metadata": {},
     "output_type": "execute_result"
    }
   ],
   "source": [
    "result = {'A':len(a), 'B':len(b), 'C':len(c),'Fail':len(f)}\n",
    "result"
   ]
  },
  {
   "cell_type": "code",
   "execution_count": 26,
   "metadata": {},
   "outputs": [],
   "source": [
    "# 자료형을 사용하지 않은 방법\n",
    "a = 0\n",
    "b = 0\n",
    "c = 0\n",
    "f = 0\n",
    "\n",
    "for score in scores:\n",
    "    if score > 80:\n",
    "        a += 1\n",
    "    elif score > 60:\n",
    "        b += 1\n",
    "    elif score > 40:\n",
    "        c += 1\n",
    "    else:\n",
    "        f += 1"
   ]
  },
  {
   "cell_type": "code",
   "execution_count": 27,
   "metadata": {},
   "outputs": [
    {
     "data": {
      "text/plain": [
       "(3, 5, 3, 2)"
      ]
     },
     "execution_count": 27,
     "metadata": {},
     "output_type": "execute_result"
    }
   ],
   "source": [
    "a,b,c,f"
   ]
  },
  {
   "cell_type": "markdown",
   "metadata": {},
   "source": [
    "### 아래와 같이 학생들의 점수가 저장된 리스트를 생성하고 각 학생의 합격 여부를 확인하세요.\n",
    "\n",
    "\n",
    "조건1. 점수가 60점 이상일 때 합격, 미만일 때 불합격\n",
    "\n",
    "조건2. 출력양식 = '1번 학생은 (합격)입니다.'\n",
    "\n",
    "▶ 기본. 학생의 번호를 변수를 이용해서 생성\n",
    "\n",
    "▶ 응용. 학생의 번호는 range 함수를 이용해서 생성\n",
    "\n",
    "▶ 소개해줄 내용: 내장함수를 이용해서 생성"
   ]
  },
  {
   "cell_type": "code",
   "execution_count": 28,
   "metadata": {},
   "outputs": [],
   "source": [
    "score_list = [90, 45, 77, 61, 50, 40]"
   ]
  },
  {
   "cell_type": "code",
   "execution_count": 32,
   "metadata": {},
   "outputs": [
    {
     "name": "stdout",
     "output_type": "stream",
     "text": [
      "1번 학생은 90, 합격\n",
      "2번 학생은 45, 불합격\n",
      "3번 학생은 77, 합격\n",
      "4번 학생은 61, 합격\n",
      "5번 학생은 50, 불합격\n",
      "6번 학생은 40, 불합격\n"
     ]
    }
   ],
   "source": [
    "# 변수를 이용해서 번호 생성\n",
    "no = 1\n",
    "# no = 0\n",
    "for score in score_list:\n",
    "#     no += 1\n",
    "    if score >= 60:\n",
    "        print('{}번 학생은 {}, 합격'.format(no, score))\n",
    "    else:\n",
    "        print('{}번 학생은 {}, 불합격'.format(no, score))\n",
    "    no += 1"
   ]
  },
  {
   "cell_type": "code",
   "execution_count": 35,
   "metadata": {},
   "outputs": [
    {
     "name": "stdout",
     "output_type": "stream",
     "text": [
      "1\n",
      "2\n",
      "3\n",
      "4\n"
     ]
    }
   ],
   "source": [
    "# range함수를 이용해서 학생 번호 생성\n",
    "for i in range(5):\n",
    "    print(i)"
   ]
  },
  {
   "cell_type": "code",
   "execution_count": 36,
   "metadata": {},
   "outputs": [
    {
     "data": {
      "text/plain": [
       "[90, 45, 77, 61, 50, 40]"
      ]
     },
     "execution_count": 36,
     "metadata": {},
     "output_type": "execute_result"
    }
   ],
   "source": [
    "score_list"
   ]
  },
  {
   "cell_type": "code",
   "execution_count": 43,
   "metadata": {},
   "outputs": [
    {
     "name": "stdout",
     "output_type": "stream",
     "text": [
      "1번 학생은 90, 합격\n",
      "2번 학생은 45, 불합격\n",
      "3번 학생은 77, 합격\n",
      "4번 학생은 61, 합격\n",
      "5번 학생은 50, 불합격\n",
      "6번 학생은 40, 불합격\n"
     ]
    }
   ],
   "source": [
    "for i in range(len(score_list)):\n",
    "#     print(i, score_list[i])\n",
    "    if score_list[i] >= 60:\n",
    "        print('{}번 학생은 {}, 합격'.format(i+1, score_list[i]))\n",
    "    else:\n",
    "        print('{}번 학생은 {}, 불합격'.format(i+1, score_list[i]))"
   ]
  },
  {
   "cell_type": "code",
   "execution_count": 45,
   "metadata": {},
   "outputs": [
    {
     "name": "stdout",
     "output_type": "stream",
     "text": [
      "(0, 10)\n",
      "(1, 20)\n",
      "(2, 30)\n"
     ]
    }
   ],
   "source": [
    "# enumerate() : 리스트의 아이템을 직접 접근하면서 인덱스 번호를 함께 생성할 수 있는 함수\n",
    "for i in enumerate([10,20,30]):\n",
    "    print(i)"
   ]
  },
  {
   "cell_type": "code",
   "execution_count": 48,
   "metadata": {},
   "outputs": [
    {
     "name": "stdout",
     "output_type": "stream",
     "text": [
      "1 10\n",
      "2 20\n",
      "3 30\n"
     ]
    }
   ],
   "source": [
    "for idx, value in enumerate([10,20,30], 1):\n",
    "    print(idx, value)"
   ]
  },
  {
   "cell_type": "code",
   "execution_count": 49,
   "metadata": {},
   "outputs": [
    {
     "data": {
      "text/plain": [
       "[90, 45, 77, 61, 50, 40]"
      ]
     },
     "execution_count": 49,
     "metadata": {},
     "output_type": "execute_result"
    }
   ],
   "source": [
    "score_list"
   ]
  },
  {
   "cell_type": "code",
   "execution_count": 52,
   "metadata": {},
   "outputs": [
    {
     "name": "stdout",
     "output_type": "stream",
     "text": [
      "1번 학생은 90, 합격\n",
      "2번 학생은 45, 불합격\n",
      "3번 학생은 77, 합격\n",
      "4번 학생은 61, 합격\n",
      "5번 학생은 50, 불합격\n",
      "6번 학생은 40, 불합격\n"
     ]
    }
   ],
   "source": [
    "for no, score in enumerate(score_list, 1):\n",
    "    if score >= 60:\n",
    "        print('{}번 학생은 {}, 합격'.format(no, score))\n",
    "    else:\n",
    "        print('{}번 학생은 {}, 불합격'.format(no, score))        "
   ]
  },
  {
   "cell_type": "markdown",
   "metadata": {},
   "source": [
    "### 구구단을 출력하는 프로그램을 작성해보세요."
   ]
  },
  {
   "cell_type": "code",
   "execution_count": 57,
   "metadata": {
    "collapsed": true
   },
   "outputs": [
    {
     "name": "stdout",
     "output_type": "stream",
     "text": [
      "2*1=2  2*2=4  2*3=6  2*4=8  2*5=10  2*6=12  2*7=14  2*8=16  2*9=18  \n",
      "\n",
      "3*1=3  3*2=6  3*3=9  3*4=12  3*5=15  3*6=18  3*7=21  3*8=24  3*9=27  \n",
      "\n",
      "4*1=4  4*2=8  4*3=12  4*4=16  4*5=20  4*6=24  4*7=28  4*8=32  4*9=36  \n",
      "\n",
      "5*1=5  5*2=10  5*3=15  5*4=20  5*5=25  5*6=30  5*7=35  5*8=40  5*9=45  \n",
      "\n",
      "6*1=6  6*2=12  6*3=18  6*4=24  6*5=30  6*6=36  6*7=42  6*8=48  6*9=54  \n",
      "\n",
      "7*1=7  7*2=14  7*3=21  7*4=28  7*5=35  7*6=42  7*7=49  7*8=56  7*9=63  \n",
      "\n",
      "8*1=8  8*2=16  8*3=24  8*4=32  8*5=40  8*6=48  8*7=56  8*8=64  8*9=72  \n",
      "\n",
      "9*1=9  9*2=18  9*3=27  9*4=36  9*5=45  9*6=54  9*7=63  9*8=72  9*9=81  \n",
      "\n"
     ]
    }
   ],
   "source": [
    "for x in range(2,10):\n",
    "    for y in range(1,10):\n",
    "        print('{}*{}={}'.format(x,y,x*y), end='  ')\n",
    "        \n",
    "    print()\n",
    "    print()"
   ]
  },
  {
   "cell_type": "markdown",
   "metadata": {},
   "source": [
    "### 1부터 20까지의 숫자가 저장된 리스트를 생성하고 홀수/짝수를 분리하여 저장한 새로운 리스트 2개를 출력해보세요.\n",
    "\n",
    "\n",
    "- 조건. 1~20의 숫자는 타이핑하여 생성하지 않는다."
   ]
  },
  {
   "cell_type": "code",
   "execution_count": 59,
   "metadata": {},
   "outputs": [
    {
     "name": "stdout",
     "output_type": "stream",
     "text": [
      "[2, 4, 6, 8, 10, 12, 14, 16, 18, 20] [1, 3, 5, 7, 9, 11, 13, 15, 17, 19]\n"
     ]
    },
    {
     "data": {
      "text/plain": [
       "{'even': [2, 4, 6, 8, 10, 12, 14, 16, 18, 20],\n",
       " 'odd': [1, 3, 5, 7, 9, 11, 13, 15, 17, 19]}"
      ]
     },
     "execution_count": 59,
     "metadata": {},
     "output_type": "execute_result"
    }
   ],
   "source": [
    "even = []\n",
    "odd = []\n",
    "\n",
    "for i in list(range(1, 21)):\n",
    "    if i%2 == 0:\n",
    "        even.append(i)\n",
    "    else:\n",
    "        odd.append(i)\n",
    "        \n",
    "print(even, odd)\n",
    "result = {'even' : even, 'odd':odd}\n",
    "result"
   ]
  },
  {
   "cell_type": "code",
   "execution_count": null,
   "metadata": {},
   "outputs": [],
   "source": []
  },
  {
   "cell_type": "markdown",
   "metadata": {},
   "source": [
    "### 아래 문자열에서 리스트에 저장된 모음이 있다면 모두  #로 바꿔보세요.\n",
    "\n",
    "A = 'Life is short, you need python'\n",
    "\n",
    "a = ['a','e','i','o','u']\n"
   ]
  },
  {
   "cell_type": "code",
   "execution_count": 76,
   "metadata": {},
   "outputs": [],
   "source": [
    "# replace()\n",
    "txt = 'Life is short, you need python'"
   ]
  },
  {
   "cell_type": "code",
   "execution_count": 67,
   "metadata": {},
   "outputs": [
    {
     "data": {
      "text/plain": [
       "['a', 'e', 'i', 'o', 'u']"
      ]
     },
     "execution_count": 67,
     "metadata": {},
     "output_type": "execute_result"
    }
   ],
   "source": [
    "con = ['a','e','i','o', 'u']\n",
    "con = list('aeiou')\n",
    "con"
   ]
  },
  {
   "cell_type": "code",
   "execution_count": 65,
   "metadata": {},
   "outputs": [],
   "source": [
    "txt2 = txt.replace('a', '#')\n",
    "txt2 = txt2.replace('e', '#')\n",
    "txt2 = txt2.replace('i', '#')\n",
    "txt2 = txt2.replace('o', '#')\n",
    "txt2 = txt2.replace('u', '#')"
   ]
  },
  {
   "cell_type": "code",
   "execution_count": 66,
   "metadata": {},
   "outputs": [
    {
     "data": {
      "text/plain": [
       "'L#f# #s sh#rt, y## n##d pyth#n'"
      ]
     },
     "execution_count": 66,
     "metadata": {},
     "output_type": "execute_result"
    }
   ],
   "source": [
    "txt2"
   ]
  },
  {
   "cell_type": "code",
   "execution_count": 69,
   "metadata": {},
   "outputs": [
    {
     "data": {
      "text/plain": [
       "'Life is short, you need python'"
      ]
     },
     "execution_count": 69,
     "metadata": {},
     "output_type": "execute_result"
    }
   ],
   "source": [
    "txt"
   ]
  },
  {
   "cell_type": "code",
   "execution_count": 72,
   "metadata": {},
   "outputs": [
    {
     "data": {
      "text/plain": [
       "['a', 'e', 'i', 'o', 'u']"
      ]
     },
     "execution_count": 72,
     "metadata": {},
     "output_type": "execute_result"
    }
   ],
   "source": [
    "con"
   ]
  },
  {
   "cell_type": "code",
   "execution_count": 73,
   "metadata": {},
   "outputs": [],
   "source": [
    "mark = ['#', '$','%','&','*']"
   ]
  },
  {
   "cell_type": "code",
   "execution_count": 77,
   "metadata": {},
   "outputs": [
    {
     "data": {
      "text/plain": [
       "'Life is short, you need python'"
      ]
     },
     "execution_count": 77,
     "metadata": {},
     "output_type": "execute_result"
    }
   ],
   "source": [
    "txt"
   ]
  },
  {
   "cell_type": "code",
   "execution_count": 78,
   "metadata": {},
   "outputs": [],
   "source": [
    "for mo, ma in zip(con, mark):\n",
    "    txt = txt.replace(mo, ma)"
   ]
  },
  {
   "cell_type": "code",
   "execution_count": 79,
   "metadata": {},
   "outputs": [
    {
     "data": {
      "text/plain": [
       "'L%f$ %s sh&rt, y&* n$$d pyth&n'"
      ]
     },
     "execution_count": 79,
     "metadata": {},
     "output_type": "execute_result"
    }
   ],
   "source": [
    "txt"
   ]
  },
  {
   "cell_type": "code",
   "execution_count": 70,
   "metadata": {},
   "outputs": [],
   "source": [
    "for i in con:\n",
    "    txt = txt.replace(i, '#')"
   ]
  },
  {
   "cell_type": "code",
   "execution_count": 71,
   "metadata": {},
   "outputs": [
    {
     "data": {
      "text/plain": [
       "'L#f# #s sh#rt, y## n##d pyth#n'"
      ]
     },
     "execution_count": 71,
     "metadata": {},
     "output_type": "execute_result"
    }
   ],
   "source": [
    "txt"
   ]
  },
  {
   "cell_type": "code",
   "execution_count": null,
   "metadata": {},
   "outputs": [],
   "source": [
    "txt = 'Life is short, you need python'\n",
    "con = ['a','e','i','o', 'u']\n",
    "\n"
   ]
  },
  {
   "cell_type": "code",
   "execution_count": null,
   "metadata": {},
   "outputs": [],
   "source": []
  },
  {
   "cell_type": "code",
   "execution_count": null,
   "metadata": {},
   "outputs": [],
   "source": []
  },
  {
   "cell_type": "code",
   "execution_count": null,
   "metadata": {},
   "outputs": [],
   "source": []
  },
  {
   "cell_type": "code",
   "execution_count": null,
   "metadata": {},
   "outputs": [],
   "source": []
  }
 ],
 "metadata": {
  "kernelspec": {
   "display_name": "Python 3",
   "language": "python",
   "name": "python3"
  },
  "language_info": {
   "codemirror_mode": {
    "name": "ipython",
    "version": 3
   },
   "file_extension": ".py",
   "mimetype": "text/x-python",
   "name": "python",
   "nbconvert_exporter": "python",
   "pygments_lexer": "ipython3",
   "version": "3.7.3"
  }
 },
 "nbformat": 4,
 "nbformat_minor": 2
}
