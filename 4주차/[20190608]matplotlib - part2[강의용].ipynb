{
 "cells": [
  {
   "cell_type": "code",
   "execution_count": 1,
   "metadata": {},
   "outputs": [],
   "source": [
    "# 라이브러리\n",
    "# 데이터 처리 및 가공을 위한 라이브러리 => pandas\n",
    "# 수학 연산 및 배열 객체 가공을 위한 라이브러리 => numpy\n",
    "# 시각화 라이브러리 => matplotlib\n",
    "# 시각화 중 이미지 생성 모듈 => matplotlib.pyplot\n",
    "import pandas as pd\n",
    "import numpy as np\n",
    "import matplotlib\n",
    "import matplotlib.pyplot as plt"
   ]
  },
  {
   "cell_type": "markdown",
   "metadata": {},
   "source": [
    "### df.plot()\n",
    "\n",
    "- Pandas 데이터타입의 plot 메서드는 matplotlib를 내부에서 임포트하여 사용\n",
    "- plot 메서드 차트 종류 : kind 파라미터 값으로 전달\n",
    "    - line(기본)\n",
    "    - bar\n",
    "    - pie\n",
    "    - hist\n",
    "    - box\n",
    "    - scatter"
   ]
  },
  {
   "cell_type": "code",
   "execution_count": 2,
   "metadata": {},
   "outputs": [
    {
     "data": {
      "text/plain": [
       "(100, 3)"
      ]
     },
     "execution_count": 2,
     "metadata": {},
     "output_type": "execute_result"
    }
   ],
   "source": [
    "# 주가 데이터와 유사한 흐름을 보이는 샘플 생성\n",
    "# value : 표준정규분포에서 100x3 구조의 샘플\n",
    "# 컬럼 : A, B, C\n",
    "# 인덱스 : 날짜(2018-01-01부터 100일)\n",
    "data = np.random.randn(100, 3)\n",
    "data.shape"
   ]
  },
  {
   "cell_type": "code",
   "execution_count": 8,
   "metadata": {
    "collapsed": true
   },
   "outputs": [
    {
     "data": {
      "text/html": [
       "<div>\n",
       "<style scoped>\n",
       "    .dataframe tbody tr th:only-of-type {\n",
       "        vertical-align: middle;\n",
       "    }\n",
       "\n",
       "    .dataframe tbody tr th {\n",
       "        vertical-align: top;\n",
       "    }\n",
       "\n",
       "    .dataframe thead th {\n",
       "        text-align: right;\n",
       "    }\n",
       "</style>\n",
       "<table border=\"1\" class=\"dataframe\">\n",
       "  <thead>\n",
       "    <tr style=\"text-align: right;\">\n",
       "      <th></th>\n",
       "      <th>A</th>\n",
       "      <th>B</th>\n",
       "      <th>C</th>\n",
       "    </tr>\n",
       "  </thead>\n",
       "  <tbody>\n",
       "    <tr>\n",
       "      <th>2018-01-01</th>\n",
       "      <td>-0.671252</td>\n",
       "      <td>-0.477536</td>\n",
       "      <td>-0.578729</td>\n",
       "    </tr>\n",
       "    <tr>\n",
       "      <th>2018-01-02</th>\n",
       "      <td>0.642491</td>\n",
       "      <td>-0.644268</td>\n",
       "      <td>-1.750704</td>\n",
       "    </tr>\n",
       "    <tr>\n",
       "      <th>2018-01-03</th>\n",
       "      <td>-0.765222</td>\n",
       "      <td>0.129705</td>\n",
       "      <td>-2.232769</td>\n",
       "    </tr>\n",
       "    <tr>\n",
       "      <th>2018-01-04</th>\n",
       "      <td>-2.252108</td>\n",
       "      <td>1.883626</td>\n",
       "      <td>-3.167262</td>\n",
       "    </tr>\n",
       "    <tr>\n",
       "      <th>2018-01-05</th>\n",
       "      <td>-3.218727</td>\n",
       "      <td>1.005550</td>\n",
       "      <td>-2.438347</td>\n",
       "    </tr>\n",
       "    <tr>\n",
       "      <th>2018-01-06</th>\n",
       "      <td>-3.629375</td>\n",
       "      <td>0.434749</td>\n",
       "      <td>-2.499418</td>\n",
       "    </tr>\n",
       "    <tr>\n",
       "      <th>2018-01-07</th>\n",
       "      <td>-4.235182</td>\n",
       "      <td>1.003464</td>\n",
       "      <td>-1.953671</td>\n",
       "    </tr>\n",
       "    <tr>\n",
       "      <th>2018-01-08</th>\n",
       "      <td>-2.695371</td>\n",
       "      <td>1.331095</td>\n",
       "      <td>-1.560747</td>\n",
       "    </tr>\n",
       "    <tr>\n",
       "      <th>2018-01-09</th>\n",
       "      <td>-4.196602</td>\n",
       "      <td>2.528404</td>\n",
       "      <td>-2.793944</td>\n",
       "    </tr>\n",
       "    <tr>\n",
       "      <th>2018-01-10</th>\n",
       "      <td>-3.135209</td>\n",
       "      <td>2.164965</td>\n",
       "      <td>-2.784911</td>\n",
       "    </tr>\n",
       "    <tr>\n",
       "      <th>2018-01-11</th>\n",
       "      <td>-4.766633</td>\n",
       "      <td>1.124678</td>\n",
       "      <td>-1.903510</td>\n",
       "    </tr>\n",
       "    <tr>\n",
       "      <th>2018-01-12</th>\n",
       "      <td>-4.234360</td>\n",
       "      <td>0.790556</td>\n",
       "      <td>-2.091766</td>\n",
       "    </tr>\n",
       "    <tr>\n",
       "      <th>2018-01-13</th>\n",
       "      <td>-4.816799</td>\n",
       "      <td>0.310948</td>\n",
       "      <td>-2.474500</td>\n",
       "    </tr>\n",
       "    <tr>\n",
       "      <th>2018-01-14</th>\n",
       "      <td>-5.167824</td>\n",
       "      <td>0.918772</td>\n",
       "      <td>-2.484750</td>\n",
       "    </tr>\n",
       "    <tr>\n",
       "      <th>2018-01-15</th>\n",
       "      <td>-3.939065</td>\n",
       "      <td>0.001298</td>\n",
       "      <td>-2.375967</td>\n",
       "    </tr>\n",
       "    <tr>\n",
       "      <th>2018-01-16</th>\n",
       "      <td>-2.938126</td>\n",
       "      <td>-0.188252</td>\n",
       "      <td>-1.904795</td>\n",
       "    </tr>\n",
       "    <tr>\n",
       "      <th>2018-01-17</th>\n",
       "      <td>-4.010135</td>\n",
       "      <td>-0.833053</td>\n",
       "      <td>-1.271756</td>\n",
       "    </tr>\n",
       "    <tr>\n",
       "      <th>2018-01-18</th>\n",
       "      <td>-5.235263</td>\n",
       "      <td>-0.105527</td>\n",
       "      <td>-0.154737</td>\n",
       "    </tr>\n",
       "    <tr>\n",
       "      <th>2018-01-19</th>\n",
       "      <td>-4.840385</td>\n",
       "      <td>-0.219371</td>\n",
       "      <td>-2.045431</td>\n",
       "    </tr>\n",
       "    <tr>\n",
       "      <th>2018-01-20</th>\n",
       "      <td>-4.682037</td>\n",
       "      <td>0.471623</td>\n",
       "      <td>-2.692928</td>\n",
       "    </tr>\n",
       "    <tr>\n",
       "      <th>2018-01-21</th>\n",
       "      <td>-4.655451</td>\n",
       "      <td>2.215519</td>\n",
       "      <td>-2.242717</td>\n",
       "    </tr>\n",
       "    <tr>\n",
       "      <th>2018-01-22</th>\n",
       "      <td>-4.740381</td>\n",
       "      <td>0.694220</td>\n",
       "      <td>-1.244209</td>\n",
       "    </tr>\n",
       "    <tr>\n",
       "      <th>2018-01-23</th>\n",
       "      <td>-2.915642</td>\n",
       "      <td>-0.303292</td>\n",
       "      <td>-1.588296</td>\n",
       "    </tr>\n",
       "    <tr>\n",
       "      <th>2018-01-24</th>\n",
       "      <td>-3.595580</td>\n",
       "      <td>0.644317</td>\n",
       "      <td>-0.282446</td>\n",
       "    </tr>\n",
       "    <tr>\n",
       "      <th>2018-01-25</th>\n",
       "      <td>-2.811460</td>\n",
       "      <td>0.470765</td>\n",
       "      <td>0.707924</td>\n",
       "    </tr>\n",
       "    <tr>\n",
       "      <th>2018-01-26</th>\n",
       "      <td>-2.872141</td>\n",
       "      <td>1.047108</td>\n",
       "      <td>-0.354654</td>\n",
       "    </tr>\n",
       "    <tr>\n",
       "      <th>2018-01-27</th>\n",
       "      <td>-2.890740</td>\n",
       "      <td>2.103144</td>\n",
       "      <td>-1.235973</td>\n",
       "    </tr>\n",
       "    <tr>\n",
       "      <th>2018-01-28</th>\n",
       "      <td>-1.132884</td>\n",
       "      <td>0.612355</td>\n",
       "      <td>-1.013967</td>\n",
       "    </tr>\n",
       "    <tr>\n",
       "      <th>2018-01-29</th>\n",
       "      <td>0.159970</td>\n",
       "      <td>0.035509</td>\n",
       "      <td>-1.586117</td>\n",
       "    </tr>\n",
       "    <tr>\n",
       "      <th>2018-01-30</th>\n",
       "      <td>0.435176</td>\n",
       "      <td>2.409575</td>\n",
       "      <td>-1.209576</td>\n",
       "    </tr>\n",
       "    <tr>\n",
       "      <th>...</th>\n",
       "      <td>...</td>\n",
       "      <td>...</td>\n",
       "      <td>...</td>\n",
       "    </tr>\n",
       "    <tr>\n",
       "      <th>2018-03-12</th>\n",
       "      <td>-8.402334</td>\n",
       "      <td>0.574446</td>\n",
       "      <td>12.070075</td>\n",
       "    </tr>\n",
       "    <tr>\n",
       "      <th>2018-03-13</th>\n",
       "      <td>-8.537874</td>\n",
       "      <td>2.124349</td>\n",
       "      <td>10.745433</td>\n",
       "    </tr>\n",
       "    <tr>\n",
       "      <th>2018-03-14</th>\n",
       "      <td>-6.986543</td>\n",
       "      <td>3.062695</td>\n",
       "      <td>12.205965</td>\n",
       "    </tr>\n",
       "    <tr>\n",
       "      <th>2018-03-15</th>\n",
       "      <td>-7.291117</td>\n",
       "      <td>3.560937</td>\n",
       "      <td>12.629402</td>\n",
       "    </tr>\n",
       "    <tr>\n",
       "      <th>2018-03-16</th>\n",
       "      <td>-7.630217</td>\n",
       "      <td>3.787336</td>\n",
       "      <td>13.513734</td>\n",
       "    </tr>\n",
       "    <tr>\n",
       "      <th>2018-03-17</th>\n",
       "      <td>-7.242256</td>\n",
       "      <td>4.086098</td>\n",
       "      <td>14.578498</td>\n",
       "    </tr>\n",
       "    <tr>\n",
       "      <th>2018-03-18</th>\n",
       "      <td>-7.198941</td>\n",
       "      <td>2.753301</td>\n",
       "      <td>15.146335</td>\n",
       "    </tr>\n",
       "    <tr>\n",
       "      <th>2018-03-19</th>\n",
       "      <td>-7.567532</td>\n",
       "      <td>2.686578</td>\n",
       "      <td>15.939685</td>\n",
       "    </tr>\n",
       "    <tr>\n",
       "      <th>2018-03-20</th>\n",
       "      <td>-7.593206</td>\n",
       "      <td>3.279731</td>\n",
       "      <td>15.592518</td>\n",
       "    </tr>\n",
       "    <tr>\n",
       "      <th>2018-03-21</th>\n",
       "      <td>-8.176978</td>\n",
       "      <td>4.024234</td>\n",
       "      <td>16.642284</td>\n",
       "    </tr>\n",
       "    <tr>\n",
       "      <th>2018-03-22</th>\n",
       "      <td>-7.687990</td>\n",
       "      <td>4.124048</td>\n",
       "      <td>17.638495</td>\n",
       "    </tr>\n",
       "    <tr>\n",
       "      <th>2018-03-23</th>\n",
       "      <td>-7.012866</td>\n",
       "      <td>4.295360</td>\n",
       "      <td>15.755719</td>\n",
       "    </tr>\n",
       "    <tr>\n",
       "      <th>2018-03-24</th>\n",
       "      <td>-5.896501</td>\n",
       "      <td>4.863228</td>\n",
       "      <td>16.278969</td>\n",
       "    </tr>\n",
       "    <tr>\n",
       "      <th>2018-03-25</th>\n",
       "      <td>-6.175370</td>\n",
       "      <td>5.114601</td>\n",
       "      <td>16.275551</td>\n",
       "    </tr>\n",
       "    <tr>\n",
       "      <th>2018-03-26</th>\n",
       "      <td>-5.732267</td>\n",
       "      <td>2.865228</td>\n",
       "      <td>15.959888</td>\n",
       "    </tr>\n",
       "    <tr>\n",
       "      <th>2018-03-27</th>\n",
       "      <td>-4.550863</td>\n",
       "      <td>1.128821</td>\n",
       "      <td>17.039446</td>\n",
       "    </tr>\n",
       "    <tr>\n",
       "      <th>2018-03-28</th>\n",
       "      <td>-4.445214</td>\n",
       "      <td>0.842873</td>\n",
       "      <td>17.517072</td>\n",
       "    </tr>\n",
       "    <tr>\n",
       "      <th>2018-03-29</th>\n",
       "      <td>-5.902384</td>\n",
       "      <td>0.527781</td>\n",
       "      <td>18.774613</td>\n",
       "    </tr>\n",
       "    <tr>\n",
       "      <th>2018-03-30</th>\n",
       "      <td>-5.658326</td>\n",
       "      <td>1.630978</td>\n",
       "      <td>16.624470</td>\n",
       "    </tr>\n",
       "    <tr>\n",
       "      <th>2018-03-31</th>\n",
       "      <td>-6.186358</td>\n",
       "      <td>1.154180</td>\n",
       "      <td>17.186354</td>\n",
       "    </tr>\n",
       "    <tr>\n",
       "      <th>2018-04-01</th>\n",
       "      <td>-6.941128</td>\n",
       "      <td>2.632045</td>\n",
       "      <td>16.262080</td>\n",
       "    </tr>\n",
       "    <tr>\n",
       "      <th>2018-04-02</th>\n",
       "      <td>-6.279178</td>\n",
       "      <td>2.533495</td>\n",
       "      <td>15.820642</td>\n",
       "    </tr>\n",
       "    <tr>\n",
       "      <th>2018-04-03</th>\n",
       "      <td>-5.428320</td>\n",
       "      <td>2.585850</td>\n",
       "      <td>17.778619</td>\n",
       "    </tr>\n",
       "    <tr>\n",
       "      <th>2018-04-04</th>\n",
       "      <td>-4.788704</td>\n",
       "      <td>2.650892</td>\n",
       "      <td>17.772253</td>\n",
       "    </tr>\n",
       "    <tr>\n",
       "      <th>2018-04-05</th>\n",
       "      <td>-5.232348</td>\n",
       "      <td>1.941742</td>\n",
       "      <td>17.238096</td>\n",
       "    </tr>\n",
       "    <tr>\n",
       "      <th>2018-04-06</th>\n",
       "      <td>-5.602954</td>\n",
       "      <td>3.031220</td>\n",
       "      <td>18.781866</td>\n",
       "    </tr>\n",
       "    <tr>\n",
       "      <th>2018-04-07</th>\n",
       "      <td>-5.261251</td>\n",
       "      <td>3.878618</td>\n",
       "      <td>17.473909</td>\n",
       "    </tr>\n",
       "    <tr>\n",
       "      <th>2018-04-08</th>\n",
       "      <td>-5.678493</td>\n",
       "      <td>3.626702</td>\n",
       "      <td>17.562709</td>\n",
       "    </tr>\n",
       "    <tr>\n",
       "      <th>2018-04-09</th>\n",
       "      <td>-7.810280</td>\n",
       "      <td>3.581437</td>\n",
       "      <td>15.244550</td>\n",
       "    </tr>\n",
       "    <tr>\n",
       "      <th>2018-04-10</th>\n",
       "      <td>-8.863691</td>\n",
       "      <td>4.056978</td>\n",
       "      <td>13.717825</td>\n",
       "    </tr>\n",
       "  </tbody>\n",
       "</table>\n",
       "<p>100 rows × 3 columns</p>\n",
       "</div>"
      ],
      "text/plain": [
       "                   A         B          C\n",
       "2018-01-01 -0.671252 -0.477536  -0.578729\n",
       "2018-01-02  0.642491 -0.644268  -1.750704\n",
       "2018-01-03 -0.765222  0.129705  -2.232769\n",
       "2018-01-04 -2.252108  1.883626  -3.167262\n",
       "2018-01-05 -3.218727  1.005550  -2.438347\n",
       "2018-01-06 -3.629375  0.434749  -2.499418\n",
       "2018-01-07 -4.235182  1.003464  -1.953671\n",
       "2018-01-08 -2.695371  1.331095  -1.560747\n",
       "2018-01-09 -4.196602  2.528404  -2.793944\n",
       "2018-01-10 -3.135209  2.164965  -2.784911\n",
       "2018-01-11 -4.766633  1.124678  -1.903510\n",
       "2018-01-12 -4.234360  0.790556  -2.091766\n",
       "2018-01-13 -4.816799  0.310948  -2.474500\n",
       "2018-01-14 -5.167824  0.918772  -2.484750\n",
       "2018-01-15 -3.939065  0.001298  -2.375967\n",
       "2018-01-16 -2.938126 -0.188252  -1.904795\n",
       "2018-01-17 -4.010135 -0.833053  -1.271756\n",
       "2018-01-18 -5.235263 -0.105527  -0.154737\n",
       "2018-01-19 -4.840385 -0.219371  -2.045431\n",
       "2018-01-20 -4.682037  0.471623  -2.692928\n",
       "2018-01-21 -4.655451  2.215519  -2.242717\n",
       "2018-01-22 -4.740381  0.694220  -1.244209\n",
       "2018-01-23 -2.915642 -0.303292  -1.588296\n",
       "2018-01-24 -3.595580  0.644317  -0.282446\n",
       "2018-01-25 -2.811460  0.470765   0.707924\n",
       "2018-01-26 -2.872141  1.047108  -0.354654\n",
       "2018-01-27 -2.890740  2.103144  -1.235973\n",
       "2018-01-28 -1.132884  0.612355  -1.013967\n",
       "2018-01-29  0.159970  0.035509  -1.586117\n",
       "2018-01-30  0.435176  2.409575  -1.209576\n",
       "...              ...       ...        ...\n",
       "2018-03-12 -8.402334  0.574446  12.070075\n",
       "2018-03-13 -8.537874  2.124349  10.745433\n",
       "2018-03-14 -6.986543  3.062695  12.205965\n",
       "2018-03-15 -7.291117  3.560937  12.629402\n",
       "2018-03-16 -7.630217  3.787336  13.513734\n",
       "2018-03-17 -7.242256  4.086098  14.578498\n",
       "2018-03-18 -7.198941  2.753301  15.146335\n",
       "2018-03-19 -7.567532  2.686578  15.939685\n",
       "2018-03-20 -7.593206  3.279731  15.592518\n",
       "2018-03-21 -8.176978  4.024234  16.642284\n",
       "2018-03-22 -7.687990  4.124048  17.638495\n",
       "2018-03-23 -7.012866  4.295360  15.755719\n",
       "2018-03-24 -5.896501  4.863228  16.278969\n",
       "2018-03-25 -6.175370  5.114601  16.275551\n",
       "2018-03-26 -5.732267  2.865228  15.959888\n",
       "2018-03-27 -4.550863  1.128821  17.039446\n",
       "2018-03-28 -4.445214  0.842873  17.517072\n",
       "2018-03-29 -5.902384  0.527781  18.774613\n",
       "2018-03-30 -5.658326  1.630978  16.624470\n",
       "2018-03-31 -6.186358  1.154180  17.186354\n",
       "2018-04-01 -6.941128  2.632045  16.262080\n",
       "2018-04-02 -6.279178  2.533495  15.820642\n",
       "2018-04-03 -5.428320  2.585850  17.778619\n",
       "2018-04-04 -4.788704  2.650892  17.772253\n",
       "2018-04-05 -5.232348  1.941742  17.238096\n",
       "2018-04-06 -5.602954  3.031220  18.781866\n",
       "2018-04-07 -5.261251  3.878618  17.473909\n",
       "2018-04-08 -5.678493  3.626702  17.562709\n",
       "2018-04-09 -7.810280  3.581437  15.244550\n",
       "2018-04-10 -8.863691  4.056978  13.717825\n",
       "\n",
       "[100 rows x 3 columns]"
      ]
     },
     "execution_count": 8,
     "metadata": {},
     "output_type": "execute_result"
    }
   ],
   "source": [
    "df = pd.DataFrame(data, columns=list('ABC'),\n",
    "                  # 2018-01-01부터 100일\n",
    "                 index=pd.date_range('1/1/2018', periods=100)).cumsum()\n",
    "df"
   ]
  },
  {
   "cell_type": "code",
   "execution_count": 9,
   "metadata": {},
   "outputs": [
    {
     "data": {
      "text/plain": [
       "<matplotlib.axes._subplots.AxesSubplot at 0x1d9096f1208>"
      ]
     },
     "execution_count": 9,
     "metadata": {},
     "output_type": "execute_result"
    },
    {
     "data": {
      "image/png": "[encoded data removed]",
      "text/plain": [
       "<Figure size 432x288 with 1 Axes>"
      ]
     },
     "metadata": {
      "needs_background": "light"
     },
     "output_type": "display_data"
    }
   ],
   "source": [
    "# 라인 플롯\n",
    "# 결과 해석 : 기본은 라인플롯, 컬럼별로 그래프생성\n",
    "df.plot()"
   ]
  },
  {
   "cell_type": "code",
   "execution_count": 10,
   "metadata": {},
   "outputs": [],
   "source": [
    "# 라이브러리에서 제공하는 기본 데이터 가져오기\n",
    "import seaborn as sns"
   ]
  },
  {
   "cell_type": "code",
   "execution_count": 11,
   "metadata": {},
   "outputs": [],
   "source": [
    "# 붓꽃 데이터 저장\n",
    "iris = sns.load_dataset('iris')"
   ]
  },
  {
   "cell_type": "code",
   "execution_count": 13,
   "metadata": {
    "collapsed": true
   },
   "outputs": [
    {
     "data": {
      "text/plain": [
       "(150, 5)"
      ]
     },
     "execution_count": 13,
     "metadata": {},
     "output_type": "execute_result"
    }
   ],
   "source": [
    "iris.shape"
   ]
  },
  {
   "cell_type": "code",
   "execution_count": 12,
   "metadata": {
    "collapsed": true
   },
   "outputs": [
    {
     "data": {
      "text/html": [
       "<div>\n",
       "<style scoped>\n",
       "    .dataframe tbody tr th:only-of-type {\n",
       "        vertical-align: middle;\n",
       "    }\n",
       "\n",
       "    .dataframe tbody tr th {\n",
       "        vertical-align: top;\n",
       "    }\n",
       "\n",
       "    .dataframe thead th {\n",
       "        text-align: right;\n",
       "    }\n",
       "</style>\n",
       "<table border=\"1\" class=\"dataframe\">\n",
       "  <thead>\n",
       "    <tr style=\"text-align: right;\">\n",
       "      <th></th>\n",
       "      <th>sepal_length</th>\n",
       "      <th>sepal_width</th>\n",
       "      <th>petal_length</th>\n",
       "      <th>petal_width</th>\n",
       "      <th>species</th>\n",
       "    </tr>\n",
       "  </thead>\n",
       "  <tbody>\n",
       "    <tr>\n",
       "      <th>0</th>\n",
       "      <td>5.1</td>\n",
       "      <td>3.5</td>\n",
       "      <td>1.4</td>\n",
       "      <td>0.2</td>\n",
       "      <td>setosa</td>\n",
       "    </tr>\n",
       "    <tr>\n",
       "      <th>1</th>\n",
       "      <td>4.9</td>\n",
       "      <td>3.0</td>\n",
       "      <td>1.4</td>\n",
       "      <td>0.2</td>\n",
       "      <td>setosa</td>\n",
       "    </tr>\n",
       "    <tr>\n",
       "      <th>2</th>\n",
       "      <td>4.7</td>\n",
       "      <td>3.2</td>\n",
       "      <td>1.3</td>\n",
       "      <td>0.2</td>\n",
       "      <td>setosa</td>\n",
       "    </tr>\n",
       "    <tr>\n",
       "      <th>3</th>\n",
       "      <td>4.6</td>\n",
       "      <td>3.1</td>\n",
       "      <td>1.5</td>\n",
       "      <td>0.2</td>\n",
       "      <td>setosa</td>\n",
       "    </tr>\n",
       "    <tr>\n",
       "      <th>4</th>\n",
       "      <td>5.0</td>\n",
       "      <td>3.6</td>\n",
       "      <td>1.4</td>\n",
       "      <td>0.2</td>\n",
       "      <td>setosa</td>\n",
       "    </tr>\n",
       "  </tbody>\n",
       "</table>\n",
       "</div>"
      ],
      "text/plain": [
       "   sepal_length  sepal_width  petal_length  petal_width species\n",
       "0           5.1          3.5           1.4          0.2  setosa\n",
       "1           4.9          3.0           1.4          0.2  setosa\n",
       "2           4.7          3.2           1.3          0.2  setosa\n",
       "3           4.6          3.1           1.5          0.2  setosa\n",
       "4           5.0          3.6           1.4          0.2  setosa"
      ]
     },
     "execution_count": 12,
     "metadata": {},
     "output_type": "execute_result"
    }
   ],
   "source": [
    "iris.head()"
   ]
  },
  {
   "cell_type": "code",
   "execution_count": 14,
   "metadata": {},
   "outputs": [],
   "source": [
    "font_name = matplotlib.font_manager.FontProperties(\n",
    "    fname='C:/Windows/Fonts/malgun.ttf').get_name()\n",
    "matplotlib.rc('font', family=font_name)"
   ]
  },
  {
   "cell_type": "markdown",
   "metadata": {},
   "source": [
    "### IRIS dataset\n",
    "\n",
    "- 데이터 분석 실습에서 가장 많이 활용되는 붓꽃 데이터셋\n",
    "- 총 3개의 붓꽃 종에 대한 꽃잎과 꽃밭침의 길이 및 너비 측정 데이터가 각 종마다 50개씩 총 150개 저장\n",
    "\n",
    "<img src='img/iris1.jpg' width='600' height='400' align='left'>\n",
    "<img src='img/iris2.png' width='300' height='300' align='center'>"
   ]
  },
  {
   "cell_type": "code",
   "execution_count": 21,
   "metadata": {},
   "outputs": [
    {
     "data": {
      "image/png": "[encoded data removed]",
      "text/plain": [
       "<Figure size 432x288 with 1 Axes>"
      ]
     },
     "metadata": {
      "needs_background": "light"
     },
     "output_type": "display_data"
    }
   ],
   "source": [
    "# sepal_length(꽃받침 길이)의 20개 샘플에 대하여 bar graph로 시각화\n",
    "# 결과 해석 : \n",
    "iris['sepal_length'][:20].plot(kind='bar', rot=0)\n",
    "plt.title('< 샘플 20개의 꽃받침 길이 >')\n",
    "plt.xlabel('샘플번호')\n",
    "plt.ylabel('길이(cm)')\n",
    "plt.show()"
   ]
  },
  {
   "cell_type": "code",
   "execution_count": 24,
   "metadata": {},
   "outputs": [
    {
     "data": {
      "image/png": "[encoded data removed]",
      "text/plain": [
       "<Figure size 432x288 with 1 Axes>"
      ]
     },
     "metadata": {
      "needs_background": "light"
     },
     "output_type": "display_data"
    }
   ],
   "source": [
    "# 샘플 데이터(5개)의 각 속성값(4개)에 대해서 bar graph 생성\n",
    "# 결과 해석 : \n",
    "iris[:5].plot(kind='bar')\n",
    "plt.ylim(0, 8)\n",
    "plt.show()"
   ]
  },
  {
   "cell_type": "code",
   "execution_count": 27,
   "metadata": {},
   "outputs": [],
   "source": [
    "# 각 종별로 4개 속성값의 평균 \n",
    "# groupby : 종\n",
    "# 집계함수 : 평균\n",
    "df1 = iris.groupby(iris['species']).mean()"
   ]
  },
  {
   "cell_type": "code",
   "execution_count": 30,
   "metadata": {},
   "outputs": [
    {
     "data": {
      "image/png": "[encoded data removed]",
      "text/plain": [
       "<Figure size 432x288 with 1 Axes>"
      ]
     },
     "metadata": {
      "needs_background": "light"
     },
     "output_type": "display_data"
    }
   ],
   "source": [
    "# bar graph로 시각화\n",
    "# 결과 해석 : \n",
    "df1.plot(kind='bar')\n",
    "plt.ylim(0, 8)\n",
    "plt.show()"
   ]
  },
  {
   "cell_type": "code",
   "execution_count": 31,
   "metadata": {},
   "outputs": [
    {
     "data": {
      "text/html": [
       "<div>\n",
       "<style scoped>\n",
       "    .dataframe tbody tr th:only-of-type {\n",
       "        vertical-align: middle;\n",
       "    }\n",
       "\n",
       "    .dataframe tbody tr th {\n",
       "        vertical-align: top;\n",
       "    }\n",
       "\n",
       "    .dataframe thead th {\n",
       "        text-align: right;\n",
       "    }\n",
       "</style>\n",
       "<table border=\"1\" class=\"dataframe\">\n",
       "  <thead>\n",
       "    <tr style=\"text-align: right;\">\n",
       "      <th></th>\n",
       "      <th>sepal_length</th>\n",
       "      <th>sepal_width</th>\n",
       "      <th>petal_length</th>\n",
       "      <th>petal_width</th>\n",
       "    </tr>\n",
       "    <tr>\n",
       "      <th>species</th>\n",
       "      <th></th>\n",
       "      <th></th>\n",
       "      <th></th>\n",
       "      <th></th>\n",
       "    </tr>\n",
       "  </thead>\n",
       "  <tbody>\n",
       "    <tr>\n",
       "      <th>setosa</th>\n",
       "      <td>5.006</td>\n",
       "      <td>3.428</td>\n",
       "      <td>1.462</td>\n",
       "      <td>0.246</td>\n",
       "    </tr>\n",
       "    <tr>\n",
       "      <th>versicolor</th>\n",
       "      <td>5.936</td>\n",
       "      <td>2.770</td>\n",
       "      <td>4.260</td>\n",
       "      <td>1.326</td>\n",
       "    </tr>\n",
       "    <tr>\n",
       "      <th>virginica</th>\n",
       "      <td>6.588</td>\n",
       "      <td>2.974</td>\n",
       "      <td>5.552</td>\n",
       "      <td>2.026</td>\n",
       "    </tr>\n",
       "  </tbody>\n",
       "</table>\n",
       "</div>"
      ],
      "text/plain": [
       "            sepal_length  sepal_width  petal_length  petal_width\n",
       "species                                                         \n",
       "setosa             5.006        3.428         1.462        0.246\n",
       "versicolor         5.936        2.770         4.260        1.326\n",
       "virginica          6.588        2.974         5.552        2.026"
      ]
     },
     "execution_count": 31,
     "metadata": {},
     "output_type": "execute_result"
    }
   ],
   "source": [
    "df1"
   ]
  },
  {
   "cell_type": "code",
   "execution_count": 32,
   "metadata": {},
   "outputs": [
    {
     "data": {
      "image/png": "[encoded data removed]",
      "text/plain": [
       "<Figure size 432x288 with 1 Axes>"
      ]
     },
     "metadata": {
      "needs_background": "light"
     },
     "output_type": "display_data"
    }
   ],
   "source": [
    "# x, y축 전치\n",
    "df1.T.plot(kind='bar')\n",
    "plt.ylim(0, 8)\n",
    "plt.show()"
   ]
  },
  {
   "cell_type": "code",
   "execution_count": 34,
   "metadata": {},
   "outputs": [
    {
     "data": {
      "text/html": [
       "<div>\n",
       "<style scoped>\n",
       "    .dataframe tbody tr th:only-of-type {\n",
       "        vertical-align: middle;\n",
       "    }\n",
       "\n",
       "    .dataframe tbody tr th {\n",
       "        vertical-align: top;\n",
       "    }\n",
       "\n",
       "    .dataframe thead th {\n",
       "        text-align: right;\n",
       "    }\n",
       "</style>\n",
       "<table border=\"1\" class=\"dataframe\">\n",
       "  <thead>\n",
       "    <tr style=\"text-align: right;\">\n",
       "      <th></th>\n",
       "      <th>sepal_length</th>\n",
       "      <th>sepal_width</th>\n",
       "      <th>petal_length</th>\n",
       "      <th>petal_width</th>\n",
       "      <th>species</th>\n",
       "    </tr>\n",
       "  </thead>\n",
       "  <tbody>\n",
       "    <tr>\n",
       "      <th>0</th>\n",
       "      <td>5.1</td>\n",
       "      <td>3.5</td>\n",
       "      <td>1.4</td>\n",
       "      <td>0.2</td>\n",
       "      <td>setosa</td>\n",
       "    </tr>\n",
       "  </tbody>\n",
       "</table>\n",
       "</div>"
      ],
      "text/plain": [
       "   sepal_length  sepal_width  petal_length  petal_width species\n",
       "0           5.1          3.5           1.4          0.2  setosa"
      ]
     },
     "execution_count": 34,
     "metadata": {},
     "output_type": "execute_result"
    }
   ],
   "source": [
    "iris.head(1)"
   ]
  },
  {
   "cell_type": "code",
   "execution_count": 33,
   "metadata": {},
   "outputs": [
    {
     "data": {
      "text/plain": [
       "<matplotlib.axes._subplots.AxesSubplot at 0x1d90b3c68d0>"
      ]
     },
     "execution_count": 33,
     "metadata": {},
     "output_type": "execute_result"
    },
    {
     "data": {
      "image/png": "[encoded data removed]",
      "text/plain": [
       "<Figure size 432x288 with 1 Axes>"
      ]
     },
     "metadata": {
      "needs_background": "light"
     },
     "output_type": "display_data"
    }
   ],
   "source": [
    "# 각 속성별로 데이터 값에 대한 기술통계값 및 이상치 확인\n",
    "# 결과 해석 : 컬럼별로, 연속형데이터에 대해서 각각의 박스플롯을 하나의 이미지에 출력\n",
    "iris.plot(kind='box')"
   ]
  },
  {
   "cell_type": "code",
   "execution_count": 36,
   "metadata": {
    "collapsed": true
   },
   "outputs": [
    {
     "data": {
      "text/plain": [
       "<matplotlib.axes._subplots.AxesSubplot at 0x1d90b5cfbe0>"
      ]
     },
     "execution_count": 36,
     "metadata": {},
     "output_type": "execute_result"
    },
    {
     "data": {
      "image/png": "[encoded data removed]",
      "text/plain": [
       "<Figure size 432x288 with 1 Axes>"
      ]
     },
     "metadata": {
      "needs_background": "light"
     },
     "output_type": "display_data"
    }
   ],
   "source": [
    "# 종별로 속성별 box-plot\n",
    "iris[iris['species']=='setosa'].plot(kind='box')"
   ]
  },
  {
   "cell_type": "code",
   "execution_count": 37,
   "metadata": {
    "collapsed": true
   },
   "outputs": [
    {
     "data": {
      "text/plain": [
       "array(['setosa', 'versicolor', 'virginica'], dtype=object)"
      ]
     },
     "execution_count": 37,
     "metadata": {},
     "output_type": "execute_result"
    }
   ],
   "source": [
    "iris['species'].unique()"
   ]
  },
  {
   "cell_type": "code",
   "execution_count": 38,
   "metadata": {
    "collapsed": true
   },
   "outputs": [
    {
     "data": {
      "text/plain": [
       "<matplotlib.axes._subplots.AxesSubplot at 0x1d90b668c88>"
      ]
     },
     "execution_count": 38,
     "metadata": {},
     "output_type": "execute_result"
    },
    {
     "data": {
      "image/png": "[encoded data removed]",
      "text/plain": [
       "<Figure size 432x288 with 1 Axes>"
      ]
     },
     "metadata": {
      "needs_background": "light"
     },
     "output_type": "display_data"
    }
   ],
   "source": [
    "iris[iris['species']=='versicolor'].plot(kind='box')"
   ]
  },
  {
   "cell_type": "code",
   "execution_count": 39,
   "metadata": {},
   "outputs": [
    {
     "data": {
      "text/plain": [
       "<matplotlib.axes._subplots.AxesSubplot at 0x1d90b66bb38>"
      ]
     },
     "execution_count": 39,
     "metadata": {},
     "output_type": "execute_result"
    },
    {
     "data": {
      "image/png": "[encoded data removed]",
      "text/plain": [
       "<Figure size 432x288 with 1 Axes>"
      ]
     },
     "metadata": {
      "needs_background": "light"
     },
     "output_type": "display_data"
    }
   ],
   "source": [
    "iris[iris['species']=='virginica'].plot(kind='box')"
   ]
  },
  {
   "cell_type": "code",
   "execution_count": 45,
   "metadata": {
    "scrolled": true
   },
   "outputs": [
    {
     "data": {
      "image/png": "[encoded data removed]",
      "text/plain": [
       "<Figure size 432x288 with 4 Axes>"
      ]
     },
     "metadata": {
      "needs_background": "light"
     },
     "output_type": "display_data"
    }
   ],
   "source": [
    "# 속성별로 품종에 대한 box plot 생성 \n",
    "# iris.boxplot(by='species')\n",
    "# iris.plot(kind='box')\n",
    "iris.boxplot(by='species')\n",
    "plt.tight_layout(pad=3)   # 여백 조정\n",
    "plt.show()"
   ]
  },
  {
   "cell_type": "code",
   "execution_count": null,
   "metadata": {},
   "outputs": [],
   "source": []
  }
 ],
 "metadata": {
  "kernelspec": {
   "display_name": "Python 3",
   "language": "python",
   "name": "python3"
  },
  "language_info": {
   "codemirror_mode": {
    "name": "ipython",
    "version": 3
   },
   "file_extension": ".py",
   "mimetype": "text/x-python",
   "name": "python",
   "nbconvert_exporter": "python",
   "pygments_lexer": "ipython3",
   "version": "3.7.3"
  }
 },
 "nbformat": 4,
 "nbformat_minor": 2
}
